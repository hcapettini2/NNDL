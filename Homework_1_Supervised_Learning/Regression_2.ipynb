{
 "cells": [
  {
   "cell_type": "markdown",
   "id": "8cd7c77a",
   "metadata": {},
   "source": [
    "# Neural Networks and Deep Learning\n",
    "\n",
    "## Homework 1 - Regression task\n",
    "\n",
    "### Academic Year 2021/2022 \n",
    "### Dr. Alberto Testolin, Dr. Umberto Michieli\n",
    "\n",
    "### Capettini Croatto Hilario\n",
    "\n"
   ]
  },
  {
   "cell_type": "markdown",
   "id": "f217faa5",
   "metadata": {
    "id": "bNENm7RHGFMd"
   },
   "source": [
    "## General overview\n",
    "In this notebook implemented and tested simple neural network models for solving supervised problems. \n",
    "\n",
    "* **Regression task**: \n",
    "the regression model will consist in a simple function approximation problem, similar to the one discussed during the Lab practices. \n",
    "\n",
    "\n",
    "In this case I explored the use of advanced optimizers and regularization methods (e.g., initialization scheme, momentum, ADAM, early stopping, L2, L1 / sparsity, dropout…) to improve convergence of stochastic gradient descent and promote generalization. Learning hyperparameters were tuned using a grid search, and final accuracy was evaluated using a cross-validation setup.\n"
   ]
  },
  {
   "cell_type": "markdown",
   "id": "14c4fe7f",
   "metadata": {
    "id": "rZCClsi8vrYi"
   },
   "source": [
    "# Regression task"
   ]
  },
  {
   "cell_type": "markdown",
   "id": "d591c00a",
   "metadata": {
    "id": "zs0AM6W_yoMs"
   },
   "source": [
    "* The goal is to train a neural network to approximate an unknown function:\n",
    "$$ \n",
    "f:\\mathbb{R}→\\mathbb{R} \\\\\n",
    "x↦y=f(x) \\\\\n",
    "\\text{network}(x) \\approx f(x)\n",
    "$$\n",
    "* As training point, you only have noisy measures from the target function.\n",
    "$$\n",
    "\\hat{y} = f(x) + noise\n",
    "$$\n",
    "* Consider to create a validation set from you training data, or use a k-fold cross-validation strategy. You may find useful these functions from the `scikit-learn` library:\n",
    "    - [train_test_split](https://scikit-learn.org/stable/modules/generated/sklearn.model_selection.train_test_split.html)\n",
    "    - [KFold](https://scikit-learn.org/stable/modules/generated/sklearn.model_selection.KFold.html#sklearn.model_selection.KFold) "
   ]
  },
  {
   "cell_type": "code",
   "execution_count": 1,
   "id": "51d78cd1",
   "metadata": {},
   "outputs": [
    {
     "name": "stderr",
     "output_type": "stream",
     "text": [
      "C:\\Users\\hilar\\anaconda3\\envs\\NNDL_torch\\lib\\site-packages\\tqdm\\auto.py:22: TqdmWarning: IProgress not found. Please update jupyter and ipywidgets. See https://ipywidgets.readthedocs.io/en/stable/user_install.html\n",
      "  from .autonotebook import tqdm as notebook_tqdm\n"
     ]
    }
   ],
   "source": [
    "#---------------\n",
    "#IMPORTS\n",
    "#---------------\n",
    "### Python basics\n",
    "import numpy as np\n",
    "import pandas as pd\n",
    "import random\n",
    "import matplotlib.pyplot as plt\n",
    "\n",
    "### Torch library\n",
    "import torch\n",
    "from torch import nn\n",
    "import torch.optim as optim\n",
    "\n",
    "import pytorch_lightning as pl\n",
    "\n",
    "### Skorch\n",
    "from skorch import NeuralNetRegressor\n",
    "from skorch.callbacks import EarlyStopping\n",
    "from sklearn.model_selection import GridSearchCV\n"
   ]
  },
  {
   "cell_type": "code",
   "execution_count": 2,
   "id": "93c85b89",
   "metadata": {},
   "outputs": [],
   "source": [
    "### Set seeds for reproducibility (PyTorch, Python, Numpy)\n",
    "matricola = 2013031\n",
    "torch.manual_seed(matricola)\n",
    "random.seed(matricola)\n",
    "np.random.seed(matricola)\n"
   ]
  },
  {
   "cell_type": "code",
   "execution_count": 61,
   "id": "3b9e4c75",
   "metadata": {},
   "outputs": [
    {
     "name": "stdout",
     "output_type": "stream",
     "text": [
      "Training device: cpu\n"
     ]
    }
   ],
   "source": [
    "### Check if the GPU is available\n",
    "device = torch.device(\"cuda\") if torch.cuda.is_available() else torch.device(\"cpu\")\n",
    "print(f\"Training device: {device}\")\n"
   ]
  },
  {
   "cell_type": "markdown",
   "id": "2f028655",
   "metadata": {},
   "source": [
    "### Data preview"
   ]
  },
  {
   "cell_type": "code",
   "execution_count": 62,
   "id": "45929150",
   "metadata": {},
   "outputs": [
    {
     "name": "stdout",
     "output_type": "stream",
     "text": [
      "# of samples for training 100\n",
      "# of samples for testing 100\n"
     ]
    }
   ],
   "source": [
    "df_train = pd.read_csv('regression_dataset/train_data.csv',names=[\"x\",\"y\"])\n",
    "df_test  = pd.read_csv('regression_dataset/test_data.csv',names=[\"x\",\"y\"])\n",
    "\n",
    "print(\"# of samples for training\", len(df_train))\n",
    "print(\"# of samples for testing\", len(df_test))"
   ]
  },
  {
   "cell_type": "code",
   "execution_count": 63,
   "id": "d23e3aa8",
   "metadata": {},
   "outputs": [
    {
     "data": {
      "text/plain": [
       "x    0\n",
       "y    0\n",
       "dtype: int64"
      ]
     },
     "execution_count": 63,
     "metadata": {},
     "output_type": "execute_result"
    }
   ],
   "source": [
    "### detect nan objects\n",
    "df_train.isna().sum()"
   ]
  },
  {
   "cell_type": "code",
   "execution_count": 64,
   "id": "8b7c197a",
   "metadata": {},
   "outputs": [
    {
     "data": {
      "text/html": [
       "<div>\n",
       "<style scoped>\n",
       "    .dataframe tbody tr th:only-of-type {\n",
       "        vertical-align: middle;\n",
       "    }\n",
       "\n",
       "    .dataframe tbody tr th {\n",
       "        vertical-align: top;\n",
       "    }\n",
       "\n",
       "    .dataframe thead th {\n",
       "        text-align: right;\n",
       "    }\n",
       "</style>\n",
       "<table border=\"1\" class=\"dataframe\">\n",
       "  <thead>\n",
       "    <tr style=\"text-align: right;\">\n",
       "      <th></th>\n",
       "      <th>x</th>\n",
       "      <th>y</th>\n",
       "    </tr>\n",
       "  </thead>\n",
       "  <tbody>\n",
       "    <tr>\n",
       "      <th>0</th>\n",
       "      <td>-4.787870</td>\n",
       "      <td>-1.216804</td>\n",
       "    </tr>\n",
       "    <tr>\n",
       "      <th>1</th>\n",
       "      <td>-3.509057</td>\n",
       "      <td>3.277581</td>\n",
       "    </tr>\n",
       "    <tr>\n",
       "      <th>2</th>\n",
       "      <td>-3.855373</td>\n",
       "      <td>2.621375</td>\n",
       "    </tr>\n",
       "    <tr>\n",
       "      <th>3</th>\n",
       "      <td>-4.083518</td>\n",
       "      <td>1.046088</td>\n",
       "    </tr>\n",
       "    <tr>\n",
       "      <th>4</th>\n",
       "      <td>-4.230588</td>\n",
       "      <td>1.228874</td>\n",
       "    </tr>\n",
       "  </tbody>\n",
       "</table>\n",
       "</div>"
      ],
      "text/plain": [
       "          x         y\n",
       "0 -4.787870 -1.216804\n",
       "1 -3.509057  3.277581\n",
       "2 -3.855373  2.621375\n",
       "3 -4.083518  1.046088\n",
       "4 -4.230588  1.228874"
      ]
     },
     "execution_count": 64,
     "metadata": {},
     "output_type": "execute_result"
    }
   ],
   "source": [
    "df_train.head()"
   ]
  },
  {
   "cell_type": "code",
   "execution_count": 65,
   "id": "26c1a249",
   "metadata": {
    "scrolled": false
   },
   "outputs": [
    {
     "data": {
      "image/png": "[encoded data removed]",
      "text/plain": [
       "<Figure size 504x360 with 1 Axes>"
      ]
     },
     "metadata": {
      "needs_background": "light"
     },
     "output_type": "display_data"
    }
   ],
   "source": [
    "circle1 = plt.Circle((2, 2.7), 1, color='b', fill=False)\n",
    "circle2 = plt.Circle((-2, 4), 1.3, color='b', fill=False)\n",
    "\n",
    "#Lets see our dataset\n",
    "fig = plt.figure(figsize=(7,5))\n",
    "plt.plot(df_train.x,df_train.y, color='r', ls='', marker='.',ms=10, label='Train data points')\n",
    "plt.plot(df_test.x,df_test.y, color='g', ls='', marker='.',ms=10, label='Test data points')\n",
    "plt.gca().add_patch(circle1)\n",
    "plt.gca().add_patch(circle2)\n",
    "plt.xlabel(\"Input\",fontsize=15)\n",
    "plt.ylabel(\"Label\",fontsize=15)\n",
    "plt.title(\"Training and test dataset\",fontsize=15)\n",
    "plt.legend()\n",
    "plt.grid()\n",
    "plt.savefig('./imgs/regression/dataset.svg', format='svg')\n",
    "plt.show()"
   ]
  },
  {
   "cell_type": "markdown",
   "id": "3ec29f4e",
   "metadata": {},
   "source": [
    "Observe the absence of training points in the two local maximums (at -2 and at 2). This will cause some problems in our model since we have to capture it even though we do not have points for training. This has to be overcome getting a network with a big ability for generalizing."
   ]
  },
  {
   "cell_type": "markdown",
   "id": "ce27d526",
   "metadata": {},
   "source": [
    "**Pre-process the data**\n",
    "We implement a basic pre processing of the data to attempt a faster convergence of the network. We go for feature standardization.\n"
   ]
  },
  {
   "cell_type": "code",
   "execution_count": 66,
   "id": "4e26081e",
   "metadata": {},
   "outputs": [],
   "source": [
    "### Extract data from datasets\n",
    "# As the dataset is really small i wont use pytorch datasets classes here\n",
    "x_train = np.array(df_train.x)\n",
    "y_train = np.array(df_train.y)\n",
    "x_train=np.expand_dims(x_train, axis=1)\n",
    "y_train=np.expand_dims(y_train, axis=1)\n",
    "\n",
    "\n",
    "### feature standarization of the data\n",
    "x_train = (x_train - x_train.mean())/x_train.std()\n",
    "y_train = (y_train - y_train.mean())/y_train.std()\n",
    "\n",
    "\n",
    "### Convert to pytorch tensors \n",
    "x_train=torch.from_numpy(x_train).float()\n",
    "y_train=torch.from_numpy(y_train).float()"
   ]
  },
  {
   "cell_type": "markdown",
   "id": "9853ab5e",
   "metadata": {},
   "source": [
    "### Model"
   ]
  },
  {
   "cell_type": "code",
   "execution_count": 25,
   "id": "c7453f61",
   "metadata": {},
   "outputs": [],
   "source": [
    "class regressionNN(pl.LightningModule):\n",
    "    \n",
    "    def __init__(self, Nh1, Nh2, d1, d2,activation = nn.ReLU(),prints=False):\n",
    "        \"\"\"\n",
    "        This function initialize the networks architecture given the parameters\n",
    "        \n",
    "        Nh1 - Neurons in the 1st hidden layer\n",
    "        Nh2 - Neurons in the 2nd hidden layer\n",
    "        d1  - drop percent for hidden layer 1\n",
    "        d2  - drop percent for hidden layer 2\n",
    "        \"\"\"\n",
    "        super().__init__()\n",
    "        if prints: print(\"Network initialized\")\n",
    "        \n",
    "        self.net = nn.Sequential(nn.Linear(in_features  = 1,\n",
    "                                           out_features = Nh1),\n",
    "                                 activation,\n",
    "                                 nn.Dropout(p=d1),\n",
    "                                 nn.Linear(in_features  = Nh1,\n",
    "                                           out_features = Nh2),\n",
    "                                 activation,\n",
    "                                 nn.Dropout(p=d2),\n",
    "                                 nn.Linear(in_features  = Nh2,\n",
    "                                           out_features = 1))\n",
    "        \n",
    "        ### initialize variables to store the losses for tensorboard\n",
    "        self.val_loss = []\n",
    "        self.train_loss = []\n",
    "        \n",
    "    # Forward step defines how the LightningModule behaves during inference/prediction.\n",
    "    def forward(self, x, additional_out=False):\n",
    "        return self.net(x)\n",
    "    "
   ]
  },
  {
   "cell_type": "markdown",
   "id": "6ce159c5",
   "metadata": {},
   "source": [
    "### Hyperparameters optimization using Skorch \n",
    "\n",
    "For the regression task I go for the traditional gridsearch method given that the NN to use are small and therefore it is relatively fast to train them. Also because the trainig set is quiete small (a maximum of 100 points)."
   ]
  },
  {
   "cell_type": "code",
   "execution_count": 8,
   "id": "9c529c39",
   "metadata": {},
   "outputs": [],
   "source": [
    "### Extract data from datasets\n",
    "# As the dataset is really small i wont use pytorch datasets classes here\n",
    "x_train = np.array(df_train.x)\n",
    "y_train = np.array(df_train.y)\n",
    "\n",
    "### Convert to pytorch tensors of the right dimension\n",
    "x_train=np.expand_dims(x_train, axis=1)\n",
    "y_train=np.expand_dims(y_train, axis=1)\n",
    "x_train=torch.from_numpy(x_train).float()\n",
    "y_train=torch.from_numpy(y_train).float()\n"
   ]
  },
  {
   "cell_type": "markdown",
   "id": "54fc0a3d",
   "metadata": {},
   "source": [
    "As I will be searching over a huge ammount of models (combination of different hyperparameters given a fixed architecture) I think it could be usefull to use the [early stop](https://skorch.readthedocs.io/en/stable/callbacks.html) from Skorch to avoid further training a model if the validation loss is not showing further improvements.\n",
    "\n",
    "I define the network using the [NeuralNetRegressor](https://skorch.readthedocs.io/en/stable/regressor.html) subclass of Skorch in order to profit from the [GridSearchCV](https://scikit-learn.org/stable/modules/generated/sklearn.model_selection.GridSearchCV.html). In parcicular I use this class from Sklearn because allow me to perform a cross validation. In this case I do it because our training set is already very small (100 samples) so keeping a validation set appart could prive us from usefull data for the training.\n",
    "\n",
    "The cross validation is performed using 5 folds and a maximum of 1000 epochs."
   ]
  },
  {
   "cell_type": "code",
   "execution_count": 9,
   "id": "73356e32",
   "metadata": {},
   "outputs": [],
   "source": [
    "#Parameters\n",
    "kf = 5                #Number of folds for the cross validation\n",
    "maximum_epochs = 1000 #Maximum number of epochs\n",
    "\n",
    "#Define early stopping capabilities\n",
    "early_stop = EarlyStopping(monitor='valid_loss',\n",
    "                           lower_is_better = True,\n",
    "                           patience=100,\n",
    "                           threshold=1e-3,\n",
    "                           threshold_mode='rel'\n",
    "                           )\n",
    "\n",
    "#Network definition using skorch for the sklearn gridsearch\n",
    "net_skorch = NeuralNetRegressor(module = regressionNN,               #Our NN model followed by the model parameters\n",
    "                                module__Nh1 = 50,\n",
    "                                module__Nh2 = 50,\n",
    "                                module__d1 = 0.,\n",
    "                                module__d2 = 0.,\n",
    "                                optimizer = optim.SGD,               #The model optimizer \n",
    "                                optimizer__lr = 1e-4,                #Optimizer learning rate \n",
    "                                optimizer__weight_decay = 0.,        #Optimizer seight decay for L2 regularization\n",
    "                                max_epochs=maximum_epochs,           \n",
    "                                criterion =nn.MSELoss,               #Loss function to be used \n",
    "                                callbacks = [early_stop],            #Check of the validation loss for the early stop\n",
    "                                verbose=1\n",
    "                                )\n",
    "\n",
    "#Define the dictionary for the gridsearch\n",
    "#The search space grows very fast so I only try critical parameters\n",
    "params = {\"module__Nh1\":[25,50,75,100],\n",
    "          \"module__Nh2\":[25,50,75,100],\n",
    "          \"module__d1\": [0,0.01,0.1],\n",
    "          \"module__d2\": [0,0.01,0.1],\n",
    "          \"optimizer\":[optim.Adam],    #SGD is not worth trying \n",
    "          \"optimizer__lr\":[1e-3,1e-2],\n",
    "          \"optimizer__weight_decay\":[1e-3,1e-4,1e-5]\n",
    "          }\n",
    "\n",
    "#Define the gridsearch\n",
    "gs = GridSearchCV(net_skorch,\n",
    "                  params,\n",
    "                  refit=True,\n",
    "                  cv=kf,\n",
    "                  n_jobs = 2,\n",
    "                  scoring='neg_mean_squared_error',\n",
    "                  verbose=1)\n"
   ]
  },
  {
   "cell_type": "code",
   "execution_count": 10,
   "id": "aca7ad0f",
   "metadata": {},
   "outputs": [
    {
     "name": "stdout",
     "output_type": "stream",
     "text": [
      "Fitting 5 folds for each of 864 candidates, totalling 4320 fits\n",
      "  epoch    train_loss    valid_loss     dur\n",
      "-------  ------------  ------------  ------\n",
      "      1       \u001b[36m12.4027\u001b[0m        \u001b[32m7.9724\u001b[0m  0.0398\n",
      "      2        \u001b[36m5.6031\u001b[0m       14.9950  0.0067\n",
      "      3        \u001b[36m2.7744\u001b[0m       14.9292  0.0073\n",
      "      4        3.4699        9.1443  0.0058\n",
      "      5        4.0695        \u001b[32m5.2354\u001b[0m  0.0045\n",
      "      6        3.2248        \u001b[32m4.1430\u001b[0m  0.0052\n",
      "      7        \u001b[36m2.5500\u001b[0m        \u001b[32m3.9442\u001b[0m  0.0055\n",
      "      8        \u001b[36m2.0085\u001b[0m        \u001b[32m3.8673\u001b[0m  0.0050\n",
      "      9        2.0595        \u001b[32m3.7850\u001b[0m  0.0072\n",
      "     10        2.3352        3.9859  0.0065\n",
      "     11        2.0640        4.8586  0.0057\n",
      "     12        2.0749        6.3734  0.0058\n",
      "     13        \u001b[36m1.8492\u001b[0m        7.8103  0.0068\n",
      "     14        1.8541        7.4122  0.0065\n",
      "     15        \u001b[36m1.6831\u001b[0m        5.8880  0.0068\n",
      "     16        1.7929        4.3882  0.0056\n",
      "     17        1.8092        \u001b[32m3.5617\u001b[0m  0.0052\n",
      "     18        1.7378        \u001b[32m3.2610\u001b[0m  0.0053\n",
      "     19        \u001b[36m1.6210\u001b[0m        3.2694  0.0051\n",
      "     20        \u001b[36m1.5563\u001b[0m        3.2997  0.0059\n",
      "     21        1.7071        \u001b[32m3.2348\u001b[0m  0.0040\n",
      "     22        1.7280        \u001b[32m3.1293\u001b[0m  0.0070\n",
      "     23        1.7201        3.1544  0.0058\n",
      "     24        \u001b[36m1.5241\u001b[0m        3.4925  0.0064\n",
      "     25        \u001b[36m1.4798\u001b[0m        4.0431  0.0063\n",
      "     26        1.6638        4.3926  0.0059\n",
      "     27        1.5794        4.3883  0.0074\n",
      "     28        1.5741        4.0253  0.0076\n",
      "     29        1.5271        3.5559  0.0055\n",
      "     30        \u001b[36m1.4493\u001b[0m        3.1639  0.0054\n",
      "     31        \u001b[36m1.4475\u001b[0m        \u001b[32m2.9301\u001b[0m  0.0055\n",
      "     32        \u001b[36m1.3942\u001b[0m        \u001b[32m2.8617\u001b[0m  0.0076\n",
      "     33        1.6453        \u001b[32m2.8441\u001b[0m  0.0070\n",
      "     34        1.4278        \u001b[32m2.8401\u001b[0m  0.0058\n",
      "     35        1.4497        2.9639  0.0070\n",
      "     36        \u001b[36m1.3222\u001b[0m        3.2328  0.0052\n",
      "     37        1.3928        3.4695  0.0062\n",
      "     38        1.4263        3.6159  0.0069\n",
      "     39        1.4232        3.5648  0.0075\n",
      "     40        1.3528        3.3315  0.0070\n",
      "     41        1.3853        3.0673  0.0068\n",
      "     42        1.3850        2.8505  0.0075\n",
      "     43        1.3444        \u001b[32m2.7138\u001b[0m  0.0073\n",
      "     44        \u001b[36m1.2848\u001b[0m        \u001b[32m2.6406\u001b[0m  0.0074\n",
      "     45        \u001b[36m1.2712\u001b[0m        \u001b[32m2.5964\u001b[0m  0.0077\n",
      "     46        \u001b[36m1.2304\u001b[0m        2.5990  0.0085\n",
      "     47        1.3087        2.6229  0.0067\n",
      "     48        1.2388        2.6594  0.0057\n",
      "     49        \u001b[36m1.1374\u001b[0m        2.6664  0.0070\n",
      "     50        \u001b[36m1.0780\u001b[0m        2.6722  0.0067\n",
      "     51        1.1490        2.6713  0.0070\n",
      "     52        1.0838        2.6675  0.0080\n",
      "     53        1.1972        2.6445  0.0056\n",
      "     54        \u001b[36m1.0594\u001b[0m        2.6402  0.0086\n",
      "     55        1.1731        2.6243  0.0086\n",
      "     56        1.0877        2.6002  0.0080\n",
      "     57        1.0908        \u001b[32m2.5082\u001b[0m  0.0070\n",
      "     58        \u001b[36m0.9909\u001b[0m        \u001b[32m2.3881\u001b[0m  0.0092\n",
      "     59        0.9994        \u001b[32m2.2806\u001b[0m  0.0073\n",
      "     60        \u001b[36m0.9851\u001b[0m        \u001b[32m2.2048\u001b[0m  0.0064\n",
      "     61        \u001b[36m0.8830\u001b[0m        \u001b[32m2.1550\u001b[0m  0.0080\n",
      "     62        0.9743        \u001b[32m2.1530\u001b[0m  0.0080\n",
      "     63        0.8966        2.2126  0.0080\n",
      "     64        0.8831        2.2959  0.0066\n",
      "     65        \u001b[36m0.8811\u001b[0m        2.2495  0.0056\n",
      "     66        \u001b[36m0.7375\u001b[0m        \u001b[32m2.1011\u001b[0m  0.0100\n",
      "     67        0.9084        \u001b[32m1.9811\u001b[0m  0.0080\n",
      "     68        0.7741        \u001b[32m1.9095\u001b[0m  0.0063\n",
      "     69        0.8105        \u001b[32m1.8792\u001b[0m  0.0072\n",
      "     70        0.8192        1.8859  0.0078\n",
      "     71        \u001b[36m0.5964\u001b[0m        1.9070  0.0068\n",
      "     72        0.6307        1.9226  0.0073\n",
      "     73        0.6016        \u001b[32m1.8573\u001b[0m  0.0055\n",
      "     74        0.6455        \u001b[32m1.7157\u001b[0m  0.0074\n",
      "     75        0.6869        \u001b[32m1.6579\u001b[0m  0.0059\n",
      "     76        \u001b[36m0.5374\u001b[0m        \u001b[32m1.6287\u001b[0m  0.0081\n",
      "     77        0.5469        1.6345  0.0070\n",
      "     78        \u001b[36m0.5369\u001b[0m        1.6405  0.0084\n",
      "     79        0.5637        1.6392  0.0060\n",
      "     80        0.5781        \u001b[32m1.5977\u001b[0m  0.0070\n",
      "     81        \u001b[36m0.5318\u001b[0m        \u001b[32m1.5392\u001b[0m  0.0070\n",
      "     82        \u001b[36m0.4730\u001b[0m        \u001b[32m1.4772\u001b[0m  0.0057\n",
      "     83        0.4772        \u001b[32m1.4463\u001b[0m  0.0076\n",
      "     84        0.5166        \u001b[32m1.4264\u001b[0m  0.0073\n",
      "     85        \u001b[36m0.4329\u001b[0m        \u001b[32m1.4205\u001b[0m  0.0068\n",
      "     86        0.4464        1.4209  0.0075\n",
      "     87        \u001b[36m0.3625\u001b[0m        \u001b[32m1.4074\u001b[0m  0.0077\n",
      "     88        0.4800        \u001b[32m1.3437\u001b[0m  0.0065\n",
      "     89        0.4111        \u001b[32m1.3137\u001b[0m  0.0073\n",
      "     90        0.5458        \u001b[32m1.2880\u001b[0m  0.0075\n",
      "     91        0.5884        \u001b[32m1.2755\u001b[0m  0.0071\n",
      "     92        0.3727        \u001b[32m1.2684\u001b[0m  0.0094\n",
      "     93        0.5279        \u001b[32m1.2389\u001b[0m  0.0079\n",
      "     94        0.5844        \u001b[32m1.2052\u001b[0m  0.0063\n",
      "     95        0.5109        \u001b[32m1.1855\u001b[0m  0.0079\n",
      "     96        \u001b[36m0.3284\u001b[0m        \u001b[32m1.1818\u001b[0m  0.0108\n",
      "     97        0.3928        \u001b[32m1.1338\u001b[0m  0.0071\n",
      "     98        0.4298        \u001b[32m1.1087\u001b[0m  0.0064\n",
      "     99        0.3835        \u001b[32m1.0968\u001b[0m  0.0065\n",
      "    100        0.4617        1.1170  0.0066\n",
      "    101        0.3649        \u001b[32m1.0865\u001b[0m  0.0059\n",
      "    102        0.3494        \u001b[32m1.0329\u001b[0m  0.0078\n",
      "    103        0.3967        1.0385  0.0080\n",
      "    104        0.3671        1.0542  0.0066\n",
      "    105        0.4166        1.0427  0.0069\n",
      "    106        \u001b[36m0.3188\u001b[0m        \u001b[32m0.9778\u001b[0m  0.0090\n",
      "    107        0.3652        \u001b[32m0.9488\u001b[0m  0.0082\n",
      "    108        0.3655        \u001b[32m0.9369\u001b[0m  0.0092\n",
      "    109        0.3246        \u001b[32m0.9327\u001b[0m  0.0087\n",
      "    110        0.3275        \u001b[32m0.8892\u001b[0m  0.0074\n",
      "    111        \u001b[36m0.2744\u001b[0m        \u001b[32m0.8686\u001b[0m  0.0080\n",
      "    112        0.5051        \u001b[32m0.8586\u001b[0m  0.0083\n",
      "    113        \u001b[36m0.2378\u001b[0m        0.9217  0.0080\n",
      "    114        0.3487        0.8647  0.0096\n",
      "    115        0.2979        \u001b[32m0.8087\u001b[0m  0.0090\n",
      "    116        0.2385        \u001b[32m0.7973\u001b[0m  0.0100\n",
      "    117        0.3721        \u001b[32m0.7886\u001b[0m  0.0090\n",
      "    118        0.3805        0.8768  0.0077\n",
      "    119        0.3422        \u001b[32m0.7603\u001b[0m  0.0087\n",
      "    120        0.3288        \u001b[32m0.7503\u001b[0m  0.0080\n",
      "    121        0.3162        \u001b[32m0.7415\u001b[0m  0.0080\n",
      "    122        0.2918        0.7733  0.0076\n",
      "    123        0.2565        0.7652  0.0051\n",
      "    124        0.3194        \u001b[32m0.7335\u001b[0m  0.0076\n",
      "    125        0.2653        \u001b[32m0.7243\u001b[0m  0.0063\n",
      "    126        0.3315        \u001b[32m0.7110\u001b[0m  0.0065\n",
      "    127        0.2659        \u001b[32m0.7099\u001b[0m  0.0074\n",
      "    128        0.3524        0.7543  0.0080\n",
      "    129        0.2887        0.7868  0.0064\n",
      "    130        0.2858        \u001b[32m0.6845\u001b[0m  0.0070\n",
      "    131        0.3220        0.6990  0.0062\n",
      "    132        0.3341        0.7015  0.0080\n",
      "    133        0.2882        0.8040  0.0070\n",
      "    134        0.2897        0.7195  0.0071\n",
      "    135        0.2905        0.7052  0.0070\n",
      "    136        0.2573        0.7028  0.0068\n",
      "    137        0.3247        0.7233  0.0080\n",
      "    138        0.2581        0.8563  0.0080\n",
      "    139        0.3233        \u001b[32m0.6651\u001b[0m  0.0053\n",
      "    140        0.3804        0.6930  0.0060\n",
      "    141        0.3003        0.7034  0.0060\n",
      "    142        0.2993        \u001b[32m0.6620\u001b[0m  0.0070\n",
      "    143        0.3074        0.8572  0.0067\n",
      "    144        0.2887        0.6948  0.0077\n",
      "    145        0.3030        0.6709  0.0070\n",
      "    146        0.3242        0.6908  0.0062\n",
      "    147        0.2970        \u001b[32m0.6547\u001b[0m  0.0080\n",
      "    148        0.2694        0.7496  0.0077\n",
      "    149        0.3101        0.6623  0.0060\n",
      "    150        0.3128        0.6815  0.0082\n",
      "    151        0.2841        0.6893  0.0076\n",
      "    152        0.2656        0.6932  0.0074\n",
      "    153        0.3568        0.7187  0.0053\n",
      "    154        0.2858        0.6826  0.0070\n",
      "    155        0.2694        \u001b[32m0.6499\u001b[0m  0.0074\n",
      "    156        0.2711        0.6651  0.0071\n",
      "    157        0.2486        \u001b[32m0.6220\u001b[0m  0.0076\n",
      "    158        0.2875        0.6353  0.0075\n",
      "    159        0.2999        \u001b[32m0.6135\u001b[0m  0.0070\n",
      "    160        0.3077        \u001b[32m0.6076\u001b[0m  0.0070\n"
     ]
    },
    {
     "name": "stdout",
     "output_type": "stream",
     "text": [
      "    161        0.2485        \u001b[32m0.6021\u001b[0m  0.0086\n",
      "    162        0.2955        0.6056  0.0065\n",
      "    163        \u001b[36m0.2347\u001b[0m        0.6056  0.0073\n",
      "    164        0.3073        \u001b[32m0.5907\u001b[0m  0.0067\n",
      "    165        0.2819        \u001b[32m0.5845\u001b[0m  0.0083\n",
      "    166        0.2924        0.6143  0.0087\n",
      "    167        0.2724        \u001b[32m0.5774\u001b[0m  0.0068\n",
      "    168        0.2894        0.5790  0.0080\n",
      "    169        0.3125        0.5980  0.0083\n",
      "    170        0.3031        0.6032  0.0080\n",
      "    171        0.2536        0.6900  0.0087\n",
      "    172        0.3241        0.6258  0.0056\n",
      "    173        0.3566        0.6699  0.0081\n",
      "    174        0.3049        0.6346  0.0050\n",
      "    175        0.2968        0.6658  0.0070\n",
      "    176        0.2459        0.6618  0.0070\n",
      "    177        0.3366        0.6387  0.0090\n",
      "    178        \u001b[36m0.1948\u001b[0m        0.6762  0.0071\n",
      "    179        0.2983        0.6041  0.0070\n",
      "    180        0.2636        0.7403  0.0070\n",
      "    181        0.3724        0.7001  0.0070\n",
      "    182        0.2850        0.6770  0.0070\n",
      "    183        0.3198        0.8105  0.0080\n",
      "    184        0.2778        0.6708  0.0091\n",
      "    185        0.2865        0.7869  0.0081\n",
      "    186        0.2352        0.8064  0.0090\n",
      "    187        0.2799        0.6817  0.0080\n",
      "    188        0.2590        0.6806  0.0086\n",
      "    189        0.2395        0.6987  0.0096\n",
      "    190        0.2460        0.6567  0.0070\n",
      "    191        0.2774        0.7243  0.0072\n",
      "    192        0.2884        0.7168  0.0090\n",
      "    193        0.2896        0.6602  0.0080\n",
      "    194        0.2447        0.6830  0.0070\n",
      "    195        0.2452        0.6868  0.0080\n",
      "    196        0.2469        0.6845  0.0090\n",
      "    197        0.3231        0.7182  0.0070\n",
      "    198        0.2401        0.6769  0.0090\n",
      "    199        0.2809        0.6524  0.0060\n",
      "    200        0.2822        0.6450  0.0080\n",
      "    201        0.3435        0.6402  0.0070\n",
      "    202        0.2518        0.6092  0.0069\n",
      "    203        0.3966        0.5974  0.0100\n",
      "    204        0.3361        0.5950  0.0102\n",
      "    205        0.3375        0.5977  0.0081\n",
      "    206        0.4078        0.6118  0.0078\n",
      "    207        0.3108        0.6287  0.0070\n",
      "    208        0.3680        0.6795  0.0086\n",
      "    209        0.2822        0.6469  0.0077\n",
      "    210        0.3808        0.6260  0.0060\n",
      "    211        0.3398        0.6241  0.0066\n",
      "    212        0.2692        0.5888  0.0050\n",
      "    213        0.3254        0.6210  0.0060\n",
      "    214        0.2803        0.5798  0.0070\n",
      "    215        0.2565        0.6404  0.0070\n",
      "    216        0.3118        0.7035  0.0080\n",
      "    217        0.2693        0.6042  0.0080\n",
      "    218        0.2691        0.7426  0.0080\n",
      "    219        0.3082        0.7046  0.0070\n",
      "    220        0.2390        0.6950  0.0070\n",
      "    221        0.3248        0.7858  0.0074\n",
      "    222        0.2660        0.7246  0.0060\n",
      "    223        0.2698        0.6990  0.0059\n",
      "    224        0.2901        0.7714  0.0072\n",
      "    225        0.3006        0.6516  0.0055\n",
      "    226        0.2782        0.6951  0.0080\n",
      "    227        0.3677        0.6765  0.0050\n",
      "    228        0.2766        0.6305  0.0070\n",
      "    229        \u001b[36m0.1885\u001b[0m        0.7136  0.0070\n",
      "    230        0.2756        0.6452  0.0057\n",
      "    231        0.2393        0.6466  0.0080\n",
      "    232        0.2961        0.6546  0.0070\n",
      "    233        0.2220        0.6360  0.0070\n",
      "    234        0.3249        0.6498  0.0052\n",
      "    235        0.2290        0.6503  0.0090\n",
      "    236        0.2599        0.6303  0.0060\n",
      "    237        0.2595        0.6300  0.0061\n",
      "    238        0.3007        0.6457  0.0060\n",
      "    239        0.2798        0.6057  0.0060\n",
      "    240        0.2601        0.6073  0.0079\n",
      "    241        0.3020        0.6592  0.0080\n",
      "    242        0.2857        0.5841  0.0070\n",
      "    243        0.3518        0.6135  0.0080\n",
      "    244        0.2115        0.6381  0.0070\n",
      "    245        0.3674        0.6145  0.0090\n",
      "    246        0.2782        0.6860  0.0100\n",
      "    247        0.2863        0.6468  0.0080\n",
      "    248        0.3910        0.6408  0.0070\n",
      "    249        0.2721        0.6293  0.0070\n",
      "    250        0.3058        0.6096  0.0060\n",
      "    251        0.2711        0.6359  0.0080\n",
      "    252        0.2897        0.6033  0.0080\n",
      "    253        0.2481        0.6306  0.0057\n",
      "    254        0.2084        0.6450  0.0046\n",
      "    255        0.2505        0.5944  0.0080\n",
      "    256        0.2399        0.6035  0.0070\n",
      "    257        0.2343        0.6373  0.0077\n",
      "    258        0.2404        0.6025  0.0072\n",
      "    259        0.3094        0.6063  0.0060\n",
      "    260        0.3191        0.6407  0.0059\n",
      "    261        0.3251        0.5985  0.0080\n",
      "    262        0.2526        0.6755  0.0080\n",
      "    263        0.2950        0.6179  0.0060\n",
      "    264        0.2203        0.6354  0.0080\n",
      "    265        0.3368        0.6340  0.0080\n",
      "    266        0.2631        0.6233  0.0070\n",
      "Stopping since valid_loss has not improved in the last 100 epochs.\n"
     ]
    },
    {
     "data": {
      "text/html": [
       "<style>#sk-container-id-1 {color: black;background-color: white;}#sk-container-id-1 pre{padding: 0;}#sk-container-id-1 div.sk-toggleable {background-color: white;}#sk-container-id-1 label.sk-toggleable__label {cursor: pointer;display: block;width: 100%;margin-bottom: 0;padding: 0.3em;box-sizing: border-box;text-align: center;}#sk-container-id-1 label.sk-toggleable__label-arrow:before {content: \"▸\";float: left;margin-right: 0.25em;color: #696969;}#sk-container-id-1 label.sk-toggleable__label-arrow:hover:before {color: black;}#sk-container-id-1 div.sk-estimator:hover label.sk-toggleable__label-arrow:before {color: black;}#sk-container-id-1 div.sk-toggleable__content {max-height: 0;max-width: 0;overflow: hidden;text-align: left;background-color: #f0f8ff;}#sk-container-id-1 div.sk-toggleable__content pre {margin: 0.2em;color: black;border-radius: 0.25em;background-color: #f0f8ff;}#sk-container-id-1 input.sk-toggleable__control:checked~div.sk-toggleable__content {max-height: 200px;max-width: 100%;overflow: auto;}#sk-container-id-1 input.sk-toggleable__control:checked~label.sk-toggleable__label-arrow:before {content: \"▾\";}#sk-container-id-1 div.sk-estimator input.sk-toggleable__control:checked~label.sk-toggleable__label {background-color: #d4ebff;}#sk-container-id-1 div.sk-label input.sk-toggleable__control:checked~label.sk-toggleable__label {background-color: #d4ebff;}#sk-container-id-1 input.sk-hidden--visually {border: 0;clip: rect(1px 1px 1px 1px);clip: rect(1px, 1px, 1px, 1px);height: 1px;margin: -1px;overflow: hidden;padding: 0;position: absolute;width: 1px;}#sk-container-id-1 div.sk-estimator {font-family: monospace;background-color: #f0f8ff;border: 1px dotted black;border-radius: 0.25em;box-sizing: border-box;margin-bottom: 0.5em;}#sk-container-id-1 div.sk-estimator:hover {background-color: #d4ebff;}#sk-container-id-1 div.sk-parallel-item::after {content: \"\";width: 100%;border-bottom: 1px solid gray;flex-grow: 1;}#sk-container-id-1 div.sk-label:hover label.sk-toggleable__label {background-color: #d4ebff;}#sk-container-id-1 div.sk-serial::before {content: \"\";position: absolute;border-left: 1px solid gray;box-sizing: border-box;top: 0;bottom: 0;left: 50%;z-index: 0;}#sk-container-id-1 div.sk-serial {display: flex;flex-direction: column;align-items: center;background-color: white;padding-right: 0.2em;padding-left: 0.2em;position: relative;}#sk-container-id-1 div.sk-item {position: relative;z-index: 1;}#sk-container-id-1 div.sk-parallel {display: flex;align-items: stretch;justify-content: center;background-color: white;position: relative;}#sk-container-id-1 div.sk-item::before, #sk-container-id-1 div.sk-parallel-item::before {content: \"\";position: absolute;border-left: 1px solid gray;box-sizing: border-box;top: 0;bottom: 0;left: 50%;z-index: -1;}#sk-container-id-1 div.sk-parallel-item {display: flex;flex-direction: column;z-index: 1;position: relative;background-color: white;}#sk-container-id-1 div.sk-parallel-item:first-child::after {align-self: flex-end;width: 50%;}#sk-container-id-1 div.sk-parallel-item:last-child::after {align-self: flex-start;width: 50%;}#sk-container-id-1 div.sk-parallel-item:only-child::after {width: 0;}#sk-container-id-1 div.sk-dashed-wrapped {border: 1px dashed gray;margin: 0 0.4em 0.5em 0.4em;box-sizing: border-box;padding-bottom: 0.4em;background-color: white;}#sk-container-id-1 div.sk-label label {font-family: monospace;font-weight: bold;display: inline-block;line-height: 1.2em;}#sk-container-id-1 div.sk-label-container {text-align: center;}#sk-container-id-1 div.sk-container {/* jupyter's `normalize.less` sets `[hidden] { display: none; }` but bootstrap.min.css set `[hidden] { display: none !important; }` so we also need the `!important` here to be able to override the default hidden behavior on the sphinx rendered scikit-learn.org. See: https://github.com/scikit-learn/scikit-learn/issues/21755 */display: inline-block !important;position: relative;}#sk-container-id-1 div.sk-text-repr-fallback {display: none;}</style><div id=\"sk-container-id-1\" class=\"sk-top-container\"><div class=\"sk-text-repr-fallback\"><pre>GridSearchCV(cv=5,\n",
       "             estimator=&lt;class &#x27;skorch.regressor.NeuralNetRegressor&#x27;&gt;[uninitialized](\n",
       "  module=&lt;class &#x27;__main__.regressionNN&#x27;&gt;,\n",
       "  module__Nh1=50,\n",
       "  module__Nh2=50,\n",
       "  module__d1=0.0,\n",
       "  module__d2=0.0,\n",
       "),\n",
       "             n_jobs=2,\n",
       "             param_grid={&#x27;module__Nh1&#x27;: [25, 50, 75, 100],\n",
       "                         &#x27;module__Nh2&#x27;: [25, 50, 75, 100],\n",
       "                         &#x27;module__d1&#x27;: [0, 0.01, 0.1],\n",
       "                         &#x27;module__d2&#x27;: [0, 0.01, 0.1],\n",
       "                         &#x27;optimizer&#x27;: [&lt;class &#x27;torch.optim.adam.Adam&#x27;&gt;],\n",
       "                         &#x27;optimizer__lr&#x27;: [0.001, 0.01],\n",
       "                         &#x27;optimizer__weight_decay&#x27;: [0.001, 0.0001, 1e-05]},\n",
       "             scoring=&#x27;neg_mean_squared_error&#x27;, verbose=1)</pre><b>In a Jupyter environment, please rerun this cell to show the HTML representation or trust the notebook. <br />On GitHub, the HTML representation is unable to render, please try loading this page with nbviewer.org.</b></div><div class=\"sk-container\" hidden><div class=\"sk-item sk-dashed-wrapped\"><div class=\"sk-label-container\"><div class=\"sk-label sk-toggleable\"><input class=\"sk-toggleable__control sk-hidden--visually\" id=\"sk-estimator-id-1\" type=\"checkbox\" ><label for=\"sk-estimator-id-1\" class=\"sk-toggleable__label sk-toggleable__label-arrow\">GridSearchCV</label><div class=\"sk-toggleable__content\"><pre>GridSearchCV(cv=5,\n",
       "             estimator=&lt;class &#x27;skorch.regressor.NeuralNetRegressor&#x27;&gt;[uninitialized](\n",
       "  module=&lt;class &#x27;__main__.regressionNN&#x27;&gt;,\n",
       "  module__Nh1=50,\n",
       "  module__Nh2=50,\n",
       "  module__d1=0.0,\n",
       "  module__d2=0.0,\n",
       "),\n",
       "             n_jobs=2,\n",
       "             param_grid={&#x27;module__Nh1&#x27;: [25, 50, 75, 100],\n",
       "                         &#x27;module__Nh2&#x27;: [25, 50, 75, 100],\n",
       "                         &#x27;module__d1&#x27;: [0, 0.01, 0.1],\n",
       "                         &#x27;module__d2&#x27;: [0, 0.01, 0.1],\n",
       "                         &#x27;optimizer&#x27;: [&lt;class &#x27;torch.optim.adam.Adam&#x27;&gt;],\n",
       "                         &#x27;optimizer__lr&#x27;: [0.001, 0.01],\n",
       "                         &#x27;optimizer__weight_decay&#x27;: [0.001, 0.0001, 1e-05]},\n",
       "             scoring=&#x27;neg_mean_squared_error&#x27;, verbose=1)</pre></div></div></div><div class=\"sk-parallel\"><div class=\"sk-parallel-item\"><div class=\"sk-item\"><div class=\"sk-label-container\"><div class=\"sk-label sk-toggleable\"><input class=\"sk-toggleable__control sk-hidden--visually\" id=\"sk-estimator-id-2\" type=\"checkbox\" ><label for=\"sk-estimator-id-2\" class=\"sk-toggleable__label sk-toggleable__label-arrow\">estimator: NeuralNetRegressor</label><div class=\"sk-toggleable__content\"><pre>&lt;class &#x27;skorch.regressor.NeuralNetRegressor&#x27;&gt;[uninitialized](\n",
       "  module=&lt;class &#x27;__main__.regressionNN&#x27;&gt;,\n",
       "  module__Nh1=50,\n",
       "  module__Nh2=50,\n",
       "  module__d1=0.0,\n",
       "  module__d2=0.0,\n",
       ")</pre></div></div></div><div class=\"sk-serial\"><div class=\"sk-item\"><div class=\"sk-estimator sk-toggleable\"><input class=\"sk-toggleable__control sk-hidden--visually\" id=\"sk-estimator-id-3\" type=\"checkbox\" ><label for=\"sk-estimator-id-3\" class=\"sk-toggleable__label sk-toggleable__label-arrow\">NeuralNetRegressor</label><div class=\"sk-toggleable__content\"><pre>&lt;class &#x27;skorch.regressor.NeuralNetRegressor&#x27;&gt;[uninitialized](\n",
       "  module=&lt;class &#x27;__main__.regressionNN&#x27;&gt;,\n",
       "  module__Nh1=50,\n",
       "  module__Nh2=50,\n",
       "  module__d1=0.0,\n",
       "  module__d2=0.0,\n",
       ")</pre></div></div></div></div></div></div></div></div></div></div>"
      ],
      "text/plain": [
       "GridSearchCV(cv=5,\n",
       "             estimator=<class 'skorch.regressor.NeuralNetRegressor'>[uninitialized](\n",
       "  module=<class '__main__.regressionNN'>,\n",
       "  module__Nh1=50,\n",
       "  module__Nh2=50,\n",
       "  module__d1=0.0,\n",
       "  module__d2=0.0,\n",
       "),\n",
       "             n_jobs=2,\n",
       "             param_grid={'module__Nh1': [25, 50, 75, 100],\n",
       "                         'module__Nh2': [25, 50, 75, 100],\n",
       "                         'module__d1': [0, 0.01, 0.1],\n",
       "                         'module__d2': [0, 0.01, 0.1],\n",
       "                         'optimizer': [<class 'torch.optim.adam.Adam'>],\n",
       "                         'optimizer__lr': [0.001, 0.01],\n",
       "                         'optimizer__weight_decay': [0.001, 0.0001, 1e-05]},\n",
       "             scoring='neg_mean_squared_error', verbose=1)"
      ]
     },
     "execution_count": 10,
     "metadata": {},
     "output_type": "execute_result"
    }
   ],
   "source": [
    "#Perform the grid search\n",
    "gs.fit(x_train, y_train)"
   ]
  },
  {
   "cell_type": "code",
   "execution_count": 11,
   "id": "33cbac2e",
   "metadata": {},
   "outputs": [
    {
     "name": "stdout",
     "output_type": "stream",
     "text": [
      "The best score was -4.627454274892807\n",
      "\n",
      "It was obtained using the following parameters: {'module__Nh1': 75, 'module__Nh2': 75, 'module__d1': 0, 'module__d2': 0.1, 'optimizer': <class 'torch.optim.adam.Adam'>, 'optimizer__lr': 0.01, 'optimizer__weight_decay': 1e-05}\n"
     ]
    }
   ],
   "source": [
    "#print the best model\n",
    "print(\"The best score was\",gs.best_score_)\n",
    "print(\"\")\n",
    "print(\"It was obtained using the following parameters:\", gs.best_params_)"
   ]
  },
  {
   "cell_type": "markdown",
   "id": "0f4607e7",
   "metadata": {},
   "source": [
    "According to the documentation if now we fit the best model we will be performing a cross validation with the number of folds defined in the grid search."
   ]
  },
  {
   "cell_type": "code",
   "execution_count": 12,
   "id": "13a91e0f",
   "metadata": {},
   "outputs": [
    {
     "name": "stdout",
     "output_type": "stream",
     "text": [
      "Re-initializing module because the following parameters were re-set: Nh1, Nh2, d1, d2.\n",
      "Re-initializing criterion.\n",
      "Re-initializing optimizer.\n",
      "  epoch    train_loss    valid_loss     dur\n",
      "-------  ------------  ------------  ------\n",
      "      1       \u001b[36m12.9608\u001b[0m        \u001b[32m4.7460\u001b[0m  0.0062\n",
      "      2        \u001b[36m4.4861\u001b[0m       10.7990  0.0060\n",
      "      3        \u001b[36m2.8128\u001b[0m       13.5730  0.0056\n",
      "      4        4.5563       10.4686  0.0047\n",
      "      5        3.9083        7.2883  0.0049\n",
      "      6        2.9123        5.2829  0.0049\n",
      "      7        \u001b[36m2.3989\u001b[0m        \u001b[32m4.4178\u001b[0m  0.0060\n",
      "      8        2.4964        \u001b[32m4.1390\u001b[0m  0.0060\n",
      "      9        2.4654        \u001b[32m4.0854\u001b[0m  0.0050\n",
      "     10        2.5203        4.1917  0.0063\n",
      "     11        \u001b[36m2.3515\u001b[0m        4.5761  0.0056\n",
      "     12        \u001b[36m1.9789\u001b[0m        5.2387  0.0060\n",
      "     13        \u001b[36m1.8244\u001b[0m        5.6634  0.0055\n",
      "     14        2.0982        5.2897  0.0070\n",
      "     15        \u001b[36m1.7207\u001b[0m        4.4305  0.0063\n",
      "     16        1.9096        \u001b[32m3.5290\u001b[0m  0.0060\n",
      "     17        1.7367        \u001b[32m3.0810\u001b[0m  0.0070\n",
      "     18        \u001b[36m1.5667\u001b[0m        \u001b[32m2.9659\u001b[0m  0.0085\n",
      "     19        \u001b[36m1.4490\u001b[0m        \u001b[32m2.9101\u001b[0m  0.0060\n",
      "     20        1.7494        3.0532  0.0090\n",
      "     21        1.7723        3.4421  0.0060\n",
      "     22        1.6394        3.7315  0.0085\n",
      "     23        1.6301        3.4159  0.0047\n",
      "     24        \u001b[36m1.4150\u001b[0m        \u001b[32m2.8713\u001b[0m  0.0060\n",
      "     25        1.6719        \u001b[32m2.6412\u001b[0m  0.0060\n",
      "     26        1.5850        \u001b[32m2.6303\u001b[0m  0.0059\n",
      "     27        1.6448        \u001b[32m2.6151\u001b[0m  0.0065\n",
      "     28        1.6390        2.6525  0.0060\n",
      "     29        1.5189        2.9230  0.0060\n",
      "     30        1.5542        3.3069  0.0064\n",
      "     31        1.5013        3.6766  0.0070\n",
      "     32        1.4956        3.6285  0.0060\n",
      "     33        \u001b[36m1.3949\u001b[0m        3.3506  0.0070\n",
      "     34        1.4759        3.0311  0.0060\n",
      "     35        1.4932        2.8064  0.0070\n",
      "     36        1.4353        2.6730  0.0057\n",
      "     37        1.4138        \u001b[32m2.5915\u001b[0m  0.0049\n",
      "     38        \u001b[36m1.3425\u001b[0m        \u001b[32m2.5771\u001b[0m  0.0060\n",
      "     39        1.4052        2.6369  0.0050\n",
      "     40        \u001b[36m1.3340\u001b[0m        2.7074  0.0070\n",
      "     41        \u001b[36m1.2774\u001b[0m        2.7373  0.0067\n",
      "     42        \u001b[36m1.2227\u001b[0m        2.7277  0.0060\n",
      "     43        1.3455        2.6191  0.0070\n",
      "     44        1.3161        \u001b[32m2.4865\u001b[0m  0.0070\n",
      "     45        1.2386        \u001b[32m2.3884\u001b[0m  0.0080\n",
      "     46        1.4025        \u001b[32m2.2840\u001b[0m  0.0086\n",
      "     47        1.4533        \u001b[32m2.2312\u001b[0m  0.0078\n",
      "     48        1.3247        2.2529  0.0044\n",
      "     49        1.3290        \u001b[32m2.1724\u001b[0m  0.0054\n",
      "     50        1.4129        \u001b[32m2.1058\u001b[0m  0.0070\n",
      "     51        1.2963        \u001b[32m2.0309\u001b[0m  0.0067\n",
      "     52        \u001b[36m1.1570\u001b[0m        \u001b[32m2.0054\u001b[0m  0.0060\n",
      "     53        1.3115        \u001b[32m1.9407\u001b[0m  0.0068\n",
      "     54        1.2733        \u001b[32m1.9108\u001b[0m  0.0070\n",
      "     55        \u001b[36m1.1499\u001b[0m        1.9207  0.0060\n",
      "     56        1.2611        1.9349  0.0070\n",
      "     57        1.2048        1.9891  0.0060\n",
      "     58        1.2001        \u001b[32m1.9052\u001b[0m  0.0070\n",
      "     59        \u001b[36m1.0900\u001b[0m        \u001b[32m1.7860\u001b[0m  0.0067\n",
      "     60        1.2933        \u001b[32m1.7033\u001b[0m  0.0070\n",
      "     61        1.2046        \u001b[32m1.6629\u001b[0m  0.0070\n",
      "     62        1.2100        1.7057  0.0074\n",
      "     63        1.1279        1.7356  0.0071\n",
      "     64        1.1793        \u001b[32m1.6066\u001b[0m  0.0060\n",
      "     65        1.3163        \u001b[32m1.5070\u001b[0m  0.0080\n",
      "     66        \u001b[36m1.0168\u001b[0m        \u001b[32m1.4139\u001b[0m  0.0060\n",
      "     67        1.2233        \u001b[32m1.4068\u001b[0m  0.0060\n",
      "     68        1.1281        1.4484  0.0060\n",
      "     69        1.1324        1.4437  0.0049\n",
      "     70        1.3043        \u001b[32m1.2629\u001b[0m  0.0060\n",
      "     71        1.0582        \u001b[32m1.1944\u001b[0m  0.0070\n",
      "     72        1.1181        \u001b[32m1.1662\u001b[0m  0.0078\n",
      "     73        \u001b[36m1.0038\u001b[0m        1.2254  0.0087\n",
      "     74        1.1072        1.3748  0.0060\n",
      "     75        1.0700        1.2115  0.0070\n",
      "     76        \u001b[36m1.0002\u001b[0m        \u001b[32m1.0538\u001b[0m  0.0070\n",
      "     77        1.0651        1.0672  0.0060\n",
      "     78        1.0005        \u001b[32m1.0253\u001b[0m  0.0077\n",
      "     79        \u001b[36m0.9562\u001b[0m        1.2899  0.0070\n",
      "     80        0.9927        1.4332  0.0060\n",
      "     81        \u001b[36m0.9433\u001b[0m        \u001b[32m1.0049\u001b[0m  0.0070\n",
      "     82        1.0569        1.0433  0.0070\n",
      "     83        1.1175        1.0657  0.0070\n",
      "     84        0.9842        \u001b[32m0.9643\u001b[0m  0.0071\n",
      "     85        \u001b[36m0.9012\u001b[0m        1.2524  0.0050\n",
      "     86        \u001b[36m0.8791\u001b[0m        1.3075  0.0070\n",
      "     87        0.9139        \u001b[32m0.9346\u001b[0m  0.0050\n",
      "     88        1.0015        \u001b[32m0.9215\u001b[0m  0.0072\n",
      "     89        \u001b[36m0.8626\u001b[0m        \u001b[32m0.8970\u001b[0m  0.0077\n",
      "     90        \u001b[36m0.8182\u001b[0m        \u001b[32m0.8530\u001b[0m  0.0060\n",
      "     91        \u001b[36m0.8089\u001b[0m        0.9759  0.0078\n",
      "     92        \u001b[36m0.7837\u001b[0m        0.8811  0.0060\n",
      "     93        0.8955        \u001b[32m0.7531\u001b[0m  0.0060\n",
      "     94        \u001b[36m0.6870\u001b[0m        \u001b[32m0.7399\u001b[0m  0.0070\n",
      "     95        0.7547        \u001b[32m0.7204\u001b[0m  0.0073\n",
      "     96        0.7367        0.7286  0.0070\n",
      "     97        0.8135        0.7858  0.0070\n",
      "     98        0.7071        0.7588  0.0080\n",
      "     99        0.7112        \u001b[32m0.6936\u001b[0m  0.0072\n",
      "    100        0.6960        \u001b[32m0.6711\u001b[0m  0.0072\n",
      "    101        0.7036        \u001b[32m0.6640\u001b[0m  0.0060\n",
      "    102        \u001b[36m0.6198\u001b[0m        0.6862  0.0080\n",
      "    103        0.7769        \u001b[32m0.6614\u001b[0m  0.0080\n",
      "    104        0.6803        \u001b[32m0.6410\u001b[0m  0.0070\n",
      "    105        \u001b[36m0.6117\u001b[0m        \u001b[32m0.6309\u001b[0m  0.0080\n",
      "    106        0.6732        \u001b[32m0.6267\u001b[0m  0.0090\n",
      "    107        0.6469        0.6539  0.0080\n",
      "    108        0.6277        0.7228  0.0070\n",
      "    109        0.6275        0.6634  0.0091\n",
      "    110        0.6197        0.6308  0.0070\n",
      "    111        \u001b[36m0.4622\u001b[0m        0.6276  0.0076\n",
      "    112        0.4761        0.6522  0.0070\n",
      "    113        0.5794        \u001b[32m0.6098\u001b[0m  0.0090\n",
      "    114        \u001b[36m0.4517\u001b[0m        \u001b[32m0.5970\u001b[0m  0.0065\n",
      "    115        0.5671        \u001b[32m0.5635\u001b[0m  0.0070\n",
      "    116        0.5443        \u001b[32m0.5552\u001b[0m  0.0065\n",
      "    117        \u001b[36m0.4413\u001b[0m        0.5958  0.0060\n",
      "    118        0.4531        0.6238  0.0066\n",
      "    119        0.5575        0.5782  0.0056\n",
      "    120        0.4978        0.5982  0.0080\n",
      "    121        0.4806        0.6103  0.0090\n",
      "    122        0.4665        0.6199  0.0070\n",
      "    123        0.4477        0.6264  0.0079\n",
      "    124        0.4419        0.6109  0.0070\n",
      "    125        0.4710        0.5814  0.0061\n",
      "    126        \u001b[36m0.3584\u001b[0m        0.5817  0.0054\n",
      "    127        0.4339        0.5735  0.0073\n",
      "    128        0.3970        0.6283  0.0066\n",
      "    129        0.3883        0.6606  0.0077\n",
      "    130        0.4597        0.5916  0.0073\n",
      "    131        \u001b[36m0.3315\u001b[0m        0.5895  0.0078\n",
      "    132        0.3422        0.5876  0.0068\n",
      "    133        0.4016        0.6044  0.0071\n",
      "    134        0.4298        0.6194  0.0070\n",
      "    135        0.4053        \u001b[32m0.5419\u001b[0m  0.0066\n",
      "    136        0.3758        0.7036  0.0080\n",
      "    137        0.3422        0.5985  0.0070\n",
      "    138        0.4392        0.6660  0.0092\n",
      "    139        0.3625        0.6708  0.0073\n",
      "    140        0.4163        0.6252  0.0072\n",
      "    141        0.3527        0.6190  0.0075\n",
      "    142        0.3669        0.6654  0.0063\n",
      "    143        0.3691        0.6047  0.0070\n",
      "    144        0.3745        0.8442  0.0080\n",
      "    145        0.3580        0.6845  0.0070\n",
      "    146        0.4106        0.5437  0.0080\n",
      "    147        0.3830        0.5745  0.0080\n",
      "    148        0.3628        \u001b[32m0.5292\u001b[0m  0.0070\n",
      "    149        0.3873        0.6298  0.0102\n",
      "    150        0.4275        0.5998  0.0061\n",
      "    151        0.4030        0.5491  0.0070\n",
      "    152        \u001b[36m0.3069\u001b[0m        0.5408  0.0080\n",
      "    153        0.4289        0.6986  0.0090\n",
      "    154        0.3734        0.6823  0.0090\n",
      "    155        0.5021        0.5488  0.0091\n",
      "    156        \u001b[36m0.2604\u001b[0m        0.5804  0.0070\n",
      "    157        0.4942        0.5606  0.0090\n",
      "    158        0.4255        0.6120  0.0071\n",
      "    159        0.3842        0.6161  0.0060\n",
      "    160        0.4468        0.6073  0.0070\n",
      "    161        0.3706        0.5803  0.0070\n"
     ]
    },
    {
     "name": "stdout",
     "output_type": "stream",
     "text": [
      "    162        0.3146        0.5772  0.0080\n",
      "    163        0.3399        0.5864  0.0090\n",
      "    164        0.3747        0.5925  0.0080\n",
      "    165        0.3437        0.5784  0.0080\n",
      "    166        0.3711        0.5677  0.0110\n",
      "    167        0.3868        0.5703  0.0090\n",
      "    168        0.2846        0.5914  0.0090\n",
      "    169        0.3950        0.6111  0.0070\n",
      "    170        0.2677        0.5710  0.0081\n",
      "    171        0.3504        0.5752  0.0089\n",
      "    172        0.3470        0.5659  0.0073\n",
      "    173        0.3486        0.5636  0.0093\n",
      "    174        0.3491        0.5694  0.0100\n",
      "    175        0.3618        0.5649  0.0090\n",
      "    176        0.2708        0.5583  0.0080\n",
      "    177        0.3067        0.5546  0.0086\n",
      "    178        0.3564        0.5889  0.0100\n",
      "    179        0.4557        0.6170  0.0080\n",
      "    180        0.3223        0.5589  0.0075\n",
      "    181        0.3466        0.5326  0.0070\n",
      "    182        0.2759        0.5317  0.0098\n",
      "    183        0.2942        0.5375  0.0109\n",
      "    184        0.2733        0.5405  0.0114\n",
      "    185        0.3422        0.5442  0.0114\n",
      "    186        0.4149        0.5593  0.0102\n",
      "    187        0.3790        0.5378  0.0087\n",
      "    188        0.2633        0.5797  0.0090\n",
      "    189        0.3898        0.5466  0.0090\n",
      "    190        0.3627        0.5760  0.0080\n",
      "    191        0.2972        0.5636  0.0080\n",
      "    192        0.3161        0.5582  0.0060\n",
      "    193        0.2746        0.5554  0.0060\n",
      "    194        0.2829        0.5999  0.0070\n",
      "    195        0.2967        0.5982  0.0066\n",
      "    196        0.3311        0.5738  0.0070\n",
      "    197        0.3693        0.5796  0.0083\n",
      "    198        0.3033        0.5799  0.0080\n",
      "    199        0.3703        0.5916  0.0080\n",
      "    200        0.3782        0.6755  0.0056\n",
      "    201        0.3003        0.5751  0.0057\n",
      "    202        0.3404        0.7234  0.0080\n",
      "    203        0.3353        0.5699  0.0060\n",
      "    204        0.3335        0.6503  0.0063\n",
      "    205        0.3242        0.8907  0.0082\n",
      "    206        0.2619        0.5756  0.0064\n",
      "    207        0.3127        0.6851  0.0051\n",
      "    208        0.2960        0.6286  0.0080\n",
      "    209        0.2877        0.6500  0.0040\n",
      "    210        0.2914        0.7337  0.0050\n",
      "    211        0.3268        0.5984  0.0050\n",
      "    212        0.3701        0.6971  0.0060\n",
      "    213        0.2969        0.6624  0.0070\n",
      "    214        0.3095        0.6277  0.0070\n",
      "    215        0.3040        0.8251  0.0076\n",
      "    216        0.3608        0.5534  0.0050\n",
      "    217        0.2632        0.6907  0.0080\n",
      "    218        0.2753        0.5654  0.0070\n",
      "    219        0.3076        0.6630  0.0060\n",
      "    220        0.4103        0.6890  0.0080\n",
      "    221        0.3278        0.5841  0.0096\n",
      "    222        0.2999        0.7731  0.0096\n",
      "    223        0.3601        0.5729  0.0080\n",
      "    224        0.3498        0.8186  0.0056\n",
      "    225        0.3629        0.8528  0.0050\n",
      "    226        0.2986        0.5834  0.0060\n",
      "    227        0.3027        0.7695  0.0063\n",
      "    228        0.3065        0.6449  0.0050\n",
      "    229        0.2851        0.6779  0.0054\n",
      "    230        0.3339        0.7930  0.0059\n",
      "    231        0.3932        0.6459  0.0065\n",
      "    232        0.3000        0.6275  0.0066\n",
      "    233        0.3177        0.6133  0.0063\n",
      "    234        \u001b[36m0.2207\u001b[0m        0.5913  0.0057\n",
      "    235        0.2363        0.6105  0.0067\n",
      "    236        0.3196        0.6327  0.0058\n",
      "    237        0.2975        0.5623  0.0071\n",
      "    238        0.3641        0.5546  0.0063\n",
      "    239        0.2926        0.5473  0.0070\n",
      "    240        0.2486        0.5733  0.0070\n",
      "    241        0.2904        0.5798  0.0060\n",
      "    242        0.2481        0.5462  0.0060\n",
      "    243        0.2687        0.5980  0.0065\n",
      "    244        0.2983        0.5808  0.0070\n",
      "    245        0.2506        0.5791  0.0090\n",
      "    246        0.2955        0.6005  0.0050\n",
      "    247        0.3338        0.5971  0.0060\n",
      "Stopping since valid_loss has not improved in the last 100 epochs.\n"
     ]
    },
    {
     "data": {
      "text/plain": [
       "<class 'skorch.regressor.NeuralNetRegressor'>[initialized](\n",
       "  module_=regressionNN(\n",
       "    (net): Sequential(\n",
       "      (0): Linear(in_features=1, out_features=75, bias=True)\n",
       "      (1): ReLU()\n",
       "      (2): Dropout(p=0, inplace=False)\n",
       "      (3): Linear(in_features=75, out_features=75, bias=True)\n",
       "      (4): ReLU()\n",
       "      (5): Dropout(p=0.1, inplace=False)\n",
       "      (6): Linear(in_features=75, out_features=1, bias=True)\n",
       "    )\n",
       "  ),\n",
       ")"
      ]
     },
     "execution_count": 12,
     "metadata": {},
     "output_type": "execute_result"
    }
   ],
   "source": [
    "#Lets retrieve the best model\n",
    "best_nn = gs.best_estimator_\n",
    "\n",
    "#Lets fit this in the training data\n",
    "best_nn.fit(x_train, y_train)\n"
   ]
  },
  {
   "cell_type": "code",
   "execution_count": 13,
   "id": "0db4d7e6",
   "metadata": {},
   "outputs": [
    {
     "data": {
      "image/png": "[encoded data removed]",
      "text/plain": [
       "<Figure size 504x360 with 1 Axes>"
      ]
     },
     "metadata": {
      "needs_background": "light"
     },
     "output_type": "display_data"
    }
   ],
   "source": [
    "#Lets see the losses evolution\n",
    "training_loss   = best_nn.history[:,\"train_loss\"]\n",
    "validation_loss = best_nn.history[:,\"valid_loss\"]\n",
    "\n",
    "#Plot the losses of the best model\n",
    "plt.figure(figsize=(7,5))\n",
    "plt.plot(training_loss, color='r' , label='Training loss')\n",
    "plt.plot(validation_loss, color='g', label='Validation loss')\n",
    "plt.xlabel('Epoch',fontsize=15)\n",
    "plt.ylabel('Loss',fontsize=15)\n",
    "plt.title(\"Losses\",fontsize=15)\n",
    "plt.grid()\n",
    "plt.legend()\n",
    "plt.tight_layout()\n",
    "plt.savefig('./imgs/regression/losses.svg', format='svg')\n",
    "plt.show()"
   ]
  },
  {
   "cell_type": "markdown",
   "id": "88abf757",
   "metadata": {},
   "source": [
    "#### Performance over the test set"
   ]
  },
  {
   "cell_type": "code",
   "execution_count": 14,
   "id": "6f1d7d38",
   "metadata": {},
   "outputs": [],
   "source": [
    "#Extract data from datasets\n",
    "x_test = np.array(df_test.x)\n",
    "y_test = np.array(df_test.y)\n",
    "\n",
    "#Convert to pytorch tensors of the right dimension\n",
    "x_test=np.expand_dims(x_test, axis=1)\n",
    "y_test=np.expand_dims(y_test, axis=1)\n",
    "x_test=torch.from_numpy(x_test).float()\n",
    "y_test=torch.from_numpy(y_test).float()"
   ]
  },
  {
   "cell_type": "code",
   "execution_count": 15,
   "id": "248c6e35",
   "metadata": {},
   "outputs": [],
   "source": [
    "#Predict on the test set\n",
    "y_pred = best_nn.predict(x_test)\n",
    "\n",
    "#As the test is mixed we order it to plot a solid line\n",
    "x_pred,y_pred = zip(*sorted(zip(x_test.numpy(),y_pred)))"
   ]
  },
  {
   "cell_type": "code",
   "execution_count": 16,
   "id": "ce3111d2",
   "metadata": {},
   "outputs": [
    {
     "data": {
      "image/png": "[encoded data removed]",
      "text/plain": [
       "<Figure size 504x360 with 1 Axes>"
      ]
     },
     "metadata": {
      "needs_background": "light"
     },
     "output_type": "display_data"
    }
   ],
   "source": [
    "### Plot\n",
    "fig = plt.figure(figsize=(7,5))\n",
    "plt.plot(x_pred,y_pred, color='b', ls='--',lw=3, label='Network prediction')\n",
    "plt.plot(x_train,y_train, color='r', ls='', marker='.',ms=10,alpha=0.5, label='Train data points')\n",
    "plt.plot(x_test,y_test, color='g', ls='', marker='.',ms=10,alpha=0.5, label='Test data points')\n",
    "plt.xlabel('Input',fontsize=15)\n",
    "plt.ylabel('Label',fontsize=15)\n",
    "plt.title(\"Network performance\",fontsize=15)\n",
    "plt.grid()\n",
    "plt.legend()\n",
    "plt.tight_layout()\n",
    "plt.savefig('./imgs/regression/fit.svg', format='svg')\n",
    "plt.show()"
   ]
  },
  {
   "cell_type": "markdown",
   "id": "0272e0ec",
   "metadata": {},
   "source": [
    "### Network analysis"
   ]
  },
  {
   "cell_type": "code",
   "execution_count": 17,
   "id": "e95bb719",
   "metadata": {},
   "outputs": [],
   "source": [
    "nn_layers = best_nn.module_#.net"
   ]
  },
  {
   "cell_type": "code",
   "execution_count": 18,
   "id": "9cc1c8b3",
   "metadata": {},
   "outputs": [
    {
     "data": {
      "text/plain": [
       "regressionNN(\n",
       "  (net): Sequential(\n",
       "    (0): Linear(in_features=1, out_features=75, bias=True)\n",
       "    (1): ReLU()\n",
       "    (2): Dropout(p=0, inplace=False)\n",
       "    (3): Linear(in_features=75, out_features=75, bias=True)\n",
       "    (4): ReLU()\n",
       "    (5): Dropout(p=0.1, inplace=False)\n",
       "    (6): Linear(in_features=75, out_features=1, bias=True)\n",
       "  )\n",
       ")"
      ]
     },
     "execution_count": 18,
     "metadata": {},
     "output_type": "execute_result"
    }
   ],
   "source": [
    "nn_layers"
   ]
  },
  {
   "cell_type": "code",
   "execution_count": 19,
   "id": "c9dd8473",
   "metadata": {},
   "outputs": [],
   "source": [
    "# First hidden layer\n",
    "h1_w = nn_layers.net[0].weight.data.cpu().numpy()\n",
    "h1_b = nn_layers.net[0].bias.data.cpu().numpy()\n",
    "\n",
    "# Second hidden layer\n",
    "h2_w = nn_layers.net[3].weight.data.cpu().numpy()\n",
    "h2_b = nn_layers.net[3].bias.data.cpu().numpy()\n",
    "\n",
    "# Output layer\n",
    "out_w = nn_layers.net[6].weight.data.cpu().numpy()\n",
    "out_b = nn_layers.net[6].bias.data.cpu().numpy()"
   ]
  },
  {
   "cell_type": "code",
   "execution_count": 20,
   "id": "eb2fe7f8",
   "metadata": {},
   "outputs": [
    {
     "data": {
      "image/png": "[encoded data removed]",
      "text/plain": [
       "<Figure size 864x576 with 3 Axes>"
      ]
     },
     "metadata": {
      "needs_background": "light"
     },
     "output_type": "display_data"
    }
   ],
   "source": [
    "# Weights histogram\n",
    "fig, axs = plt.subplots(3, 1, figsize=(12,8))\n",
    "axs[0].hist(h1_w.flatten(), 50)\n",
    "axs[0].set_title('First hidden layer weights',fontsize=15)\n",
    "axs[1].hist(h2_w.flatten(), 50)\n",
    "axs[1].set_title('Second hidden layer weights',fontsize=15)\n",
    "axs[2].hist(out_w.flatten(), 50)\n",
    "axs[2].set_title('Output layer weights',fontsize=15)\n",
    "[ax.grid() for ax in axs]\n",
    "plt.tight_layout()\n",
    "plt.savefig('./imgs/regression/wh.svg', format='svg')\n",
    "plt.show()"
   ]
  },
  {
   "cell_type": "code",
   "execution_count": 21,
   "id": "685cbaf4",
   "metadata": {},
   "outputs": [
    {
     "data": {
      "image/png": "[encoded data removed]",
      "text/plain": [
       "<Figure size 864x432 with 3 Axes>"
      ]
     },
     "metadata": {
      "needs_background": "light"
     },
     "output_type": "display_data"
    }
   ],
   "source": [
    "#analize activataion\n",
    "def get_activation(layer, input, output):\n",
    "    global activation\n",
    "    activation = torch.sigmoid(output)\n",
    "\n",
    "### Register hook  \n",
    "hook_handle = nn_layers.net[0].register_forward_hook(get_activation)\n",
    "\n",
    "### Analyze activations\n",
    "nn_layers = nn_layers.to(device)\n",
    "nn_layers.eval()\n",
    "with torch.no_grad():\n",
    "    x1 = torch.tensor([0.1]).float().to(device)\n",
    "    y1 = nn_layers(x1)\n",
    "    z1 = activation\n",
    "    x2 = torch.tensor([0.9]).float().to(device)\n",
    "    y2 = nn_layers(x2)\n",
    "    z2 = activation\n",
    "    x3 = torch.tensor([2.5]).float().to(device)\n",
    "    y3 = nn_layers(x3)\n",
    "    z3 = activation\n",
    "\n",
    "### Remove hook\n",
    "hook_handle.remove()\n",
    "\n",
    "### Plot activations\n",
    "fig, axs = plt.subplots(3, 1, figsize=(12,6))\n",
    "axs[0].stem(z1.cpu().numpy(), use_line_collection=True)\n",
    "axs[0].set_title('Last layer activations for input x=%.2f' % x1,fontsize=15)\n",
    "axs[1].stem(z2.cpu().numpy(), use_line_collection=True)\n",
    "axs[1].set_title('Last layer activations for input x=%.2f' % x2,fontsize=15)\n",
    "axs[2].stem(z3.cpu().numpy(), use_line_collection=True)\n",
    "axs[2].set_title('Last layer activations for input x=%.2f' % x3,fontsize=15)\n",
    "plt.tight_layout()\n",
    "plt.savefig('./imgs/regression/activations.svg', format='svg')\n",
    "plt.show()"
   ]
  },
  {
   "cell_type": "code",
   "execution_count": null,
   "id": "f90b4e4a",
   "metadata": {},
   "outputs": [],
   "source": []
  },
  {
   "cell_type": "code",
   "execution_count": null,
   "id": "efa53400",
   "metadata": {},
   "outputs": [],
   "source": []
  }
 ],
 "metadata": {
  "kernelspec": {
   "display_name": "Python 3 (ipykernel)",
   "language": "python",
   "name": "python3"
  },
  "language_info": {
   "codemirror_mode": {
    "name": "ipython",
    "version": 3
   },
   "file_extension": ".py",
   "mimetype": "text/x-python",
   "name": "python",
   "nbconvert_exporter": "python",
   "pygments_lexer": "ipython3",
   "version": "3.8.13"
  },
  "nbTranslate": {
   "displayLangs": [
    "*"
   ],
   "hotkey": "alt-t",
   "langInMainMenu": true,
   "sourceLang": "en",
   "targetLang": "fr",
   "useGoogleTranslate": true
  },
  "toc": {
   "base_numbering": 1,
   "nav_menu": {},
   "number_sections": true,
   "sideBar": true,
   "skip_h1_title": false,
   "title_cell": "Table of Contents",
   "title_sidebar": "Contents",
   "toc_cell": false,
   "toc_position": {},
   "toc_section_display": true,
   "toc_window_display": false
  }
 },
 "nbformat": 4,
 "nbformat_minor": 5
}
