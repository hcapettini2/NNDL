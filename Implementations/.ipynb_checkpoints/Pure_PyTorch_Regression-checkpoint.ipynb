{
 "cells": [
  {
   "cell_type": "markdown",
   "id": "5a10e69c",
   "metadata": {},
   "source": [
    "# Implementation of a regression task using PyTorch"
   ]
  },
  {
   "cell_type": "code",
   "execution_count": 1,
   "id": "cca672dc",
   "metadata": {},
   "outputs": [
    {
     "name": "stderr",
     "output_type": "stream",
     "text": [
      "C:\\Users\\hilar\\anaconda3\\envs\\NNDL_torch\\lib\\site-packages\\tqdm\\auto.py:22: TqdmWarning: IProgress not found. Please update jupyter and ipywidgets. See https://ipywidgets.readthedocs.io/en/stable/user_install.html\n",
      "  from .autonotebook import tqdm as notebook_tqdm\n"
     ]
    }
   ],
   "source": [
    "#IMPORTS#\n",
    "\n",
    "import numpy as np\n",
    "import pandas as pd\n",
    "\n",
    "import torch\n",
    "import torch.nn as nn\n",
    "from torch.utils.data import Dataset, DataLoader\n",
    "from torchvision import transforms\n",
    "import torch.optim as optim\n",
    "\n",
    "import random\n",
    "\n",
    "#Plotting\n",
    "import matplotlib.pyplot as plt\n",
    "\n",
    "\n",
    "from sklearn.model_selection import KFold"
   ]
  },
  {
   "cell_type": "code",
   "execution_count": 2,
   "id": "0dd53453",
   "metadata": {},
   "outputs": [],
   "source": [
    "# Set seeds for reproducibility (PyTorch, Python, Numpy)\n",
    "matricola = 2013031\n",
    "torch.manual_seed(matricola)\n",
    "random.seed(matricola)\n",
    "np.random.seed(matricola)"
   ]
  },
  {
   "cell_type": "code",
   "execution_count": 3,
   "id": "ceef2e21",
   "metadata": {},
   "outputs": [
    {
     "name": "stdout",
     "output_type": "stream",
     "text": [
      "Training device: cpu\n"
     ]
    }
   ],
   "source": [
    "# Check if the GPU is available\n",
    "device = torch.device(\"cuda\") if torch.cuda.is_available() else torch.device(\"cpu\")\n",
    "print(f\"Training device: {device}\")"
   ]
  },
  {
   "cell_type": "markdown",
   "id": "dd03f8b8",
   "metadata": {},
   "source": [
    "## Dataset and Dataloader"
   ]
  },
  {
   "cell_type": "code",
   "execution_count": 4,
   "id": "e858159e",
   "metadata": {},
   "outputs": [],
   "source": [
    "class CsvDataset(Dataset):\n",
    "    \n",
    "    def __init__(self,csv_file,transform=None):\n",
    "        \"\"\"\n",
    "        Args:\n",
    "             csv-file (string): Path to the csv file.\n",
    "             transform(callable, optinoal): Optinoal to be applied on sample.\n",
    "        \"\"\"\n",
    "        self.transform = transform\n",
    "        #Read the file and split the lines in a list\n",
    "        self.data = pd.read_csv(csv_file).to_numpy()\n",
    "        self.names = pd.read_csv(csv_file).columns\n",
    "        \n",
    "    def __len__(self):\n",
    "        # The length of the dataset is simply the length of the self.data list\n",
    "        return len(self.data)\n",
    "    \n",
    "    def __getitem__(self, idx):\n",
    "        # Our sample is the element idx of the list self.data\n",
    "        sample = self.data[idx]\n",
    "        if self.transform:\n",
    "            sample = self.transform(sample)\n",
    "        return sample\n",
    "    \n",
    "class ToTensor(object):\n",
    "    \"\"\"Convert sample to Tensors.\"\"\"\n",
    "    \n",
    "    def __call__(self,sample):\n",
    "        x, y = sample\n",
    "        return (torch.tensor([x]).float(),\n",
    "                torch.tensor([y]).float())"
   ]
  },
  {
   "cell_type": "code",
   "execution_count": 5,
   "id": "27256278",
   "metadata": {},
   "outputs": [
    {
     "name": "stdout",
     "output_type": "stream",
     "text": [
      "# of training samples  : 99\n",
      "# of test samples      : 99\n"
     ]
    }
   ],
   "source": [
    "#We are going to use only one transform but define a Compose just in case we want to apply something more fancy\n",
    "composed_transform = transforms.Compose([ToTensor()])\n",
    "\n",
    "train_dataset = CsvDataset('../regression_dataset/train_data.csv', transform=composed_transform)\n",
    "test_dataset  = CsvDataset('../regression_dataset/test_data.csv', transform=composed_transform)\n",
    "\n",
    "print('# of training samples  :',len(train_dataset))\n",
    "print('# of test samples      :',len(test_dataset))\n"
   ]
  },
  {
   "cell_type": "code",
   "execution_count": 6,
   "id": "2add26d4",
   "metadata": {},
   "outputs": [
    {
     "data": {
      "image/png": "[encoded data removed]",
      "text/plain": [
       "<Figure size 360x288 with 1 Axes>"
      ]
     },
     "metadata": {
      "needs_background": "light"
     },
     "output_type": "display_data"
    }
   ],
   "source": [
    "#Lets see our dataset\n",
    "fig = plt.figure(figsize=(5,4))\n",
    "plt.scatter(train_dataset.data[:,0],train_dataset.data[:,1], label=\"Trainig points\")\n",
    "plt.scatter(test_dataset.data[:,0],test_dataset.data[:,1], label=\"Test dataset\")\n",
    "plt.xlabel(\"Input\")\n",
    "plt.ylabel(\"Label\")\n",
    "plt.title(\"Training and test dataset\")\n",
    "plt.grid()\n",
    "plt.show()\n"
   ]
  },
  {
   "cell_type": "markdown",
   "id": "1d9278c2",
   "metadata": {},
   "source": [
    "# The Neural Network"
   ]
  },
  {
   "cell_type": "code",
   "execution_count": 7,
   "id": "0c27476c",
   "metadata": {},
   "outputs": [],
   "source": [
    "class NN_Regression(nn.Module):\n",
    "    \n",
    "    def __init__(self, Nh1, Nh2,d1,d2,prints=False):\n",
    "        \"\"\"\n",
    "        This function initialize the networks architecture given the parameters\n",
    "        \n",
    "        Ni - Input size\n",
    "        Nh1 - Neurons in the 1st hidden layer\n",
    "        Nh2 - Neurons in the 2nd hidden layer\n",
    "        No - Output size\n",
    "        d1  - drop percent for hidden layer 1\n",
    "        d2  - drop percent for hidden layer 2\n",
    "        \"\"\"\n",
    "        super().__init__()\n",
    "        \n",
    "        if prints: print(\"Network initialized\")\n",
    "        self.fc1 = nn.Linear(in_features=1,   out_features = Nh1) #Here we can use different graph building blocks as Linear, Convolution, etc\n",
    "        self.dr1 = nn.Dropout(p=d1)\n",
    "        self.fc2 = nn.Linear(in_features=Nh1, out_features = Nh2)\n",
    "        self.dr2 = nn.Dropout(p=d2)\n",
    "        self.out = nn.Linear(in_features=Nh2, out_features = 1)\n",
    "        \n",
    "        #The activation function is not included in the layers\n",
    "        #(nn.Linear in this case)\n",
    "        self.sig = nn.Sigmoid()\n",
    "        self.relu = nn.ReLU()\n",
    "        \n",
    "    def forward(self, x, additional_out = False):\n",
    "        \"\"\"\n",
    "        forward() defines the pass of the data through the network\n",
    "        backpropagation is authomatically tracked by the framework\n",
    "        \"\"\"\n",
    "        x = self.relu(self.fc1(x))\n",
    "        x = self.relu(self.fc2(x))\n",
    "        x = self.out(x)\n",
    "        return x\n",
    "        "
   ]
  },
  {
   "cell_type": "markdown",
   "id": "cce96e96",
   "metadata": {},
   "source": [
    "# Decide which training to keep, understand which is the validations and which is the training error in the k fold context"
   ]
  },
  {
   "cell_type": "code",
   "execution_count": 8,
   "id": "f046e9dd",
   "metadata": {},
   "outputs": [],
   "source": [
    "# def train(num_epochs,net,train_data,k_folds, prints = False):\n",
    "#     \"\"\"\n",
    "    \n",
    "#     \"\"\"\n",
    "#     # Define the loss function\n",
    "#     loss_fn = nn.MSELoss()\n",
    "    \n",
    "#     # Define the optimizer\n",
    "#     optimizer = optim.Adam(net.parameters(), lr=1e-3)\n",
    "\n",
    "    \n",
    "    \n",
    "#     train_loss_log = []\n",
    "#     val_loss_log   = []\n",
    "#     for epoch_num in range(num_epochs):\n",
    "#         if prints: print(f\"EPOCH {epoch_num}\")\n",
    "        \n",
    "#         ###TRAIN WITH CROSS VALIDATION\n",
    "#         train_loss = []\n",
    "#         validation_loss = []\n",
    "#         net.to(device)\n",
    "#         net.train()    #Training mode (e.g. enable dropout, batchnorm updates, ...)\n",
    "        \n",
    "#         for sample_batched in train_data:\n",
    "#             #Move data to device\n",
    "#             x_batch = sample_batched[0].to(device)\n",
    "#             label_batch = sample_batched[1].to(device)\n",
    "            \n",
    "#             kf = KFold(n_splits = k_folds)\n",
    "#             kf.get_n_splits(x_batch)\n",
    "            \n",
    "#             loss = 0\n",
    "#             v_loss = 0\n",
    "#             #Now we train k_fold times and keep an average as loss \n",
    "#             for train_index, val_index in kf.split(x_batch):\n",
    "#                 x_batch_train, x_batch_val = x_batch[train_index], x_batch[val_index]\n",
    "#                 y_batch_train, y_batch_val = label_batch[train_index], label_batch[val_index]\n",
    "            \n",
    "            \n",
    "#                 #Forward pass\n",
    "#                 out = net(x_batch_train)\n",
    "#                 out_v = net(x_batch_val)\n",
    "                \n",
    "#                 #Compute loss\n",
    "#                 loss = loss + loss_fn(out, y_batch_train)\n",
    "#                 v_loss = v_loss + loss_fn(out_v, y_batch_val)\n",
    "                \n",
    "#             loss = loss/k_folds\n",
    "#             v_loss = v_loss/k_folds\n",
    "            \n",
    "#             #Backwardpropagation\n",
    "#             net.zero_grad()     #Clear gradients\n",
    "#             loss.backward()\n",
    "            \n",
    "#             #Updata weights\n",
    "#             optimizer.step()\n",
    "            \n",
    "#             #Save train loss for this batch\n",
    "#             loss_batch = loss.detach().cpu().numpy()\n",
    "#             train_loss.append(loss_batch)\n",
    "            \n",
    "#             v_loss_batch = v_loss.detach().cpu().numpy()\n",
    "#             validation_loss.append(v_loss_batch)\n",
    "            \n",
    "#         #Save average train loss\n",
    "#         train_loss = np.mean(train_loss)\n",
    "#         validation_loss = np.mean(validation_loss)\n",
    "        \n",
    "#         if prints: print(f\"AVERAGE TRAIN LOSS:{train_loss}\")\n",
    "#         if prints: print(f\"AVERAGE VALIDATION LOSS:{validation_loss}\")    \n",
    "#         train_loss_log.append(train_loss)\n",
    "#         val_loss_log.append(validation_loss)\n",
    "            \n",
    "#     return train_loss_log,val_loss_log"
   ]
  },
  {
   "cell_type": "code",
   "execution_count": 9,
   "id": "faacccfc",
   "metadata": {},
   "outputs": [],
   "source": [
    "# def train(num_epochs,net,train_data,k_folds, prints = False):\n",
    "#     \"\"\"\n",
    "    \n",
    "#     \"\"\"\n",
    "#     # Define the loss function\n",
    "#     loss_fn = nn.MSELoss()\n",
    "    \n",
    "#     # Define the optimizer\n",
    "#     optimizer = optim.Adam(net.parameters(), lr=1e-3)\n",
    "\n",
    "    \n",
    "    \n",
    "#     train_loss_log = []\n",
    "#     val_loss_log   = []\n",
    "#     for epoch_num in range(num_epochs):\n",
    "#         if prints: print(f\"EPOCH {epoch_num}\")\n",
    "        \n",
    "#         ###TRAIN WITH CROSS VALIDATION\n",
    "#         train_loss = []\n",
    "#         net.to(device)\n",
    "#         net.train()    #Training mode (e.g. enable dropout, batchnorm updates, ...)\n",
    "        \n",
    "#         for sample_batched in train_data:\n",
    "#             #Move data to device\n",
    "#             x_batch = sample_batched[0].to(device)\n",
    "#             label_batch = sample_batched[1].to(device)\n",
    "            \n",
    "#             kf = KFold(n_splits = k_folds)\n",
    "#             kf.get_n_splits(x_batch)\n",
    "            \n",
    "#             loss = 0\n",
    "#             #Now we train k_fold times and keep an average as loss \n",
    "#             for train_index, val_index in kf.split(x_batch):\n",
    "#                 x_batch_train, x_batch_val = x_batch[train_index], x_batch[val_index]\n",
    "#                 y_batch_train, y_batch_val = label_batch[train_index], label_batch[val_index]\n",
    "            \n",
    "            \n",
    "#                 #Forward pass\n",
    "#                 out = net(x_batch_train)\n",
    "                \n",
    "#                 #Compute loss\n",
    "#                 loss = loss + loss_fn(out, y_batch_train)\n",
    "                \n",
    "#             loss = loss/k_folds\n",
    "            \n",
    "#             #Backwardpropagation\n",
    "#             net.zero_grad()     #Clear gradients\n",
    "#             loss.backward()\n",
    "            \n",
    "#             #Updata weights\n",
    "#             optimizer.step()\n",
    "            \n",
    "#             #Save train loss for this batch\n",
    "#             loss_batch = loss.detach().cpu().numpy()\n",
    "#             train_loss.append(loss_batch)\n",
    "            \n",
    "            \n",
    "#         #Save average train loss\n",
    "#         train_loss = np.mean(train_loss)\n",
    "#         #validation_loss = np.mean(validation_loss)\n",
    "        \n",
    "#         if prints: print(f\"AVERAGE TRAIN LOSS:{train_loss}\")\n",
    "#         train_loss_log.append(train_loss)\n",
    "            \n",
    "            \n",
    "            \n",
    "#         ### VALIDATION\n",
    "#         val_loss= []\n",
    "#         net.eval() # Evaluation mode (e.g. disable dropout, batchnorm,...)\n",
    "#         with torch.no_grad(): # Disable gradient tracking\n",
    "#             for sample_batched in train_data:\n",
    "#                 # Move data to device\n",
    "#                 x_batch = sample_batched[0].to(device)\n",
    "#                 label_batch = sample_batched[1].to(device)\n",
    "            \n",
    "#                 kf = KFold(n_splits = k_folds)\n",
    "#                 kf.get_n_splits(x_batch)\n",
    "\n",
    "#                 loss = 0\n",
    "#                 #Now we train k_fold times and keep an average as loss \n",
    "#                 for train_index, val_index in kf.split(x_batch):\n",
    "#                     x_batch_train, x_batch_val = x_batch[train_index], x_batch[val_index]\n",
    "#                     y_batch_train, y_batch_val = label_batch[train_index], label_batch[val_index]\n",
    "               \n",
    "#                     # Forward pass\n",
    "#                     out = net(x_batch_val)\n",
    "\n",
    "#                     # Compute loss\n",
    "#                     loss = loss_fn(out, y_batch_val)\n",
    "                    \n",
    "#                 loss = loss/k_folds\n",
    "                \n",
    "#                 # Save val loss for this batch\n",
    "#                 loss_batch = loss.detach().cpu().numpy()\n",
    "#                 val_loss.append(loss_batch)\n",
    "\n",
    "#             # Save average validation loss\n",
    "#             val_loss = np.mean(val_loss)\n",
    "#             if prints: print(f\"AVERAGE VAL LOSS: {np.mean(val_loss)}\")\n",
    "#             val_loss_log.append(val_loss)            \n",
    "#     return train_loss_log,val_loss_log"
   ]
  },
  {
   "cell_type": "code",
   "execution_count": 8,
   "id": "632b3d26",
   "metadata": {},
   "outputs": [],
   "source": [
    "def train(num_epochs,net,train_data,val_data, prints = False):\n",
    "    \"\"\"\n",
    "    num_epochs -\n",
    "    net        -\n",
    "    train_data -\n",
    "    val_data   -\n",
    "    prints     -\n",
    "    \"\"\"\n",
    "    # Define the loss function\n",
    "    loss_fn = nn.MSELoss()\n",
    "    \n",
    "    # Define the optimizer\n",
    "    optimizer = optim.Adam(net.parameters(), lr=1e-3)\n",
    "\n",
    "       \n",
    "    train_loss_log = []\n",
    "    val_loss_log   = []\n",
    "    for epoch_num in range(num_epochs):\n",
    "        if prints: print(f\"EPOCH {epoch_num}\")\n",
    "        \n",
    "        ###TRAIN \n",
    "        train_loss = []\n",
    "        net.to(device)\n",
    "        net.train()    #Training mode (e.g. enable dropout, batchnorm updates, ...)\n",
    "        \n",
    "        for sample_batched in train_data:\n",
    "            #Move data to device\n",
    "            x_batch = sample_batched[0].to(device)\n",
    "            label_batch = sample_batched[1].to(device)\n",
    "            \n",
    "            #Forward pass\n",
    "            out = net(x_batch)\n",
    "                \n",
    "            #Compute loss\n",
    "            loss = loss_fn(out, label_batch)\n",
    "                           \n",
    "            #Backwardpropagation\n",
    "            net.zero_grad()     #Clear gradients\n",
    "            loss.backward()\n",
    "            \n",
    "            #Updata weights\n",
    "            optimizer.step()\n",
    "            \n",
    "            #Save train loss for this batch\n",
    "            loss_batch = loss.detach().cpu().numpy()\n",
    "            train_loss.append(loss_batch)\n",
    "            \n",
    "            \n",
    "        #Save average train loss\n",
    "        train_loss = np.mean(train_loss)\n",
    "        #validation_loss = np.mean(validation_loss)\n",
    "        \n",
    "        if prints: print(f\"AVERAGE TRAIN LOSS:{train_loss}\")\n",
    "        train_loss_log.append(train_loss)\n",
    "            \n",
    "            \n",
    "            \n",
    "        ### VALIDATION\n",
    "        val_loss= []\n",
    "        net.eval() # Evaluation mode (e.g. disable dropout, batchnorm,...)\n",
    "        with torch.no_grad(): # Disable gradient tracking\n",
    "            for sample_batched in val_data:\n",
    "                # Move data to device\n",
    "                x_batch = sample_batched[0].to(device)\n",
    "                label_batch = sample_batched[1].to(device)\n",
    "            \n",
    "                # Forward pass\n",
    "                out = net(x_batch)\n",
    "\n",
    "                # Compute loss\n",
    "                loss = loss_fn(out, label_batch)\n",
    "                                   \n",
    "                # Save val loss for this batch\n",
    "                loss_batch = loss.detach().cpu().numpy()\n",
    "                val_loss.append(loss_batch)\n",
    "\n",
    "            # Save average validation loss\n",
    "            val_loss = np.mean(val_loss)\n",
    "            if prints: print(f\"AVERAGE VAL LOSS: {np.mean(val_loss)}\")\n",
    "            val_loss_log.append(val_loss)            \n",
    "    return train_loss_log,val_loss_log"
   ]
  },
  {
   "cell_type": "code",
   "execution_count": 9,
   "id": "61dfc7b8",
   "metadata": {},
   "outputs": [],
   "source": [
    "def cross_validation(train_dataset,Nh1,Nh2, d1,d2,max_epoch=1500,batch_size=50,k_folds=5):\n",
    "    \"\"\"\n",
    "    This function train the model in k-1 folds of the data\n",
    "    and return a training and loss error average over these sets\n",
    "    \"\"\"\n",
    "\n",
    "    n_f      = int(len(train_dataset)/k_folds)\n",
    "    folds_len = [n_f for i in range(k_folds)]\n",
    "    #I add the remaining samples to the last goup\n",
    "    dif = len(train_dataset) - sum(folds_len)\n",
    "    folds_len[-1] = folds_len[-1] + dif\n",
    "\n",
    "    # Now we generate k dataloaders to pass our function\n",
    "    k_datasets = torch.utils.data.random_split(train_dataset, folds_len, generator=torch.Generator().manual_seed(matricola))\n",
    "\n",
    "    k_t_loss = [0]*k_folds\n",
    "    k_v_loss = [0]*k_folds\n",
    "\n",
    "    folds_index = [i for i in range(k_folds)]\n",
    "    for j in range(k_folds):\n",
    "        train_folds_index = [folds_index[i % k_folds] for i in range(j, j+(k_folds-1))]\n",
    "        val_fold_index = list(set(folds_index) -set(train_folds_index))\n",
    "\n",
    "        train_data_folds = [k_datasets[i] for i in train_folds_index]\n",
    "        train_data       = torch.utils.data.ConcatDataset(train_data_folds)\n",
    "\n",
    "        val_data = k_datasets[val_fold_index[0]]\n",
    "\n",
    "        train_dataloader      = DataLoader(train_data,      batch_size=batch_size,              shuffle=True, num_workers=0)\n",
    "        validation_dataloader = DataLoader(val_data, batch_size=len(val_data), shuffle=False, num_workers=0)\n",
    "\n",
    "        #Re train the network with the best parameters to study its properties and performe evaluations\n",
    "        net = NN_Regression(Nh1,Nh2, d1,d2)\n",
    "        k_t_loss[j],k_v_loss[j] = train(max_epoch,net,train_dataloader,validation_dataloader)\n",
    "\n",
    "\n",
    "    t_loss = np.array(k_t_loss).mean(axis=0)\n",
    "    v_loss = np.array(k_v_loss).mean(axis=0)\n",
    "    return t_loss, v_loss,net"
   ]
  },
  {
   "cell_type": "code",
   "execution_count": 16,
   "id": "6efe44d1",
   "metadata": {},
   "outputs": [],
   "source": [
    "# t_loss,v_loss,net = cross_validation(train_dataset,50,50, 0.01,0.01)"
   ]
  },
  {
   "cell_type": "code",
   "execution_count": 10,
   "id": "92a91017",
   "metadata": {},
   "outputs": [],
   "source": [
    "# # Plot losses\n",
    "# plt.figure(figsize=(12,8))\n",
    "# plt.semilogy(t_loss, label=\"Training los\")\n",
    "# plt.semilogy(v_loss, label=\"Validation loss\")\n",
    "# plt.title('Loss', fontsize = 20)\n",
    "# plt.xlabel('Epoch', fontsize = 15)\n",
    "# plt.ylabel('Loss', fontsize = 15)\n",
    "# plt.legend()\n",
    "# plt.show()"
   ]
  },
  {
   "cell_type": "code",
   "execution_count": 11,
   "id": "aed09a10",
   "metadata": {},
   "outputs": [],
   "source": [
    "# # Input vector\n",
    "# x_vec = torch.linspace(-5,5,1000)\n",
    "# x_vec = x_vec.to(device)\n",
    "# x_vec = x_vec.unsqueeze(-1)  # Adding a dimension to the input vector\n",
    "# print(f\"Input shape: {x_vec.shape}\")\n",
    "\n",
    "\n",
    "# #-------------------------------------------------------------------------------\n",
    "# # eval() acts as switch for some specific layers/parts of the model that behave\n",
    "# # differently during training and inference (eval) time. For example, Dropout \n",
    "# # BatchNorm etc.\n",
    "# #--------------------------------------------------------------------------------\n",
    "\n",
    "# # Network output\n",
    "# net.eval()\n",
    "# with torch.no_grad(): # turn off gradients computation\n",
    "#     y_vec = net(x_vec)\n",
    "# print(f\"Output shape: {y_vec.shape}\")\n",
    "\n",
    "# train_dataset = CsvDataset('../regression_dataset/train_data.csv', transform=composed_transform)\n",
    "# test_dataset  = CsvDataset('../regression_dataset/test_data.csv', transform=composed_transform)"
   ]
  },
  {
   "cell_type": "code",
   "execution_count": 12,
   "id": "0c236af0",
   "metadata": {},
   "outputs": [],
   "source": [
    "# ### Plot\n",
    "# plt.figure(figsize=(12,8))\n",
    "# x_highres = np.linspace(0,1,1000)\n",
    "# plt.plot(x_vec, y_vec, color='b', ls='--', label='Network output')\n",
    "# plt.plot(train_dataset.data[:,0],train_dataset.data[:,1], color='r', ls='', marker='.', label='Train data points')\n",
    "# plt.plot(test_dataset.data[:,0],test_dataset.data[:,1], color='g', ls='', marker='.', label='Validation data points')\n",
    "# plt.xlabel('Input')\n",
    "# plt.ylabel('Label')\n",
    "# plt.grid()\n",
    "# plt.legend()\n",
    "# plt.tight_layout()\n",
    "# plt.show()"
   ]
  },
  {
   "cell_type": "markdown",
   "id": "9f2b2acb",
   "metadata": {},
   "source": [
    "## Grid search for best parameters"
   ]
  },
  {
   "cell_type": "code",
   "execution_count": 12,
   "id": "f6b4c3b0",
   "metadata": {},
   "outputs": [],
   "source": [
    "# #Define a validation dataset\n",
    "# train_percent = 0.8\n",
    "# n_train      = int(train_percent * len(train_dataset))\n",
    "# n_validation = len(train_dataset) - n_train\n",
    "# train_dataset, validation_dataset = torch.utils.data.random_split(train_dataset, [n_train, n_validation])\n",
    "\n",
    "# print('# of training samples  :',len(train_dataset))\n",
    "# print('# of validation samples:',len(validation_dataset))\n",
    "# print('# of test samples      :',len(test_dataset))"
   ]
  },
  {
   "cell_type": "code",
   "execution_count": 13,
   "id": "9fcbdbd8",
   "metadata": {},
   "outputs": [],
   "source": [
    "# batch_size = 50\n",
    "# train_dataloader      = DataLoader(train_dataset,      batch_size=batch_size,              shuffle=True, num_workers=0)\n",
    "# validation_dataloader = DataLoader(validation_dataset, batch_size=len(validation_dataset), shuffle=False, num_workers=0)\n",
    "# test_dataloader       = DataLoader(test_dataset,       batch_size=len(test_dataset),       shuffle=False, num_workers=0)"
   ]
  },
  {
   "cell_type": "code",
   "execution_count": 14,
   "id": "b6f6366a",
   "metadata": {},
   "outputs": [],
   "source": [
    "# #Re train the network with the best parameters to study its properties and performe evaluations\n",
    "# net = NN_Regression(100,100, 0,0)\n",
    "\n",
    "# t_loss,v_loss = train(1000,net,train_dataloader,validation_dataloader)"
   ]
  },
  {
   "cell_type": "code",
   "execution_count": 15,
   "id": "6c894b88",
   "metadata": {},
   "outputs": [],
   "source": [
    "# # Plot losses\n",
    "# plt.figure(figsize=(12,8))\n",
    "# plt.semilogy(t_loss, label=\"Training los\")\n",
    "# plt.semilogy(v_loss, label=\"Validation loss\")\n",
    "# plt.title('Loss', fontsize = 20)\n",
    "# plt.xlabel('Epoch', fontsize = 15)\n",
    "# plt.ylabel('Loss', fontsize = 15)\n",
    "# plt.legend()\n",
    "# plt.show()"
   ]
  },
  {
   "cell_type": "code",
   "execution_count": 19,
   "id": "9955395d",
   "metadata": {
    "scrolled": true
   },
   "outputs": [
    {
     "name": "stdout",
     "output_type": "stream",
     "text": [
      "Nh1: 50 Nh2: 50 d1: 0.01 d2: 0.01 Loss 0.20545502\n"
     ]
    }
   ],
   "source": [
    "#Define the hyperparameters to feed the gridsearch\n",
    "gs_Nh1 = [50]#[25,50,75,100]\n",
    "gs_Nh2 = [50]#[25,50,75,100]\n",
    "gs_d1  = [0.01]#[0.,0.01,0.1]\n",
    "gs_d2  = [0.01]#[0.,0.01,0.1]\n",
    "epochs = 1500\n",
    "k_fold = 5\n",
    "batch_size = 50\n",
    "\n",
    "best_loss = 100\n",
    "for Nh1 in gs_Nh1:\n",
    "    for Nh2 in gs_Nh2:\n",
    "        for d1 in gs_d1:\n",
    "            for d2 in gs_d2:\n",
    "                t_loss,v_loss,net = cross_validation(train_dataset,Nh1,Nh2,d1,d2,max_epoch=epochs,batch_size=batch_size,k_folds=k_fold)\n",
    "                print(\"Nh1:\",Nh1,\"Nh2:\",Nh2,\"d1:\",d1,\"d2:\",d2, \"Loss\",t_loss[-1])\n",
    "                if v_loss[-1] < best_loss:\n",
    "                    best_loss = v_loss[-1]\n",
    "                    best_config = {\n",
    "                        \"Nh1\": Nh1,\n",
    "                        \"Nh2\": Nh2,\n",
    "                        \"d1\" : d1,\n",
    "                        \"d2\" : d2\n",
    "                    }"
   ]
  },
  {
   "cell_type": "code",
   "execution_count": 20,
   "id": "edae073c",
   "metadata": {},
   "outputs": [
    {
     "name": "stdout",
     "output_type": "stream",
     "text": [
      "Best model found: \n",
      "{'Nh1': 50, 'Nh2': 50, 'd1': 0.01, 'd2': 0.01}\n"
     ]
    }
   ],
   "source": [
    "print('Best model found: ')\n",
    "print(best_config)"
   ]
  },
  {
   "cell_type": "code",
   "execution_count": 21,
   "id": "052bf403",
   "metadata": {},
   "outputs": [],
   "source": [
    "#Re train with best parameters\n",
    "t_loss,v_loss,net = cross_validation(train_dataset,best_config[\"Nh1\"],best_config[\"Nh2\"],\n",
    "                    best_config[\"d1\"],best_config[\"d2\"],\n",
    "                                max_epoch=epochs,batch_size=batch_size,k_folds=k_fold)"
   ]
  },
  {
   "cell_type": "code",
   "execution_count": 22,
   "id": "495257cb",
   "metadata": {},
   "outputs": [
    {
     "data": {
      "image/png": "[encoded data removed]",
      "text/plain": [
       "<Figure size 864x576 with 1 Axes>"
      ]
     },
     "metadata": {
      "needs_background": "light"
     },
     "output_type": "display_data"
    }
   ],
   "source": [
    "# Plot losses\n",
    "plt.figure(figsize=(12,8))\n",
    "plt.semilogy(t_loss, label=\"Training los\")\n",
    "plt.semilogy(v_loss, label=\"Validation loss\")\n",
    "plt.title('Loss', fontsize = 20)\n",
    "plt.xlabel('Epoch', fontsize = 15)\n",
    "plt.ylabel('Loss', fontsize = 15)\n",
    "plt.legend()\n",
    "plt.show()"
   ]
  },
  {
   "cell_type": "code",
   "execution_count": 23,
   "id": "6950a196",
   "metadata": {},
   "outputs": [
    {
     "name": "stdout",
     "output_type": "stream",
     "text": [
      "Input shape: torch.Size([1000, 1])\n",
      "Output shape: torch.Size([1000, 1])\n"
     ]
    }
   ],
   "source": [
    "# Input vector\n",
    "x_vec = torch.linspace(-5,5,1000)\n",
    "x_vec = x_vec.to(device)\n",
    "x_vec = x_vec.unsqueeze(-1)  # Adding a dimension to the input vector\n",
    "print(f\"Input shape: {x_vec.shape}\")\n",
    "\n",
    "\n",
    "#-------------------------------------------------------------------------------\n",
    "# eval() acts as switch for some specific layers/parts of the model that behave\n",
    "# differently during training and inference (eval) time. For example, Dropout \n",
    "# BatchNorm etc.\n",
    "#--------------------------------------------------------------------------------\n",
    "\n",
    "# Network output\n",
    "net.eval()\n",
    "with torch.no_grad(): # turn off gradients computation\n",
    "    y_vec = net(x_vec)\n",
    "print(f\"Output shape: {y_vec.shape}\")\n",
    "\n",
    "train_dataset = CsvDataset('../regression_dataset/train_data.csv', transform=composed_transform)\n",
    "test_dataset  = CsvDataset('../regression_dataset/test_data.csv', transform=composed_transform)"
   ]
  },
  {
   "cell_type": "code",
   "execution_count": 24,
   "id": "71a9814f",
   "metadata": {},
   "outputs": [
    {
     "data": {
      "image/png": "[encoded data removed]",
      "text/plain": [
       "<Figure size 864x576 with 1 Axes>"
      ]
     },
     "metadata": {
      "needs_background": "light"
     },
     "output_type": "display_data"
    }
   ],
   "source": [
    "### Plot\n",
    "plt.figure(figsize=(12,8))\n",
    "x_highres = np.linspace(0,1,1000)\n",
    "plt.plot(x_vec, y_vec, color='b', ls='--', label='Network output')\n",
    "plt.plot(train_dataset.data[:,0],train_dataset.data[:,1], color='r', ls='', marker='.', label='Train data points')\n",
    "plt.plot(test_dataset.data[:,0],test_dataset.data[:,1], color='g', ls='', marker='.', label='Validation data points')\n",
    "plt.xlabel('Input')\n",
    "plt.ylabel('Label')\n",
    "plt.grid()\n",
    "plt.legend()\n",
    "plt.tight_layout()\n",
    "plt.show()"
   ]
  },
  {
   "cell_type": "code",
   "execution_count": null,
   "id": "a54154a4",
   "metadata": {},
   "outputs": [],
   "source": []
  },
  {
   "cell_type": "code",
   "execution_count": null,
   "id": "cff89eee",
   "metadata": {},
   "outputs": [],
   "source": []
  },
  {
   "cell_type": "code",
   "execution_count": null,
   "id": "b572a2a6",
   "metadata": {},
   "outputs": [],
   "source": []
  },
  {
   "cell_type": "code",
   "execution_count": 25,
   "id": "cda7df7b",
   "metadata": {},
   "outputs": [],
   "source": [
    "# #Re train the network with the best parameters to study its properties and performe evaluations\n",
    "# net = NN_Regression(best_config[\"Nh1\"],best_config[\"Nh2\"],\n",
    "#                     best_config[\"d1\"],best_config[\"d2\"])\n",
    "\n",
    "# t_loss = train(1000,net,train_dataloader,5)"
   ]
  },
  {
   "cell_type": "code",
   "execution_count": 26,
   "id": "b6e4952b",
   "metadata": {
    "scrolled": true
   },
   "outputs": [],
   "source": [
    "# #Re train the network with the best parameters to study its properties and performe evaluations\n",
    "# net = NN_Regression(100,100, 0,0)\n",
    "\n",
    "# t_loss,v_loss = train(1000,net,train_dataloader,5)"
   ]
  },
  {
   "cell_type": "code",
   "execution_count": 27,
   "id": "f104c744",
   "metadata": {},
   "outputs": [],
   "source": [
    "# # Plot losses\n",
    "# plt.figure(figsize=(12,8))\n",
    "# plt.semilogy(t_loss, label=\"Training los\")\n",
    "# plt.semilogy(v_loss, label=\"Validation loss\")\n",
    "# plt.title('Loss', fontsize = 20)\n",
    "# plt.xlabel('Epoch', fontsize = 15)\n",
    "# plt.ylabel('Loss', fontsize = 15)\n",
    "# plt.legend()\n",
    "# plt.show()"
   ]
  },
  {
   "cell_type": "code",
   "execution_count": null,
   "id": "baaed369",
   "metadata": {},
   "outputs": [],
   "source": []
  }
 ],
 "metadata": {
  "kernelspec": {
   "display_name": "Python 3 (ipykernel)",
   "language": "python",
   "name": "python3"
  },
  "language_info": {
   "codemirror_mode": {
    "name": "ipython",
    "version": 3
   },
   "file_extension": ".py",
   "mimetype": "text/x-python",
   "name": "python",
   "nbconvert_exporter": "python",
   "pygments_lexer": "ipython3",
   "version": "3.8.13"
  }
 },
 "nbformat": 4,
 "nbformat_minor": 5
}
