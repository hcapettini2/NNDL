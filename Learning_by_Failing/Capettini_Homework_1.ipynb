{
 "cells": [
  {
   "cell_type": "markdown",
   "id": "11c0638a",
   "metadata": {},
   "source": [
    "# Regression task"
   ]
  },
  {
   "cell_type": "markdown",
   "id": "87bbf6d3",
   "metadata": {},
   "source": [
    "* The goal is to train a neural network to approximate an unknown function:\n",
    "$$ \n",
    "f:\\mathbb{R}→\\mathbb{R} \\\\\n",
    "x↦y=f(x) \\\\\n",
    "\\text{network}(x) \\approx f(x)\n",
    "$$\n",
    "* As training point, you only have noisy measures from the target function.\n",
    "$$\n",
    "\\hat{y} = f(x) + noise\n",
    "$$"
   ]
  },
  {
   "cell_type": "code",
   "execution_count": 1,
   "id": "ddf08afe",
   "metadata": {},
   "outputs": [
    {
     "name": "stderr",
     "output_type": "stream",
     "text": [
      "C:\\Users\\hilar\\anaconda3\\envs\\NNDL_torch\\lib\\site-packages\\tqdm\\auto.py:22: TqdmWarning: IProgress not found. Please update jupyter and ipywidgets. See https://ipywidgets.readthedocs.io/en/stable/user_install.html\n",
      "  from .autonotebook import tqdm as notebook_tqdm\n"
     ]
    }
   ],
   "source": [
    "import numpy as np\n",
    "import pandas as pd\n",
    "import matplotlib.pyplot as plt\n",
    "\n",
    "import torch\n",
    "import torch.nn as nn\n",
    "from torch.utils.data import Dataset, DataLoader\n",
    "from torchvision import transforms\n",
    "import torch.optim as optim\n",
    "from skorch.callbacks import EarlyStopping\n",
    "from skorch import NeuralNetRegressor\n",
    "from sklearn.model_selection import GridSearchCV\n",
    "from skorch.callbacks import EarlyStopping"
   ]
  },
  {
   "cell_type": "markdown",
   "id": "d28c4d19",
   "metadata": {},
   "source": [
    "# Dataset"
   ]
  },
  {
   "cell_type": "code",
   "execution_count": 2,
   "id": "80d5e4d5",
   "metadata": {},
   "outputs": [],
   "source": [
    "train_df = pd.read_csv('regression_dataset/train_data.csv',names=(\"input\",\"label\"))\n",
    "test_df  = pd.read_csv('regression_dataset/test_data.csv', names=(\"input\",\"label\"))"
   ]
  },
  {
   "cell_type": "code",
   "execution_count": 3,
   "id": "74d87301",
   "metadata": {},
   "outputs": [
    {
     "data": {
      "image/png": "[encoded data removed]",
      "text/plain": [
       "<Figure size 864x576 with 1 Axes>"
      ]
     },
     "metadata": {
      "needs_background": "light"
     },
     "output_type": "display_data"
    }
   ],
   "source": [
    "fig = plt.figure(figsize=(12,8))\n",
    "plt.scatter(train_df.input, train_df.label, label='Training points')\n",
    "plt.scatter(test_df.input,  test_df.label, label='Test points')\n",
    "plt.xlabel('input')\n",
    "plt.ylabel('label')\n",
    "plt.legend()\n",
    "plt.show()"
   ]
  },
  {
   "cell_type": "markdown",
   "id": "8dc76597",
   "metadata": {},
   "source": [
    "Apparently skorch does not support the Pytorch Dataset class to pass the data so we just have to do it in the old way."
   ]
  },
  {
   "cell_type": "markdown",
   "id": "370ef735",
   "metadata": {},
   "source": [
    "Prepare the training and test dataset moving from dataframe -> numpy -> PyTorch tensor"
   ]
  },
  {
   "cell_type": "code",
   "execution_count": 4,
   "id": "d9e5f269",
   "metadata": {},
   "outputs": [],
   "source": [
    "x_train, y_train = train_df.input.values, train_df.label.values\n",
    "x_test,  y_test  = test_df.input.values,  test_df.label.values\n",
    "\n",
    "#convert to Pytorch tensor\n",
    "x_train, y_train = np.expand_dims(x_train, axis=1), np.expand_dims(y_train, axis=1)\n",
    "x_test,  y_test  = np.expand_dims(x_test, axis=1),  np.expand_dims(y_test, axis=1)\n",
    "\n",
    "x_train, y_train = torch.from_numpy(x_train).float(), torch.from_numpy(y_train).float()\n",
    "x_test,  y_test  = torch.from_numpy(x_test).float(),  torch.from_numpy(y_test).float()"
   ]
  },
  {
   "cell_type": "markdown",
   "id": "a63d1736",
   "metadata": {},
   "source": [
    "## Network definition"
   ]
  },
  {
   "cell_type": "code",
   "execution_count": 5,
   "id": "5cfbf3f9",
   "metadata": {},
   "outputs": [],
   "source": [
    "#Define the network class\n",
    "class Net(nn.Module):\n",
    "    \n",
    "    def __init__(self, Ni, Nh1, Nh2, No,drop):\n",
    "        \"\"\"\n",
    "        Ni - Input size\n",
    "        Nh1 - Neurons in the 1st hidden layer\n",
    "        Nh2 - Neurons in the 2nd hidden layer\n",
    "        No - Output size\n",
    "        \"\"\"\n",
    "        super().__init__()\n",
    "        \n",
    "        print('Network initialized')\n",
    "        #Define the network layers\n",
    "        self.fc1 = nn.Linear(in_features=Ni, out_features=Nh1)\n",
    "        self.dr1 = nn.Dropout(p=drop) \n",
    "        self.fc2 = nn.Linear(in_features=Nh1, out_features=Nh2)\n",
    "        self.out = nn.Linear(in_features=Nh2, out_features=No)\n",
    "        \n",
    "        #The activation function is not included in the layers\n",
    "        #(nn.Linear in this case)\n",
    "        self.sig = nn.Sigmoid()\n",
    "        self.relu = nn.ReLU()    #i observe better results using Relu\n",
    "        self.name=\"Net\"\n",
    "        \n",
    "    def forward(self, x, additional_out=False):\n",
    "        x = self.relu(self.fc1(x))\n",
    "        x = self.relu(self.fc2(x))\n",
    "        x = self.out(x)\n",
    "        return x"
   ]
  },
  {
   "cell_type": "code",
   "execution_count": 6,
   "id": "c602f708",
   "metadata": {},
   "outputs": [],
   "source": [
    "#Define early stopping\n",
    "early_stop = EarlyStopping(\n",
    "             monitor   = \"valid_loss\",\n",
    "             patience  = 200,\n",
    "             threshold = 1e-5,\n",
    "             threshold_mode  =\"rel\",\n",
    "             lower_is_better = True)"
   ]
  },
  {
   "cell_type": "markdown",
   "id": "ab7c7b3f",
   "metadata": {},
   "source": [
    "### Grid search using Skorch"
   ]
  },
  {
   "cell_type": "code",
   "execution_count": 11,
   "id": "608f74f0",
   "metadata": {},
   "outputs": [],
   "source": [
    "#Prepare the network for the gridsearch using Skorch\n",
    "#This can be useful when you want to change certain parameters using a callback,\n",
    "#when using the net in an sklearn grid search, etc.\n",
    "\n",
    "net_skorch = NeuralNetRegressor(\n",
    "             module      = Net,\n",
    "             module__Ni  = 1,\n",
    "             module__Nh1 = 128,\n",
    "             module__Nh2 = 256,\n",
    "             module__No  = 1,\n",
    "             module__drop = 0.01,           #use drop as regularization\n",
    "             max_epochs    = 2000,\n",
    "             optimizer     = optim.Adam,     #Optimizer\n",
    "             optimizer__lr = 0.01,           #Learning rate\n",
    "             optimizer__weight_decay = 1e-5, #Weight decay based on L2 norm\n",
    "             #optimizer__momentum     = 1e-4, #Add momentum \n",
    "             criterion     = nn.MSELoss,     #Loss function\n",
    "             callbacks     = [early_stop],\n",
    "             verbose = 0\n",
    "    )"
   ]
  },
  {
   "cell_type": "code",
   "execution_count": 12,
   "id": "44e7b3a4",
   "metadata": {},
   "outputs": [],
   "source": [
    "#Define the search space for the grid\n",
    "params = {\n",
    "    \"module__Nh1\": [25,50,75,100],\n",
    "    \"module__Nh2\": [25,50,75,100],\n",
    "    \"module__drop\":[0.001,0.5],\n",
    "    }\n",
    "    #\"max_epochs\":  [1000],\n",
    "    #\"lr\":          [1e-4,1e-3,1e-2],\n",
    "    #\"optimizer__weight_decay\": [1e-5],\n",
    "    #\"optimizer__momentum\":     [0,1e-4],\n",
    "    #\"optimizer\": [optim.SGD]\n",
    "#}\n"
   ]
  },
  {
   "cell_type": "code",
   "execution_count": 13,
   "id": "e775bbe7",
   "metadata": {},
   "outputs": [],
   "source": [
    "#For the cross validation cv specifies the number of folds in a (Stratified)KFold\n",
    "k_fold = 5\n",
    "\n",
    "gs = GridSearchCV(net_skorch, params, refit=True, cv=k_fold, scoring='neg_mean_squared_error',verbose=2)\n"
   ]
  },
  {
   "cell_type": "code",
   "execution_count": 14,
   "id": "c0556b8b",
   "metadata": {
    "scrolled": true
   },
   "outputs": [
    {
     "name": "stdout",
     "output_type": "stream",
     "text": [
      "Fitting 5 folds for each of 32 candidates, totalling 160 fits\n",
      "Network initialized\n",
      "[CV] END .module__Nh1=25, module__Nh2=25, module__drop=0.001; total time=   0.7s\n",
      "Network initialized\n",
      "[CV] END .module__Nh1=25, module__Nh2=25, module__drop=0.001; total time=   1.0s\n",
      "Network initialized\n",
      "[CV] END .module__Nh1=25, module__Nh2=25, module__drop=0.001; total time=   2.3s\n",
      "Network initialized\n",
      "[CV] END .module__Nh1=25, module__Nh2=25, module__drop=0.001; total time=   3.0s\n",
      "Network initialized\n",
      "[CV] END .module__Nh1=25, module__Nh2=25, module__drop=0.001; total time=   4.4s\n",
      "Network initialized\n",
      "[CV] END ...module__Nh1=25, module__Nh2=25, module__drop=0.5; total time=   1.0s\n",
      "Network initialized\n",
      "[CV] END ...module__Nh1=25, module__Nh2=25, module__drop=0.5; total time=   1.0s\n",
      "Network initialized\n",
      "[CV] END ...module__Nh1=25, module__Nh2=25, module__drop=0.5; total time=   1.5s\n",
      "Network initialized\n",
      "[CV] END ...module__Nh1=25, module__Nh2=25, module__drop=0.5; total time=   1.7s\n",
      "Network initialized\n",
      "[CV] END ...module__Nh1=25, module__Nh2=25, module__drop=0.5; total time=   3.0s\n",
      "Network initialized\n",
      "[CV] END .module__Nh1=25, module__Nh2=50, module__drop=0.001; total time=   0.8s\n",
      "Network initialized\n",
      "[CV] END .module__Nh1=25, module__Nh2=50, module__drop=0.001; total time=   1.1s\n",
      "Network initialized\n",
      "[CV] END .module__Nh1=25, module__Nh2=50, module__drop=0.001; total time=   1.3s\n",
      "Network initialized\n",
      "[CV] END .module__Nh1=25, module__Nh2=50, module__drop=0.001; total time=   1.8s\n",
      "Network initialized\n",
      "[CV] END .module__Nh1=25, module__Nh2=50, module__drop=0.001; total time=   4.2s\n",
      "Network initialized\n",
      "[CV] END ...module__Nh1=25, module__Nh2=50, module__drop=0.5; total time=   0.9s\n",
      "Network initialized\n",
      "[CV] END ...module__Nh1=25, module__Nh2=50, module__drop=0.5; total time=   1.5s\n",
      "Network initialized\n",
      "[CV] END ...module__Nh1=25, module__Nh2=50, module__drop=0.5; total time=   3.0s\n",
      "Network initialized\n",
      "[CV] END ...module__Nh1=25, module__Nh2=50, module__drop=0.5; total time=   1.4s\n",
      "Network initialized\n",
      "[CV] END ...module__Nh1=25, module__Nh2=50, module__drop=0.5; total time=   2.3s\n",
      "Network initialized\n",
      "[CV] END .module__Nh1=25, module__Nh2=75, module__drop=0.001; total time=   0.6s\n",
      "Network initialized\n",
      "[CV] END .module__Nh1=25, module__Nh2=75, module__drop=0.001; total time=   1.1s\n",
      "Network initialized\n",
      "[CV] END .module__Nh1=25, module__Nh2=75, module__drop=0.001; total time=   3.2s\n",
      "Network initialized\n",
      "[CV] END .module__Nh1=25, module__Nh2=75, module__drop=0.001; total time=   3.0s\n",
      "Network initialized\n",
      "[CV] END .module__Nh1=25, module__Nh2=75, module__drop=0.001; total time=   3.1s\n",
      "Network initialized\n",
      "[CV] END ...module__Nh1=25, module__Nh2=75, module__drop=0.5; total time=   0.8s\n",
      "Network initialized\n",
      "[CV] END ...module__Nh1=25, module__Nh2=75, module__drop=0.5; total time=   2.8s\n",
      "Network initialized\n",
      "[CV] END ...module__Nh1=25, module__Nh2=75, module__drop=0.5; total time=   3.6s\n",
      "Network initialized\n",
      "[CV] END ...module__Nh1=25, module__Nh2=75, module__drop=0.5; total time=   4.7s\n",
      "Network initialized\n",
      "[CV] END ...module__Nh1=25, module__Nh2=75, module__drop=0.5; total time=   3.5s\n",
      "Network initialized\n",
      "[CV] END module__Nh1=25, module__Nh2=100, module__drop=0.001; total time=   0.9s\n",
      "Network initialized\n",
      "[CV] END module__Nh1=25, module__Nh2=100, module__drop=0.001; total time=   1.4s\n",
      "Network initialized\n",
      "[CV] END module__Nh1=25, module__Nh2=100, module__drop=0.001; total time=   5.1s\n",
      "Network initialized\n",
      "[CV] END module__Nh1=25, module__Nh2=100, module__drop=0.001; total time=   5.9s\n",
      "Network initialized\n",
      "[CV] END module__Nh1=25, module__Nh2=100, module__drop=0.001; total time=   3.1s\n",
      "Network initialized\n",
      "[CV] END ..module__Nh1=25, module__Nh2=100, module__drop=0.5; total time=   1.2s\n",
      "Network initialized\n",
      "[CV] END ..module__Nh1=25, module__Nh2=100, module__drop=0.5; total time=   1.6s\n",
      "Network initialized\n",
      "[CV] END ..module__Nh1=25, module__Nh2=100, module__drop=0.5; total time=   3.4s\n",
      "Network initialized\n",
      "[CV] END ..module__Nh1=25, module__Nh2=100, module__drop=0.5; total time=   3.2s\n",
      "Network initialized\n",
      "[CV] END ..module__Nh1=25, module__Nh2=100, module__drop=0.5; total time=   2.3s\n",
      "Network initialized\n",
      "[CV] END .module__Nh1=50, module__Nh2=25, module__drop=0.001; total time=   0.7s\n",
      "Network initialized\n",
      "[CV] END .module__Nh1=50, module__Nh2=25, module__drop=0.001; total time=   1.4s\n",
      "Network initialized\n",
      "[CV] END .module__Nh1=50, module__Nh2=25, module__drop=0.001; total time=   1.6s\n",
      "Network initialized\n",
      "[CV] END .module__Nh1=50, module__Nh2=25, module__drop=0.001; total time=   1.9s\n",
      "Network initialized\n",
      "[CV] END .module__Nh1=50, module__Nh2=25, module__drop=0.001; total time=   2.0s\n",
      "Network initialized\n",
      "[CV] END ...module__Nh1=50, module__Nh2=25, module__drop=0.5; total time=   1.1s\n",
      "Network initialized\n",
      "[CV] END ...module__Nh1=50, module__Nh2=25, module__drop=0.5; total time=   1.3s\n",
      "Network initialized\n",
      "[CV] END ...module__Nh1=50, module__Nh2=25, module__drop=0.5; total time=   5.1s\n",
      "Network initialized\n",
      "[CV] END ...module__Nh1=50, module__Nh2=25, module__drop=0.5; total time=   2.6s\n",
      "Network initialized\n",
      "[CV] END ...module__Nh1=50, module__Nh2=25, module__drop=0.5; total time=   2.3s\n",
      "Network initialized\n",
      "[CV] END .module__Nh1=50, module__Nh2=50, module__drop=0.001; total time=   0.8s\n",
      "Network initialized\n",
      "[CV] END .module__Nh1=50, module__Nh2=50, module__drop=0.001; total time=   1.0s\n",
      "Network initialized\n",
      "[CV] END .module__Nh1=50, module__Nh2=50, module__drop=0.001; total time=   1.4s\n",
      "Network initialized\n",
      "[CV] END .module__Nh1=50, module__Nh2=50, module__drop=0.001; total time=   1.8s\n",
      "Network initialized\n",
      "[CV] END .module__Nh1=50, module__Nh2=50, module__drop=0.001; total time=   2.4s\n",
      "Network initialized\n",
      "[CV] END ...module__Nh1=50, module__Nh2=50, module__drop=0.5; total time=   0.7s\n",
      "Network initialized\n",
      "[CV] END ...module__Nh1=50, module__Nh2=50, module__drop=0.5; total time=   0.8s\n",
      "Network initialized\n",
      "[CV] END ...module__Nh1=50, module__Nh2=50, module__drop=0.5; total time=   2.6s\n",
      "Network initialized\n",
      "[CV] END ...module__Nh1=50, module__Nh2=50, module__drop=0.5; total time=   2.1s\n",
      "Network initialized\n",
      "[CV] END ...module__Nh1=50, module__Nh2=50, module__drop=0.5; total time=   2.2s\n",
      "Network initialized\n",
      "[CV] END .module__Nh1=50, module__Nh2=75, module__drop=0.001; total time=   0.8s\n",
      "Network initialized\n",
      "[CV] END .module__Nh1=50, module__Nh2=75, module__drop=0.001; total time=   1.1s\n",
      "Network initialized\n",
      "[CV] END .module__Nh1=50, module__Nh2=75, module__drop=0.001; total time=   3.7s\n",
      "Network initialized\n",
      "[CV] END .module__Nh1=50, module__Nh2=75, module__drop=0.001; total time=   2.2s\n",
      "Network initialized\n",
      "[CV] END .module__Nh1=50, module__Nh2=75, module__drop=0.001; total time=   1.3s\n",
      "Network initialized\n",
      "[CV] END ...module__Nh1=50, module__Nh2=75, module__drop=0.5; total time=   0.8s\n",
      "Network initialized\n",
      "[CV] END ...module__Nh1=50, module__Nh2=75, module__drop=0.5; total time=   1.1s\n",
      "Network initialized\n",
      "[CV] END ...module__Nh1=50, module__Nh2=75, module__drop=0.5; total time=   2.5s\n",
      "Network initialized\n",
      "[CV] END ...module__Nh1=50, module__Nh2=75, module__drop=0.5; total time=   2.0s\n",
      "Network initialized\n",
      "[CV] END ...module__Nh1=50, module__Nh2=75, module__drop=0.5; total time=   2.2s\n",
      "Network initialized\n",
      "[CV] END module__Nh1=50, module__Nh2=100, module__drop=0.001; total time=   0.8s\n",
      "Network initialized\n",
      "[CV] END module__Nh1=50, module__Nh2=100, module__drop=0.001; total time=   1.3s\n",
      "Network initialized\n",
      "[CV] END module__Nh1=50, module__Nh2=100, module__drop=0.001; total time=   2.4s\n",
      "Network initialized\n",
      "[CV] END module__Nh1=50, module__Nh2=100, module__drop=0.001; total time=   2.9s\n",
      "Network initialized\n",
      "[CV] END module__Nh1=50, module__Nh2=100, module__drop=0.001; total time=   1.3s\n",
      "Network initialized\n",
      "[CV] END ..module__Nh1=50, module__Nh2=100, module__drop=0.5; total time=   0.9s\n",
      "Network initialized\n",
      "[CV] END ..module__Nh1=50, module__Nh2=100, module__drop=0.5; total time=   1.0s\n",
      "Network initialized\n",
      "[CV] END ..module__Nh1=50, module__Nh2=100, module__drop=0.5; total time=   1.4s\n",
      "Network initialized\n",
      "[CV] END ..module__Nh1=50, module__Nh2=100, module__drop=0.5; total time=   1.5s\n",
      "Network initialized\n",
      "[CV] END ..module__Nh1=50, module__Nh2=100, module__drop=0.5; total time=   3.4s\n",
      "Network initialized\n",
      "[CV] END .module__Nh1=75, module__Nh2=25, module__drop=0.001; total time=   0.6s\n",
      "Network initialized\n"
     ]
    },
    {
     "name": "stdout",
     "output_type": "stream",
     "text": [
      "[CV] END .module__Nh1=75, module__Nh2=25, module__drop=0.001; total time=   0.8s\n",
      "Network initialized\n",
      "[CV] END .module__Nh1=75, module__Nh2=25, module__drop=0.001; total time=   2.1s\n",
      "Network initialized\n",
      "[CV] END .module__Nh1=75, module__Nh2=25, module__drop=0.001; total time=   2.3s\n",
      "Network initialized\n",
      "[CV] END .module__Nh1=75, module__Nh2=25, module__drop=0.001; total time=   3.3s\n",
      "Network initialized\n",
      "[CV] END ...module__Nh1=75, module__Nh2=25, module__drop=0.5; total time=   0.6s\n",
      "Network initialized\n",
      "[CV] END ...module__Nh1=75, module__Nh2=25, module__drop=0.5; total time=   0.9s\n",
      "Network initialized\n",
      "[CV] END ...module__Nh1=75, module__Nh2=25, module__drop=0.5; total time=   1.4s\n",
      "Network initialized\n",
      "[CV] END ...module__Nh1=75, module__Nh2=25, module__drop=0.5; total time=   2.4s\n",
      "Network initialized\n",
      "[CV] END ...module__Nh1=75, module__Nh2=25, module__drop=0.5; total time=   5.2s\n",
      "Network initialized\n",
      "[CV] END .module__Nh1=75, module__Nh2=50, module__drop=0.001; total time=   0.8s\n",
      "Network initialized\n",
      "[CV] END .module__Nh1=75, module__Nh2=50, module__drop=0.001; total time=   1.0s\n",
      "Network initialized\n",
      "[CV] END .module__Nh1=75, module__Nh2=50, module__drop=0.001; total time=   2.5s\n",
      "Network initialized\n",
      "[CV] END .module__Nh1=75, module__Nh2=50, module__drop=0.001; total time=   1.9s\n",
      "Network initialized\n",
      "[CV] END .module__Nh1=75, module__Nh2=50, module__drop=0.001; total time=   3.4s\n",
      "Network initialized\n",
      "[CV] END ...module__Nh1=75, module__Nh2=50, module__drop=0.5; total time=   0.8s\n",
      "Network initialized\n",
      "[CV] END ...module__Nh1=75, module__Nh2=50, module__drop=0.5; total time=   2.0s\n",
      "Network initialized\n",
      "[CV] END ...module__Nh1=75, module__Nh2=50, module__drop=0.5; total time=   3.4s\n",
      "Network initialized\n",
      "[CV] END ...module__Nh1=75, module__Nh2=50, module__drop=0.5; total time=   3.3s\n",
      "Network initialized\n",
      "[CV] END ...module__Nh1=75, module__Nh2=50, module__drop=0.5; total time=   4.9s\n",
      "Network initialized\n",
      "[CV] END .module__Nh1=75, module__Nh2=75, module__drop=0.001; total time=   0.7s\n",
      "Network initialized\n",
      "[CV] END .module__Nh1=75, module__Nh2=75, module__drop=0.001; total time=   1.6s\n",
      "Network initialized\n",
      "[CV] END .module__Nh1=75, module__Nh2=75, module__drop=0.001; total time=   1.3s\n",
      "Network initialized\n",
      "[CV] END .module__Nh1=75, module__Nh2=75, module__drop=0.001; total time=   2.6s\n",
      "Network initialized\n",
      "[CV] END .module__Nh1=75, module__Nh2=75, module__drop=0.001; total time=   1.6s\n",
      "Network initialized\n",
      "[CV] END ...module__Nh1=75, module__Nh2=75, module__drop=0.5; total time=   0.8s\n",
      "Network initialized\n",
      "[CV] END ...module__Nh1=75, module__Nh2=75, module__drop=0.5; total time=   0.8s\n",
      "Network initialized\n",
      "[CV] END ...module__Nh1=75, module__Nh2=75, module__drop=0.5; total time=   3.4s\n",
      "Network initialized\n",
      "[CV] END ...module__Nh1=75, module__Nh2=75, module__drop=0.5; total time=   2.3s\n",
      "Network initialized\n",
      "[CV] END ...module__Nh1=75, module__Nh2=75, module__drop=0.5; total time=   1.3s\n",
      "Network initialized\n",
      "[CV] END module__Nh1=75, module__Nh2=100, module__drop=0.001; total time=   0.8s\n",
      "Network initialized\n",
      "[CV] END module__Nh1=75, module__Nh2=100, module__drop=0.001; total time=   0.9s\n",
      "Network initialized\n",
      "[CV] END module__Nh1=75, module__Nh2=100, module__drop=0.001; total time=   1.1s\n",
      "Network initialized\n",
      "[CV] END module__Nh1=75, module__Nh2=100, module__drop=0.001; total time=   1.9s\n",
      "Network initialized\n",
      "[CV] END module__Nh1=75, module__Nh2=100, module__drop=0.001; total time=   2.5s\n",
      "Network initialized\n",
      "[CV] END ..module__Nh1=75, module__Nh2=100, module__drop=0.5; total time=   0.8s\n",
      "Network initialized\n",
      "[CV] END ..module__Nh1=75, module__Nh2=100, module__drop=0.5; total time=   3.4s\n",
      "Network initialized\n",
      "[CV] END ..module__Nh1=75, module__Nh2=100, module__drop=0.5; total time=   2.1s\n",
      "Network initialized\n",
      "[CV] END ..module__Nh1=75, module__Nh2=100, module__drop=0.5; total time=   3.0s\n",
      "Network initialized\n",
      "[CV] END ..module__Nh1=75, module__Nh2=100, module__drop=0.5; total time=   3.3s\n",
      "Network initialized\n",
      "[CV] END module__Nh1=100, module__Nh2=25, module__drop=0.001; total time=   1.0s\n",
      "Network initialized\n",
      "[CV] END module__Nh1=100, module__Nh2=25, module__drop=0.001; total time=   1.0s\n",
      "Network initialized\n",
      "[CV] END module__Nh1=100, module__Nh2=25, module__drop=0.001; total time=   2.5s\n",
      "Network initialized\n",
      "[CV] END module__Nh1=100, module__Nh2=25, module__drop=0.001; total time=   2.0s\n",
      "Network initialized\n",
      "[CV] END module__Nh1=100, module__Nh2=25, module__drop=0.001; total time=   5.3s\n",
      "Network initialized\n",
      "[CV] END ..module__Nh1=100, module__Nh2=25, module__drop=0.5; total time=   0.8s\n",
      "Network initialized\n",
      "[CV] END ..module__Nh1=100, module__Nh2=25, module__drop=0.5; total time=   1.0s\n",
      "Network initialized\n",
      "[CV] END ..module__Nh1=100, module__Nh2=25, module__drop=0.5; total time=   1.8s\n",
      "Network initialized\n",
      "[CV] END ..module__Nh1=100, module__Nh2=25, module__drop=0.5; total time=   2.8s\n",
      "Network initialized\n",
      "[CV] END ..module__Nh1=100, module__Nh2=25, module__drop=0.5; total time=   4.3s\n",
      "Network initialized\n",
      "[CV] END module__Nh1=100, module__Nh2=50, module__drop=0.001; total time=   0.8s\n",
      "Network initialized\n",
      "[CV] END module__Nh1=100, module__Nh2=50, module__drop=0.001; total time=   2.0s\n",
      "Network initialized\n",
      "[CV] END module__Nh1=100, module__Nh2=50, module__drop=0.001; total time=   1.9s\n",
      "Network initialized\n",
      "[CV] END module__Nh1=100, module__Nh2=50, module__drop=0.001; total time=   4.1s\n",
      "Network initialized\n",
      "[CV] END module__Nh1=100, module__Nh2=50, module__drop=0.001; total time=   2.9s\n",
      "Network initialized\n",
      "[CV] END ..module__Nh1=100, module__Nh2=50, module__drop=0.5; total time=   0.8s\n",
      "Network initialized\n",
      "[CV] END ..module__Nh1=100, module__Nh2=50, module__drop=0.5; total time=   2.1s\n",
      "Network initialized\n",
      "[CV] END ..module__Nh1=100, module__Nh2=50, module__drop=0.5; total time=   1.2s\n",
      "Network initialized\n",
      "[CV] END ..module__Nh1=100, module__Nh2=50, module__drop=0.5; total time=   3.7s\n",
      "Network initialized\n",
      "[CV] END ..module__Nh1=100, module__Nh2=50, module__drop=0.5; total time=   1.6s\n",
      "Network initialized\n",
      "[CV] END module__Nh1=100, module__Nh2=75, module__drop=0.001; total time=   0.8s\n",
      "Network initialized\n",
      "[CV] END module__Nh1=100, module__Nh2=75, module__drop=0.001; total time=   1.0s\n",
      "Network initialized\n",
      "[CV] END module__Nh1=100, module__Nh2=75, module__drop=0.001; total time=   2.1s\n",
      "Network initialized\n",
      "[CV] END module__Nh1=100, module__Nh2=75, module__drop=0.001; total time=   3.1s\n",
      "Network initialized\n",
      "[CV] END module__Nh1=100, module__Nh2=75, module__drop=0.001; total time=   1.8s\n",
      "Network initialized\n",
      "[CV] END ..module__Nh1=100, module__Nh2=75, module__drop=0.5; total time=   0.9s\n",
      "Network initialized\n",
      "[CV] END ..module__Nh1=100, module__Nh2=75, module__drop=0.5; total time=   0.9s\n",
      "Network initialized\n",
      "[CV] END ..module__Nh1=100, module__Nh2=75, module__drop=0.5; total time=   1.8s\n",
      "Network initialized\n",
      "[CV] END ..module__Nh1=100, module__Nh2=75, module__drop=0.5; total time=   1.7s\n",
      "Network initialized\n",
      "[CV] END ..module__Nh1=100, module__Nh2=75, module__drop=0.5; total time=   1.6s\n",
      "Network initialized\n",
      "[CV] END module__Nh1=100, module__Nh2=100, module__drop=0.001; total time=   0.8s\n",
      "Network initialized\n",
      "[CV] END module__Nh1=100, module__Nh2=100, module__drop=0.001; total time=   1.0s\n",
      "Network initialized\n",
      "[CV] END module__Nh1=100, module__Nh2=100, module__drop=0.001; total time=   2.7s\n",
      "Network initialized\n",
      "[CV] END module__Nh1=100, module__Nh2=100, module__drop=0.001; total time=   3.4s\n",
      "Network initialized\n",
      "[CV] END module__Nh1=100, module__Nh2=100, module__drop=0.001; total time=   2.6s\n",
      "Network initialized\n",
      "[CV] END .module__Nh1=100, module__Nh2=100, module__drop=0.5; total time=   0.8s\n",
      "Network initialized\n",
      "[CV] END .module__Nh1=100, module__Nh2=100, module__drop=0.5; total time=   2.6s\n",
      "Network initialized\n",
      "[CV] END .module__Nh1=100, module__Nh2=100, module__drop=0.5; total time=   1.2s\n",
      "Network initialized\n",
      "[CV] END .module__Nh1=100, module__Nh2=100, module__drop=0.5; total time=   1.4s\n",
      "Network initialized\n",
      "[CV] END .module__Nh1=100, module__Nh2=100, module__drop=0.5; total time=   1.5s\n",
      "Network initialized\n",
      "-5.399381846189499 {'module__Nh1': 25, 'module__Nh2': 25, 'module__drop': 0.001}\n"
     ]
    }
   ],
   "source": [
    "gs.fit(x_train,y_train)\n",
    "print(gs.best_score_, gs.best_params_)"
   ]
  },
  {
   "cell_type": "code",
   "execution_count": 15,
   "id": "a6b1f850",
   "metadata": {},
   "outputs": [
    {
     "name": "stdout",
     "output_type": "stream",
     "text": [
      "<class 'skorch.regressor.NeuralNetRegressor'>[initialized](\n",
      "  module_=Net(\n",
      "    (fc1): Linear(in_features=1, out_features=25, bias=True)\n",
      "    (dr1): Dropout(p=0.001, inplace=False)\n",
      "    (fc2): Linear(in_features=25, out_features=25, bias=True)\n",
      "    (out): Linear(in_features=25, out_features=1, bias=True)\n",
      "    (sig): Sigmoid()\n",
      "    (relu): ReLU()\n",
      "  ),\n",
      ")\n"
     ]
    }
   ],
   "source": [
    "#set the best model\n",
    "chosen_net = gs.best_estimator_\n",
    "print(chosen_net)"
   ]
  },
  {
   "cell_type": "code",
   "execution_count": 16,
   "id": "d922fc0a",
   "metadata": {},
   "outputs": [
    {
     "name": "stdout",
     "output_type": "stream",
     "text": [
      "Network initialized\n"
     ]
    },
    {
     "data": {
      "text/plain": [
       "<class 'skorch.regressor.NeuralNetRegressor'>[initialized](\n",
       "  module_=Net(\n",
       "    (fc1): Linear(in_features=1, out_features=25, bias=True)\n",
       "    (dr1): Dropout(p=0.001, inplace=False)\n",
       "    (fc2): Linear(in_features=25, out_features=25, bias=True)\n",
       "    (out): Linear(in_features=25, out_features=1, bias=True)\n",
       "    (sig): Sigmoid()\n",
       "    (relu): ReLU()\n",
       "  ),\n",
       ")"
      ]
     },
     "execution_count": 16,
     "metadata": {},
     "output_type": "execute_result"
    }
   ],
   "source": [
    "chosen_net.fit(x_train, y_train)"
   ]
  },
  {
   "cell_type": "code",
   "execution_count": 17,
   "id": "7e9d6a34",
   "metadata": {},
   "outputs": [],
   "source": [
    "#Retrieve train loss and validation loss for all epochs to check its evolution\n",
    "history        = chosen_net.history\n",
    "train_loss_log = history[:, 'train_loss']\n",
    "val_loss_log   = history[:, 'valid_loss']"
   ]
  },
  {
   "cell_type": "code",
   "execution_count": 23,
   "id": "394bc439",
   "metadata": {},
   "outputs": [
    {
     "data": {
      "image/png": "[encoded data removed]",
      "text/plain": [
       "<Figure size 864x576 with 1 Axes>"
      ]
     },
     "metadata": {
      "needs_background": "light"
     },
     "output_type": "display_data"
    }
   ],
   "source": [
    "# Plot losses\n",
    "plt.figure(figsize=(12,8))\n",
    "plt.semilogy(train_loss_log)\n",
    "plt.semilogy(val_loss_log)\n",
    "plt.title('Loss', fontsize = 20)\n",
    "plt.xlabel('Epoch', fontsize = 15)\n",
    "plt.ylabel('Loss', fontsize = 15)\n",
    "plt.legend(['Train loss', 'Validation loss'], loc='best', fontsize = 20)\n",
    "plt.savefig(\"regularization_Losses.png\")\n",
    "plt.show()"
   ]
  },
  {
   "cell_type": "markdown",
   "id": "b798a53d",
   "metadata": {},
   "source": [
    "### Best model predictions"
   ]
  },
  {
   "cell_type": "code",
   "execution_count": 19,
   "id": "aa47a253",
   "metadata": {},
   "outputs": [],
   "source": [
    "#Predict values for the test set\n",
    "y_pred = chosen_net.predict(x_test)\n",
    "y_pred = torch.from_numpy(y_pred).float()"
   ]
  },
  {
   "cell_type": "code",
   "execution_count": 20,
   "id": "366e2bfe",
   "metadata": {},
   "outputs": [],
   "source": [
    "#As the x values are not ordered we order it with the corresponding y predictions for plotting purpose\n",
    "zipped_lists = zip(x_test, y_pred)\n",
    "sorted_pairs = sorted(zipped_lists)\n",
    "\n",
    "tuples = zip(*sorted_pairs)\n",
    "x, y = [ list(tuple) for tuple in  tuples]"
   ]
  },
  {
   "cell_type": "code",
   "execution_count": 21,
   "id": "578f39b9",
   "metadata": {},
   "outputs": [
    {
     "name": "stderr",
     "output_type": "stream",
     "text": [
      "C:\\Users\\hilar\\anaconda3\\envs\\NNDL_torch\\lib\\site-packages\\numpy\\core\\shape_base.py:65: FutureWarning: The input object of type 'Tensor' is an array-like implementing one of the corresponding protocols (`__array__`, `__array_interface__` or `__array_struct__`); but not a sequence (or 0-D). In the future, this object will be coerced as if it was first converted using `np.array(obj)`. To retain the old behaviour, you have to either modify the type 'Tensor', or assign to an empty array created with `np.empty(correct_shape, dtype=object)`.\n",
      "  ary = asanyarray(ary)\n",
      "C:\\Users\\hilar\\anaconda3\\envs\\NNDL_torch\\lib\\site-packages\\numpy\\core\\shape_base.py:65: VisibleDeprecationWarning: Creating an ndarray from ragged nested sequences (which is a list-or-tuple of lists-or-tuples-or ndarrays with different lengths or shapes) is deprecated. If you meant to do this, you must specify 'dtype=object' when creating the ndarray.\n",
      "  ary = asanyarray(ary)\n"
     ]
    },
    {
     "data": {
      "image/png": "[encoded data removed]",
      "text/plain": [
       "<Figure size 864x576 with 1 Axes>"
      ]
     },
     "metadata": {
      "needs_background": "light"
     },
     "output_type": "display_data"
    }
   ],
   "source": [
    "# Plot output\n",
    "plt.figure(figsize=(12,8))\n",
    "plt.plot(x, y, color='b', ls='--', label='Network output')\n",
    "plt.plot(x_train, y_train, color='r', ls='', marker='.', label='Train data points')\n",
    "plt.plot(x_test,  y_test, color='g', ls='', marker='.', label='Test data points')\n",
    "plt.xlabel('x')\n",
    "plt.ylabel('y')\n",
    "plt.grid()\n",
    "plt.legend()\n",
    "plt.show()"
   ]
  },
  {
   "cell_type": "code",
   "execution_count": 18,
   "id": "23c31f38",
   "metadata": {},
   "outputs": [],
   "source": [
    "#Access network parameters\n",
    "net = chosen_net.module_"
   ]
  },
  {
   "cell_type": "code",
   "execution_count": 19,
   "id": "012ddfa3",
   "metadata": {},
   "outputs": [],
   "source": [
    "# First hidden layer\n",
    "h1_w = net.fc1.weight.data.cpu().numpy()\n",
    "h1_b = net.fc1.bias.data.cpu().numpy()\n",
    "\n",
    "# Second hidden layer\n",
    "h2_w = net.fc2.weight.data.cpu().numpy()\n",
    "h2_b = net.fc2.bias.data.cpu().numpy()\n",
    "\n",
    "# Output layer\n",
    "out_w = net.out.weight.data.cpu().numpy()\n",
    "out_b = net.out.bias.data.cpu().numpy()"
   ]
  },
  {
   "cell_type": "code",
   "execution_count": 20,
   "id": "ed56c856",
   "metadata": {},
   "outputs": [
    {
     "data": {
      "image/png": "[encoded data removed]",
      "text/plain": [
       "<Figure size 864x576 with 3 Axes>"
      ]
     },
     "metadata": {
      "needs_background": "light"
     },
     "output_type": "display_data"
    }
   ],
   "source": [
    "# Weights histogram\n",
    "fig, axs = plt.subplots(3, 1, figsize=(12,8))\n",
    "axs[0].hist(h1_w.flatten(), 50)\n",
    "axs[0].set_title('First hidden layer weights')\n",
    "axs[1].hist(h2_w.flatten(), 50)\n",
    "axs[1].set_title('Second hidden layer weights')\n",
    "axs[2].hist(out_w.flatten(), 50)\n",
    "axs[2].set_title('Output layer weights')\n",
    "[ax.grid() for ax in axs]\n",
    "plt.tight_layout()\n",
    "plt.show()"
   ]
  },
  {
   "cell_type": "code",
   "execution_count": 21,
   "id": "f357c8dc",
   "metadata": {},
   "outputs": [
    {
     "name": "stdout",
     "output_type": "stream",
     "text": [
      "Training device: cpu\n"
     ]
    }
   ],
   "source": [
    "# Check if the GPU is available\n",
    "device = torch.device(\"cuda\") if torch.cuda.is_available() else torch.device(\"cpu\")\n",
    "print(f\"Training device: {device}\")"
   ]
  },
  {
   "cell_type": "code",
   "execution_count": 22,
   "id": "67c14e72",
   "metadata": {},
   "outputs": [
    {
     "data": {
      "image/png": "[encoded data removed]",
      "text/plain": [
       "<Figure size 864x432 with 3 Axes>"
      ]
     },
     "metadata": {
      "needs_background": "light"
     },
     "output_type": "display_data"
    }
   ],
   "source": [
    "# First naive way: simply change the network definition to return an additional output\n",
    "\n",
    "# More advanced strategy: using hooks\n",
    "\n",
    "def get_activation(layer, input, output):\n",
    "    global activation\n",
    "    activation = torch.sigmoid(output)\n",
    "\n",
    "### Register hook  \n",
    "hook_handle = net.fc2.register_forward_hook(get_activation)\n",
    "\n",
    "### Analyze activations\n",
    "net = net.to(device)\n",
    "net.eval()\n",
    "with torch.no_grad():\n",
    "    x1 = torch.tensor([0.1]).float().to(device)\n",
    "    y1 = net(x1)\n",
    "    z1 = activation\n",
    "    x2 = torch.tensor([0.9]).float().to(device)\n",
    "    y2 = net(x2)\n",
    "    z2 = activation\n",
    "    x3 = torch.tensor([2.5]).float().to(device)\n",
    "    y3 = net(x3)\n",
    "    z3 = activation\n",
    "\n",
    "### Remove hook\n",
    "hook_handle.remove()\n",
    "\n",
    "### Plot activations\n",
    "fig, axs = plt.subplots(3, 1, figsize=(12,6))\n",
    "axs[0].stem(z1.cpu().numpy(), use_line_collection=True)\n",
    "axs[0].set_title('Last layer activations for input x=%.2f' % x1)\n",
    "axs[1].stem(z2.cpu().numpy(), use_line_collection=True)\n",
    "axs[1].set_title('Last layer activations for input x=%.2f' % x2)\n",
    "axs[2].stem(z3.cpu().numpy(), use_line_collection=True)\n",
    "axs[2].set_title('Last layer activations for input x=%.2f' % x3)\n",
    "plt.tight_layout()\n",
    "plt.show()"
   ]
  },
  {
   "cell_type": "code",
   "execution_count": null,
   "id": "56c6ee89",
   "metadata": {},
   "outputs": [],
   "source": []
  },
  {
   "cell_type": "code",
   "execution_count": null,
   "id": "62633f44",
   "metadata": {},
   "outputs": [],
   "source": []
  },
  {
   "cell_type": "code",
   "execution_count": null,
   "id": "1edf30f5",
   "metadata": {},
   "outputs": [],
   "source": []
  },
  {
   "cell_type": "code",
   "execution_count": null,
   "id": "18b56df2",
   "metadata": {},
   "outputs": [],
   "source": []
  },
  {
   "cell_type": "code",
   "execution_count": null,
   "id": "22003f93",
   "metadata": {},
   "outputs": [],
   "source": []
  }
 ],
 "metadata": {
  "kernelspec": {
   "display_name": "Python 3 (ipykernel)",
   "language": "python",
   "name": "python3"
  },
  "language_info": {
   "codemirror_mode": {
    "name": "ipython",
    "version": 3
   },
   "file_extension": ".py",
   "mimetype": "text/x-python",
   "name": "python",
   "nbconvert_exporter": "python",
   "pygments_lexer": "ipython3",
   "version": "3.8.13"
  }
 },
 "nbformat": 4,
 "nbformat_minor": 5
}
