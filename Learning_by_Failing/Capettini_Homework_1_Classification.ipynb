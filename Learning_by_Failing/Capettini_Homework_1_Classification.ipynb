{
 "cells": [
  {
   "cell_type": "markdown",
   "id": "a8a9c3d0",
   "metadata": {},
   "source": [
    "# Classification task"
   ]
  },
  {
   "cell_type": "markdown",
   "id": "74d4e60b",
   "metadata": {},
   "source": [
    "* The goal is to train a neural network that maps an input image (from fashionMNIST) to one of ten classes (multi-class classification problem with mutually exclusive classes).\n",
    "* Define a proper loss (e.g. [torch.nn.CrossEntropyLoss](https://pytorch.org/docs/stable/generated/torch.nn.CrossEntropyLoss.html#torch.nn.CrossEntropyLoss))\n",
    "* Also here, consider to create a validation set from you training data, or use a k-fold cross-validation strategy.\n",
    "* Pay attention to the shape, data type and output values range. If needed, modify them accordingly to your implementation (read carefully the documentation of the layers that you use, e.g. [torch.nn.Conv2d](https://pytorch.org/docs/stable/generated/torch.nn.Conv2d.html)).\n",
    "* Explore different optimizers, acivation functions, network architectures. Analyze the effect of different regularization methods, such as dropout layers, random transformations (image rotation, scaling, add noise...) or L2 regularization (weight decay)."
   ]
  },
  {
   "cell_type": "markdown",
   "id": "1d7c0f7b",
   "metadata": {},
   "source": [
    "## Dataset"
   ]
  },
  {
   "cell_type": "code",
   "execution_count": 1,
   "id": "4307acdc",
   "metadata": {},
   "outputs": [
    {
     "name": "stderr",
     "output_type": "stream",
     "text": [
      "C:\\Users\\hilar\\anaconda3\\envs\\NNDL_torch\\lib\\site-packages\\tqdm\\auto.py:22: TqdmWarning: IProgress not found. Please update jupyter and ipywidgets. See https://ipywidgets.readthedocs.io/en/stable/user_install.html\n",
      "  from .autonotebook import tqdm as notebook_tqdm\n"
     ]
    }
   ],
   "source": [
    "import torch\n",
    "import torchvision\n",
    "import matplotlib.pyplot as plt\n",
    "import numpy as np\n",
    "\n",
    "from torch.utils.data import Dataset, DataLoader\n",
    "import torch.nn as nn\n",
    "import torch.optim as optim\n",
    "import torch.nn.functional as F"
   ]
  },
  {
   "cell_type": "code",
   "execution_count": 3,
   "id": "4d76ed1b",
   "metadata": {
    "scrolled": true
   },
   "outputs": [],
   "source": [
    "# train_dataset = torchvision.datasets.FashionMNIST('classifier_data', train=True, download=True)\n",
    "# test_dataset  = torchvision.datasets.FashionMNIST('classifier_data', train=False, download=True)"
   ]
  },
  {
   "cell_type": "markdown",
   "id": "eed8ac99",
   "metadata": {},
   "source": [
    "Get an image and its corresponding label"
   ]
  },
  {
   "cell_type": "code",
   "execution_count": 4,
   "id": "104c3416",
   "metadata": {
    "scrolled": false
   },
   "outputs": [
    {
     "name": "stdout",
     "output_type": "stream",
     "text": [
      "SAMPLE AT INDEX 0\n",
      "LABEL: 9\n"
     ]
    },
    {
     "data": {
      "image/png": "[encoded data removed]",
      "text/plain": [
       "<Figure size 360x360 with 1 Axes>"
      ]
     },
     "metadata": {
      "needs_background": "light"
     },
     "output_type": "display_data"
    }
   ],
   "source": [
    "sample_index = 0\n",
    "image = train_dataset[sample_index][0]\n",
    "label = train_dataset[sample_index][1]\n",
    "\n",
    "fig = plt.figure(figsize=(5,5))\n",
    "plt.imshow(image, cmap='Greys')\n",
    "print(f\"SAMPLE AT INDEX {sample_index}\")\n",
    "print(f\"LABEL: {label}\")"
   ]
  },
  {
   "cell_type": "markdown",
   "id": "af3e5d8b",
   "metadata": {},
   "source": [
    "The output of the dataset is a PIL Image, a python object specifically developed to manage and process images. PyTorch supports this format, and there are useful transforms available natively in the framework: https://pytorch.org/docs/stable/torchvision/transforms.html\n"
   ]
  },
  {
   "cell_type": "markdown",
   "id": "0d6da59e",
   "metadata": {},
   "source": [
    "If you want, you can easily convert a PIL image to a numpy array and entirely ignore the PIL object:"
   ]
  },
  {
   "cell_type": "code",
   "execution_count": 6,
   "id": "95718a33",
   "metadata": {},
   "outputs": [
    {
     "name": "stdout",
     "output_type": "stream",
     "text": [
      "Numpy array shape: (28, 28)\n",
      "Numpy array type: uint8\n"
     ]
    }
   ],
   "source": [
    "image_numpy = np.array(image)\n",
    "\n",
    "print(f'Numpy array shape: {image_numpy.shape}')\n",
    "print(f'Numpy array type: {image_numpy.dtype}')"
   ]
  },
  {
   "cell_type": "markdown",
   "id": "a63b7df7",
   "metadata": {},
   "source": [
    "To transform a PIL Image directly to a PyTorch tensor, instead:"
   ]
  },
  {
   "cell_type": "code",
   "execution_count": 9,
   "id": "1adc76f3",
   "metadata": {},
   "outputs": [
    {
     "name": "stdout",
     "output_type": "stream",
     "text": [
      "PyTorch tensor shape: torch.Size([1, 28, 28])\n",
      "PyTorch tensor type: torch.float32\n"
     ]
    }
   ],
   "source": [
    "to_tensor = torchvision.transforms.ToTensor()\n",
    "image_tensor = to_tensor(image)\n",
    "\n",
    "print(f'PyTorch tensor shape: {image_tensor.shape}')\n",
    "print(f'PyTorch tensor type: {image_tensor.dtype}')"
   ]
  },
  {
   "cell_type": "code",
   "execution_count": 2,
   "id": "dfab5a1b",
   "metadata": {},
   "outputs": [],
   "source": [
    "train_transform = torchvision.transforms.Compose([torchvision.transforms.ToTensor()]) \n",
    "\n",
    "test_transform = torchvision.transforms.Compose([torchvision.transforms.ToTensor()]) "
   ]
  },
  {
   "cell_type": "code",
   "execution_count": 3,
   "id": "32eb1936",
   "metadata": {},
   "outputs": [],
   "source": [
    "train_dataset = torchvision.datasets.FashionMNIST('classifier_data', train=True, download=True,transform=train_transform)\n",
    "\n",
    "test_dataset  = torchvision.datasets.FashionMNIST('classifier_data', train=False, download=True,transform=test_transform)"
   ]
  },
  {
   "cell_type": "code",
   "execution_count": 4,
   "id": "191ed758",
   "metadata": {},
   "outputs": [
    {
     "name": "stdout",
     "output_type": "stream",
     "text": [
      "# of training samples  : 48000\n",
      "# of validation samples: 12000\n",
      "# of test samples      : 10000\n"
     ]
    }
   ],
   "source": [
    "#Define a validation dataset\n",
    "train_percent = 0.8\n",
    "n_train      = int(train_percent * len(train_dataset))\n",
    "n_validation = len(train_dataset) - n_train\n",
    "train_dataset, validation_dataset = torch.utils.data.random_split(train_dataset, [n_train, n_validation])\n",
    "\n",
    "print('# of training samples  :',len(train_dataset))\n",
    "print('# of validation samples:',len(validation_dataset))\n",
    "print('# of test samples      :',len(test_dataset))"
   ]
  },
  {
   "cell_type": "code",
   "execution_count": 5,
   "id": "aa598b1c",
   "metadata": {},
   "outputs": [
    {
     "name": "stdout",
     "output_type": "stream",
     "text": [
      "Training device: cpu\n"
     ]
    }
   ],
   "source": [
    "# Check if the GPU is available\n",
    "device = torch.device(\"cuda\") if torch.cuda.is_available() else torch.device(\"cpu\")\n",
    "print(f\"Training device: {device}\")"
   ]
  },
  {
   "cell_type": "code",
   "execution_count": 6,
   "id": "fe4b8df2",
   "metadata": {},
   "outputs": [],
   "source": [
    "batch_size = 400\n",
    "train_dataloader      = DataLoader(train_dataset,      batch_size=batch_size,              shuffle=True, num_workers=0)\n",
    "validation_dataloader = DataLoader(validation_dataset, batch_size=len(validation_dataset), shuffle=False, num_workers=0)\n",
    "test_dataloader       = DataLoader(test_dataset,       batch_size=len(test_dataset),       shuffle=False, num_workers=0)"
   ]
  },
  {
   "cell_type": "code",
   "execution_count": 9,
   "id": "231e9767",
   "metadata": {},
   "outputs": [],
   "source": [
    "class ConvNet(nn.Module):\n",
    "    def __init__(self,dropout_rate=0.5,dropout_rate2=0.1,linear_1=50,Nh1=16,Nh2=64):\n",
    "        \n",
    "        super().__init__()\n",
    "\n",
    "        self.conv1 = nn.Conv2d(in_channels=1, out_channels=Nh1, kernel_size=5, stride=1, padding=2)\n",
    "        self.conv2 = nn.Conv2d(in_channels=Nh1, out_channels=Nh2, kernel_size=5, stride=1, padding=2)\n",
    "        \n",
    "        self.drop1=nn.Dropout2d(p=dropout_rate)  \n",
    "        #fully connected layer\n",
    "        self.fc1 = nn.Linear(Nh2 * 7 * 7, linear_1)\n",
    "        self.drop2=nn.Dropout2d(p=dropout_rate2)\n",
    "        self.fc2 = nn.Linear(linear_1, 10)\n",
    "\n",
    "    def forward(self, x):\n",
    "        \n",
    "        x = F.relu(F.max_pool2d(self.conv1(x),kernel_size = 2))\n",
    "        x = F.relu(F.max_pool2d(self.conv2(x),kernel_size = 2))\n",
    "        x = self.drop1(x)        \n",
    "        x = x.view(x.size(0),-1)\n",
    "        x = F.relu(self.fc1(x))\n",
    "        \n",
    "        x = self.drop2(x)\n",
    "        x = self.fc2(x)\n",
    "        \n",
    "        return x"
   ]
  },
  {
   "cell_type": "code",
   "execution_count": 10,
   "id": "e9957297",
   "metadata": {},
   "outputs": [
    {
     "data": {
      "text/plain": [
       "ConvNet(\n",
       "  (conv1): Conv2d(1, 16, kernel_size=(5, 5), stride=(1, 1), padding=(2, 2))\n",
       "  (conv2): Conv2d(16, 64, kernel_size=(5, 5), stride=(1, 1), padding=(2, 2))\n",
       "  (drop1): Dropout2d(p=0.5, inplace=False)\n",
       "  (fc1): Linear(in_features=3136, out_features=50, bias=True)\n",
       "  (drop2): Dropout2d(p=0.1, inplace=False)\n",
       "  (fc2): Linear(in_features=50, out_features=10, bias=True)\n",
       ")"
      ]
     },
     "execution_count": 10,
     "metadata": {},
     "output_type": "execute_result"
    }
   ],
   "source": [
    "# Initialize the network\n",
    "torch.manual_seed(0)\n",
    "\n",
    "net = ConvNet()\n",
    "net.to(device)"
   ]
  },
  {
   "cell_type": "code",
   "execution_count": 11,
   "id": "b1f003b8",
   "metadata": {},
   "outputs": [],
   "source": [
    "# Define the loss function\n",
    "loss_fn = nn.CrossEntropyLoss()\n",
    "\n",
    "# Define the optimizer\n",
    "optimizer = optim.Adam(net.parameters(), lr=0.001)"
   ]
  },
  {
   "cell_type": "code",
   "execution_count": 12,
   "id": "abc7fcb6",
   "metadata": {},
   "outputs": [
    {
     "name": "stdout",
     "output_type": "stream",
     "text": [
      "#################\n",
      "# EPOCH 0\n",
      "#################\n"
     ]
    },
    {
     "name": "stderr",
     "output_type": "stream",
     "text": [
      "C:\\Users\\hilar\\anaconda3\\envs\\NNDL_torch\\lib\\site-packages\\torch\\nn\\functional.py:1320: UserWarning: dropout2d: Received a 2-D input to dropout2d, which is deprecated and will result in an error in a future release. To retain the behavior and silence this warning, please use dropout instead. Note that dropout2d exists to provide channel-wise dropout on inputs with 2 spatial dimensions, a channel dimension, and an optional batch dimension (i.e. 3D or 4D inputs).\n",
      "  warnings.warn(warn_msg)\n"
     ]
    },
    {
     "name": "stdout",
     "output_type": "stream",
     "text": [
      "AVERAGE TRAIN LOSS: 0.934018075466156\n",
      "AVERAGE VAL LOSS: 0.4853222668170929\n",
      "#################\n",
      "# EPOCH 1\n",
      "#################\n",
      "AVERAGE TRAIN LOSS: 0.6482259631156921\n",
      "AVERAGE VAL LOSS: 0.41250255703926086\n",
      "#################\n",
      "# EPOCH 2\n",
      "#################\n",
      "AVERAGE TRAIN LOSS: 0.5885397791862488\n",
      "AVERAGE VAL LOSS: 0.3752780854701996\n",
      "#################\n",
      "# EPOCH 3\n",
      "#################\n",
      "AVERAGE TRAIN LOSS: 0.5673002004623413\n",
      "AVERAGE VAL LOSS: 0.35400861501693726\n",
      "#################\n",
      "# EPOCH 4\n",
      "#################\n",
      "AVERAGE TRAIN LOSS: 0.5442386865615845\n",
      "AVERAGE VAL LOSS: 0.3376205265522003\n",
      "#################\n",
      "# EPOCH 5\n",
      "#################\n",
      "AVERAGE TRAIN LOSS: 0.5213916897773743\n",
      "AVERAGE VAL LOSS: 0.3292308747768402\n",
      "#################\n",
      "# EPOCH 6\n",
      "#################\n",
      "AVERAGE TRAIN LOSS: 0.5101077556610107\n",
      "AVERAGE VAL LOSS: 0.30865833163261414\n",
      "#################\n",
      "# EPOCH 7\n",
      "#################\n",
      "AVERAGE TRAIN LOSS: 0.49435654282569885\n",
      "AVERAGE VAL LOSS: 0.29413294792175293\n",
      "#################\n",
      "# EPOCH 8\n",
      "#################\n",
      "AVERAGE TRAIN LOSS: 0.4896082580089569\n",
      "AVERAGE VAL LOSS: 0.2967643737792969\n",
      "#################\n",
      "# EPOCH 9\n",
      "#################\n",
      "AVERAGE TRAIN LOSS: 0.4688434898853302\n",
      "AVERAGE VAL LOSS: 0.3033418357372284\n"
     ]
    }
   ],
   "source": [
    "### TRAINING LOOP\n",
    "num_epochs = 10\n",
    "train_loss_log = []\n",
    "val_loss_log = []\n",
    "for epoch_num in range(num_epochs):\n",
    "    print('#################')\n",
    "    print(f'# EPOCH {epoch_num}')\n",
    "    print('#################')\n",
    "\n",
    "    ### TRAIN\n",
    "    train_loss= []\n",
    "    net.train() # Training mode (e.g. enable dropout, batchnorm updates,...)\n",
    "    for sample_batched in train_dataloader:\n",
    "        # Move data to device\n",
    "        x_batch = sample_batched[0].to(device)\n",
    "        label_batch = sample_batched[1].to(device)\n",
    "\n",
    "        # Forward pass\n",
    "        out = net(x_batch)\n",
    "\n",
    "        # Compute loss\n",
    "        loss = loss_fn(out, label_batch)\n",
    "\n",
    "        # Backpropagation\n",
    "        net.zero_grad()\n",
    "        loss.backward()\n",
    "\n",
    "        # Update the weights\n",
    "        optimizer.step()\n",
    "\n",
    "        # Save train loss for this batch\n",
    "        loss_batch = loss.detach().cpu().numpy()\n",
    "        train_loss.append(loss_batch)\n",
    "\n",
    "    # Save average train loss\n",
    "    train_loss = np.mean(train_loss)\n",
    "    print(f\"AVERAGE TRAIN LOSS: {train_loss}\")\n",
    "    train_loss_log.append(train_loss)\n",
    "\n",
    "    ### VALIDATION\n",
    "    val_loss= []\n",
    "    net.eval() # Evaluation mode (e.g. disable dropout, batchnorm,...)\n",
    "    with torch.no_grad(): # Disable gradient tracking\n",
    "        for sample_batched in validation_dataloader:\n",
    "            # Move data to device\n",
    "            x_batch = sample_batched[0].to(device)\n",
    "            label_batch = sample_batched[1].to(device)\n",
    "\n",
    "            # Forward pass\n",
    "            out = net(x_batch)\n",
    "\n",
    "            # Compute loss\n",
    "            loss = loss_fn(out, label_batch)\n",
    "\n",
    "            # Save val loss for this batch\n",
    "            loss_batch = loss.detach().cpu().numpy()\n",
    "            val_loss.append(loss_batch)\n",
    "\n",
    "        # Save average validation loss\n",
    "        val_loss = np.mean(val_loss)\n",
    "        print(f\"AVERAGE VAL LOSS: {np.mean(val_loss)}\")\n",
    "        val_loss_log.append(val_loss)\n",
    "    "
   ]
  },
  {
   "cell_type": "code",
   "execution_count": 13,
   "id": "186cc576",
   "metadata": {},
   "outputs": [
    {
     "data": {
      "image/png": "[encoded data removed]",
      "text/plain": [
       "<Figure size 864x576 with 1 Axes>"
      ]
     },
     "metadata": {
      "needs_background": "light"
     },
     "output_type": "display_data"
    }
   ],
   "source": [
    "# Plot losses\n",
    "plt.figure(figsize=(12,8))\n",
    "plt.plot(train_loss_log)\n",
    "plt.plot(val_loss_log)\n",
    "plt.title('Loss', fontsize = 20)\n",
    "plt.xlabel('Epoch', fontsize = 15)\n",
    "plt.ylabel('Loss', fontsize = 15)\n",
    "\n",
    "plt.legend(['Train loss', 'Validation loss'], loc='best', fontsize = 20)\n",
    "plt.show()"
   ]
  },
  {
   "cell_type": "code",
   "execution_count": 16,
   "id": "3b3bfce7",
   "metadata": {},
   "outputs": [
    {
     "name": "stdout",
     "output_type": "stream",
     "text": [
      "AVERAGE TEST LOSS: 0.31034430861473083\n"
     ]
    }
   ],
   "source": [
    "all_inputs = []\n",
    "all_outputs = []\n",
    "all_labels = []\n",
    "net.eval() # Evaluation mode (e.g. disable dropout)\n",
    "with torch.no_grad(): # Disable gradient tracking\n",
    "    for sample_batched in test_dataloader:\n",
    "        # Move data to device\n",
    "        x_batch = sample_batched[0].to(device)\n",
    "        label_batch = sample_batched[1].to(device)\n",
    "        # Forward pass\n",
    "        out = net(x_batch)\n",
    "        # Save outputs and labels\n",
    "        all_inputs.append(x_batch)\n",
    "        all_outputs.append(out)\n",
    "        all_labels.append(label_batch)\n",
    "# Concatenate all the outputs and labels in a single tensor\n",
    "all_inputs  = torch.cat(all_inputs)\n",
    "all_outputs = torch.cat(all_outputs)\n",
    "all_labels  = torch.cat(all_labels)\n",
    "\n",
    "test_loss = loss_fn(all_outputs, all_labels)\n",
    "print(f\"AVERAGE TEST LOSS: {test_loss}\")"
   ]
  },
  {
   "cell_type": "code",
   "execution_count": 29,
   "id": "e38fc611",
   "metadata": {},
   "outputs": [
    {
     "ename": "AttributeError",
     "evalue": "'ConvNet' object has no attribute 'predict'",
     "output_type": "error",
     "traceback": [
      "\u001b[1;31m---------------------------------------------------------------------------\u001b[0m",
      "\u001b[1;31mAttributeError\u001b[0m                            Traceback (most recent call last)",
      "Input \u001b[1;32mIn [29]\u001b[0m, in \u001b[0;36m<cell line: 1>\u001b[1;34m()\u001b[0m\n\u001b[1;32m----> 1\u001b[0m y_pred \u001b[38;5;241m=\u001b[39m \u001b[43mnet\u001b[49m\u001b[38;5;241;43m.\u001b[39;49m\u001b[43mpredict\u001b[49m(test_dataloader,fit_dict\u001b[38;5;241m.\u001b[39mget(\u001b[38;5;124m'\u001b[39m\u001b[38;5;124mdevice\u001b[39m\u001b[38;5;124m'\u001b[39m))\n\u001b[0;32m      2\u001b[0m y_true \u001b[38;5;241m=\u001b[39m np\u001b[38;5;241m.\u001b[39marray([x[\u001b[38;5;241m1\u001b[39m] \u001b[38;5;28;01mfor\u001b[39;00m x \u001b[38;5;129;01min\u001b[39;00m test_dataset])\n",
      "File \u001b[1;32m~\\anaconda3\\envs\\NNDL_torch\\lib\\site-packages\\torch\\nn\\modules\\module.py:1185\u001b[0m, in \u001b[0;36mModule.__getattr__\u001b[1;34m(self, name)\u001b[0m\n\u001b[0;32m   1183\u001b[0m     \u001b[38;5;28;01mif\u001b[39;00m name \u001b[38;5;129;01min\u001b[39;00m modules:\n\u001b[0;32m   1184\u001b[0m         \u001b[38;5;28;01mreturn\u001b[39;00m modules[name]\n\u001b[1;32m-> 1185\u001b[0m \u001b[38;5;28;01mraise\u001b[39;00m \u001b[38;5;167;01mAttributeError\u001b[39;00m(\u001b[38;5;124m\"\u001b[39m\u001b[38;5;124m'\u001b[39m\u001b[38;5;132;01m{}\u001b[39;00m\u001b[38;5;124m'\u001b[39m\u001b[38;5;124m object has no attribute \u001b[39m\u001b[38;5;124m'\u001b[39m\u001b[38;5;132;01m{}\u001b[39;00m\u001b[38;5;124m'\u001b[39m\u001b[38;5;124m\"\u001b[39m\u001b[38;5;241m.\u001b[39mformat(\n\u001b[0;32m   1186\u001b[0m     \u001b[38;5;28mtype\u001b[39m(\u001b[38;5;28mself\u001b[39m)\u001b[38;5;241m.\u001b[39m\u001b[38;5;18m__name__\u001b[39m, name))\n",
      "\u001b[1;31mAttributeError\u001b[0m: 'ConvNet' object has no attribute 'predict'"
     ]
    }
   ],
   "source": [
    "y_pred = net.predict(test_dataloader,fit_dict.get('device'))\n",
    "y_true = np.array([x[1] for x in test_dataset])"
   ]
  },
  {
   "cell_type": "code",
   "execution_count": null,
   "id": "e9daebf1",
   "metadata": {},
   "outputs": [],
   "source": []
  },
  {
   "cell_type": "code",
   "execution_count": 27,
   "id": "5763256b",
   "metadata": {},
   "outputs": [
    {
     "ename": "ValueError",
     "evalue": "Classification metrics can't handle a mix of multiclass and continuous-multioutput targets",
     "output_type": "error",
     "traceback": [
      "\u001b[1;31m---------------------------------------------------------------------------\u001b[0m",
      "\u001b[1;31mValueError\u001b[0m                                Traceback (most recent call last)",
      "Input \u001b[1;32mIn [27]\u001b[0m, in \u001b[0;36m<cell line: 2>\u001b[1;34m()\u001b[0m\n\u001b[0;32m      1\u001b[0m \u001b[38;5;28;01mfrom\u001b[39;00m \u001b[38;5;21;01msklearn\u001b[39;00m\u001b[38;5;21;01m.\u001b[39;00m\u001b[38;5;21;01mmetrics\u001b[39;00m \u001b[38;5;28;01mimport\u001b[39;00m confusion_matrix\n\u001b[1;32m----> 2\u001b[0m cf_matrix \u001b[38;5;241m=\u001b[39m \u001b[43mconfusion_matrix\u001b[49m\u001b[43m(\u001b[49m\u001b[43mall_labels\u001b[49m\u001b[43m,\u001b[49m\u001b[43m \u001b[49m\u001b[43mall_outputs\u001b[49m\u001b[43m)\u001b[49m\n",
      "File \u001b[1;32m~\\anaconda3\\envs\\NNDL_torch\\lib\\site-packages\\sklearn\\metrics\\_classification.py:307\u001b[0m, in \u001b[0;36mconfusion_matrix\u001b[1;34m(y_true, y_pred, labels, sample_weight, normalize)\u001b[0m\n\u001b[0;32m    222\u001b[0m \u001b[38;5;28;01mdef\u001b[39;00m \u001b[38;5;21mconfusion_matrix\u001b[39m(\n\u001b[0;32m    223\u001b[0m     y_true, y_pred, \u001b[38;5;241m*\u001b[39m, labels\u001b[38;5;241m=\u001b[39m\u001b[38;5;28;01mNone\u001b[39;00m, sample_weight\u001b[38;5;241m=\u001b[39m\u001b[38;5;28;01mNone\u001b[39;00m, normalize\u001b[38;5;241m=\u001b[39m\u001b[38;5;28;01mNone\u001b[39;00m\n\u001b[0;32m    224\u001b[0m ):\n\u001b[0;32m    225\u001b[0m     \u001b[38;5;124;03m\"\"\"Compute confusion matrix to evaluate the accuracy of a classification.\u001b[39;00m\n\u001b[0;32m    226\u001b[0m \n\u001b[0;32m    227\u001b[0m \u001b[38;5;124;03m    By definition a confusion matrix :math:`C` is such that :math:`C_{i, j}`\u001b[39;00m\n\u001b[1;32m   (...)\u001b[0m\n\u001b[0;32m    305\u001b[0m \u001b[38;5;124;03m    (0, 2, 1, 1)\u001b[39;00m\n\u001b[0;32m    306\u001b[0m \u001b[38;5;124;03m    \"\"\"\u001b[39;00m\n\u001b[1;32m--> 307\u001b[0m     y_type, y_true, y_pred \u001b[38;5;241m=\u001b[39m \u001b[43m_check_targets\u001b[49m\u001b[43m(\u001b[49m\u001b[43my_true\u001b[49m\u001b[43m,\u001b[49m\u001b[43m \u001b[49m\u001b[43my_pred\u001b[49m\u001b[43m)\u001b[49m\n\u001b[0;32m    308\u001b[0m     \u001b[38;5;28;01mif\u001b[39;00m y_type \u001b[38;5;129;01mnot\u001b[39;00m \u001b[38;5;129;01min\u001b[39;00m (\u001b[38;5;124m\"\u001b[39m\u001b[38;5;124mbinary\u001b[39m\u001b[38;5;124m\"\u001b[39m, \u001b[38;5;124m\"\u001b[39m\u001b[38;5;124mmulticlass\u001b[39m\u001b[38;5;124m\"\u001b[39m):\n\u001b[0;32m    309\u001b[0m         \u001b[38;5;28;01mraise\u001b[39;00m \u001b[38;5;167;01mValueError\u001b[39;00m(\u001b[38;5;124m\"\u001b[39m\u001b[38;5;132;01m%s\u001b[39;00m\u001b[38;5;124m is not supported\u001b[39m\u001b[38;5;124m\"\u001b[39m \u001b[38;5;241m%\u001b[39m y_type)\n",
      "File \u001b[1;32m~\\anaconda3\\envs\\NNDL_torch\\lib\\site-packages\\sklearn\\metrics\\_classification.py:93\u001b[0m, in \u001b[0;36m_check_targets\u001b[1;34m(y_true, y_pred)\u001b[0m\n\u001b[0;32m     90\u001b[0m     y_type \u001b[38;5;241m=\u001b[39m {\u001b[38;5;124m\"\u001b[39m\u001b[38;5;124mmulticlass\u001b[39m\u001b[38;5;124m\"\u001b[39m}\n\u001b[0;32m     92\u001b[0m \u001b[38;5;28;01mif\u001b[39;00m \u001b[38;5;28mlen\u001b[39m(y_type) \u001b[38;5;241m>\u001b[39m \u001b[38;5;241m1\u001b[39m:\n\u001b[1;32m---> 93\u001b[0m     \u001b[38;5;28;01mraise\u001b[39;00m \u001b[38;5;167;01mValueError\u001b[39;00m(\n\u001b[0;32m     94\u001b[0m         \u001b[38;5;124m\"\u001b[39m\u001b[38;5;124mClassification metrics can\u001b[39m\u001b[38;5;124m'\u001b[39m\u001b[38;5;124mt handle a mix of \u001b[39m\u001b[38;5;132;01m{0}\u001b[39;00m\u001b[38;5;124m and \u001b[39m\u001b[38;5;132;01m{1}\u001b[39;00m\u001b[38;5;124m targets\u001b[39m\u001b[38;5;124m\"\u001b[39m\u001b[38;5;241m.\u001b[39mformat(\n\u001b[0;32m     95\u001b[0m             type_true, type_pred\n\u001b[0;32m     96\u001b[0m         )\n\u001b[0;32m     97\u001b[0m     )\n\u001b[0;32m     99\u001b[0m \u001b[38;5;66;03m# We can't have more than one value on y_type => The set is no more needed\u001b[39;00m\n\u001b[0;32m    100\u001b[0m y_type \u001b[38;5;241m=\u001b[39m y_type\u001b[38;5;241m.\u001b[39mpop()\n",
      "\u001b[1;31mValueError\u001b[0m: Classification metrics can't handle a mix of multiclass and continuous-multioutput targets"
     ]
    }
   ],
   "source": [
    "y_pred = model.predict(test_dataloader,fit_dict.get('device'))\n",
    "y_true = np.array([x[1] for x in test_dataset])\n",
    "\n",
    "unique, counts = np.unique(y_true, return_counts=True)\n",
    "matrix = confusion_matrix( y_pred, y_true)\n",
    "\n",
    "\n",
    "print(\"\\n Confusion matrix (normalized)\")\n",
    "plt.figure(figsize = (9,6))\n",
    "sns.heatmap(matrix/counts[:,None], annot=True, fmt =  \"1.2f\" , cmap=\"Reds\" )\n",
    "plt.show()"
   ]
  },
  {
   "cell_type": "code",
   "execution_count": null,
   "id": "6ae2f370",
   "metadata": {},
   "outputs": [],
   "source": []
  }
 ],
 "metadata": {
  "kernelspec": {
   "display_name": "Python 3 (ipykernel)",
   "language": "python",
   "name": "python3"
  },
  "language_info": {
   "codemirror_mode": {
    "name": "ipython",
    "version": 3
   },
   "file_extension": ".py",
   "mimetype": "text/x-python",
   "name": "python",
   "nbconvert_exporter": "python",
   "pygments_lexer": "ipython3",
   "version": "3.8.13"
  }
 },
 "nbformat": 4,
 "nbformat_minor": 5
}
