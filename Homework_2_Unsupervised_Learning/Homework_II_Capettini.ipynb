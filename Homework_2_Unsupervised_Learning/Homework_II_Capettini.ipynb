{
 "cells": [
  {
   "cell_type": "markdown",
   "id": "ce681eeb",
   "metadata": {
    "lang": "en"
   },
   "source": [
    "# Neural Networks and Deep Learning\n",
    "\n",
    "**Homework 1 - Classification task**\n",
    "\n",
    "**Academic Year 2021/2022**\n",
    "**Dr. Alberto Testolin, Dr. Umberto Michieli**\n",
    "\n",
    "**Capettini Croatto Hilario**"
   ]
  },
  {
   "cell_type": "markdown",
   "id": "d5b3a8ad",
   "metadata": {},
   "source": [
    "## General overview"
   ]
  },
  {
   "cell_type": "markdown",
   "id": "05e4b990",
   "metadata": {},
   "source": [
    "Explain it"
   ]
  },
  {
   "cell_type": "code",
   "execution_count": 1,
   "id": "76025adb",
   "metadata": {},
   "outputs": [
    {
     "name": "stdout",
     "output_type": "stream",
     "text": [
      "hello world\n"
     ]
    }
   ],
   "source": [
    "message = \"hello world\"\n",
    "si = True\n",
    "if si : print(message)"
   ]
  },
  {
   "cell_type": "markdown",
   "id": "bdb5363f",
   "metadata": {},
   "source": [
    "# Convolutional Autoencoder"
   ]
  },
  {
   "cell_type": "code",
   "execution_count": null,
   "id": "3a5aeb47",
   "metadata": {},
   "outputs": [],
   "source": []
  },
  {
   "cell_type": "markdown",
   "id": "560b1f4e",
   "metadata": {},
   "source": [
    "## Hyperparameter optimization"
   ]
  },
  {
   "cell_type": "code",
   "execution_count": null,
   "id": "279f7028",
   "metadata": {},
   "outputs": [],
   "source": []
  },
  {
   "cell_type": "markdown",
   "id": "be825c32",
   "metadata": {},
   "source": [
    "## Latent space exploration"
   ]
  },
  {
   "cell_type": "code",
   "execution_count": null,
   "id": "71cf0584",
   "metadata": {},
   "outputs": [],
   "source": []
  },
  {
   "cell_type": "markdown",
   "id": "bc6002d2",
   "metadata": {},
   "source": [
    "## Convolutional autoencoder fine "
   ]
  },
  {
   "cell_type": "code",
   "execution_count": null,
   "id": "8722b349",
   "metadata": {},
   "outputs": [],
   "source": []
  },
  {
   "cell_type": "code",
   "execution_count": null,
   "id": "8e0d4995",
   "metadata": {},
   "outputs": [],
   "source": []
  },
  {
   "cell_type": "code",
   "execution_count": null,
   "id": "93a4962d",
   "metadata": {},
   "outputs": [],
   "source": []
  },
  {
   "cell_type": "code",
   "execution_count": 3,
   "id": "9ba2edfb",
   "metadata": {},
   "outputs": [],
   "source": [
    "!jt -t oceans16"
   ]
  },
  {
   "cell_type": "code",
   "execution_count": null,
   "id": "17bb1876",
   "metadata": {},
   "outputs": [],
   "source": []
  }
 ],
 "metadata": {
  "kernelspec": {
   "display_name": "Python 3 (ipykernel)",
   "language": "python",
   "name": "python3"
  },
  "language_info": {
   "codemirror_mode": {
    "name": "ipython",
    "version": 3
   },
   "file_extension": ".py",
   "mimetype": "text/x-python",
   "name": "python",
   "nbconvert_exporter": "python",
   "pygments_lexer": "ipython3",
   "version": "3.8.13"
  },
  "nbTranslate": {
   "displayLangs": [
    "*"
   ],
   "hotkey": "alt-t",
   "langInMainMenu": true,
   "sourceLang": "en",
   "targetLang": "fr",
   "useGoogleTranslate": true
  },
  "toc": {
   "base_numbering": 1,
   "nav_menu": {},
   "number_sections": true,
   "sideBar": true,
   "skip_h1_title": false,
   "title_cell": "Table of Contents",
   "title_sidebar": "Contents",
   "toc_cell": false,
   "toc_position": {},
   "toc_section_display": true,
   "toc_window_display": true
  }
 },
 "nbformat": 4,
 "nbformat_minor": 5
}
