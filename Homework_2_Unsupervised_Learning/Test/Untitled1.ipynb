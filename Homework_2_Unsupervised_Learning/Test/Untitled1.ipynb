{
 "cells": [
  {
   "cell_type": "code",
   "execution_count": 1,
   "id": "c0a16289",
   "metadata": {},
   "outputs": [
    {
     "name": "stderr",
     "output_type": "stream",
     "text": [
      "C:\\Users\\hilar\\anaconda3\\envs\\NNDL_torch\\lib\\site-packages\\tqdm\\auto.py:22: TqdmWarning: IProgress not found. Please update jupyter and ipywidgets. See https://ipywidgets.readthedocs.io/en/stable/user_install.html\n",
      "  from .autonotebook import tqdm as notebook_tqdm\n"
     ]
    }
   ],
   "source": [
    "##IMPORTS\n",
    "#Basics\n",
    "import random\n",
    "import numpy as np\n",
    "import pandas as pd\n",
    "import matplotlib.pyplot as plt\n",
    "import os # create directories in the local filesystem\n",
    "from tqdm import tqdm # plot progress bars\n",
    "import plotly.express as px\n",
    "\n",
    "#PyTorch\n",
    "import torch\n",
    "import torchvision\n",
    "from torchvision import transforms\n",
    "from torch.utils.data import  DataLoader\n",
    "from torch import nn\n",
    "\n",
    "\n",
    "import torch.optim as optim\n",
    "import torch.nn.functional as F\n",
    "\n",
    "#Pytoprch lightning\n",
    "\n",
    "\n",
    "#For Optuna (Hyperparameters search)\n",
    "import optuna\n",
    "from optuna.integration import PyTorchLightningPruningCallback\n",
    "\n",
    "#Confusion matrix\n",
    "from sklearn.metrics import confusion_matrix\n",
    "import seaborn as sns\n",
    "\n",
    "# For latent space exploration\n",
    "from sklearn.decomposition import PCA\n",
    "from sklearn.manifold import TSNE\n",
    "\n",
    "# Models definitions and training models"
   ]
  },
  {
   "cell_type": "code",
   "execution_count": 2,
   "id": "012a8a93",
   "metadata": {},
   "outputs": [],
   "source": [
    "# Set seeds for reproducibility (PyTorch, Python, Numpy)\n",
    "matricola = 2013031\n",
    "torch.manual_seed(matricola)\n",
    "random.seed(matricola)\n",
    "np.random.seed(matricola)"
   ]
  },
  {
   "cell_type": "code",
   "execution_count": 3,
   "id": "8174d60e",
   "metadata": {},
   "outputs": [],
   "source": [
    "### Download the data and create dataset\n",
    "data_dir = '../dataset'\n",
    "# With these commands the train and test datasets, respectively, are downloaded \n",
    "# automatically and stored in the local \"data_dir\" directory.\n",
    "train_dataset = torchvision.datasets.FashionMNIST('../dataset', train=True, download=False)\n"
   ]
  },
  {
   "cell_type": "code",
   "execution_count": 4,
   "id": "fd8c4ab1",
   "metadata": {},
   "outputs": [],
   "source": [
    "# In this case the train_transform and test_transform are the same, \n",
    "# but we keep them separate for potential future updates\n",
    "train_transform = transforms.Compose([\n",
    "    transforms.ToTensor(),\n",
    "])\n",
    "\n",
    "# Set the train transform\n",
    "train_dataset.transform = train_transform\n"
   ]
  },
  {
   "cell_type": "code",
   "execution_count": 5,
   "id": "be17682b",
   "metadata": {},
   "outputs": [],
   "source": [
    "class Discriminator(nn.Module):\n",
    "    def __init__(self,dp=0.3):\n",
    "        super().__init__()\n",
    "        self.model = nn.Sequential(\n",
    "            nn.Linear(784, 1024),\n",
    "            nn.ReLU(),\n",
    "            nn.Dropout(dp),\n",
    "            nn.Linear(1024, 512),\n",
    "            nn.ReLU(),\n",
    "            nn.Dropout(dp),\n",
    "            nn.Linear(512, 256),\n",
    "            nn.ReLU(),\n",
    "            nn.Dropout(dp),\n",
    "            nn.Linear(256, 1),\n",
    "            nn.Sigmoid(),\n",
    "        )\n",
    "\n",
    "    def forward(self, x):\n",
    "        x = x.view(x.size(0), 784)\n",
    "        output = self.model(x)\n",
    "        return output"
   ]
  },
  {
   "cell_type": "code",
   "execution_count": 6,
   "id": "9124f44a",
   "metadata": {},
   "outputs": [],
   "source": [
    "class Generator(nn.Module):\n",
    "    def __init__(self):\n",
    "        super().__init__()\n",
    "        self.model = nn.Sequential(\n",
    "            nn.Linear(100, 256),\n",
    "            nn.ReLU(),\n",
    "            nn.Linear(256, 512),\n",
    "            nn.ReLU(),\n",
    "            nn.Linear(512, 1024),\n",
    "            nn.ReLU(),\n",
    "            nn.Linear(1024, 784),\n",
    "            nn.Tanh(),\n",
    "        )\n",
    "\n",
    "    def forward(self, x):\n",
    "        output = self.model(x)\n",
    "        output = output.view(x.size(0), 1, 28, 28)\n",
    "        return output\n"
   ]
  },
  {
   "cell_type": "code",
   "execution_count": 12,
   "id": "03c326df",
   "metadata": {},
   "outputs": [],
   "source": [
    "batch_size =32\n",
    "\n",
    "### Define train dataloader\n",
    "train_dataloader = DataLoader(train_dataset, batch_size=batch_size, shuffle=True)"
   ]
  },
  {
   "cell_type": "code",
   "execution_count": 7,
   "id": "a12dce7b",
   "metadata": {},
   "outputs": [],
   "source": [
    "learning_rate = 0.0001\n",
    "regularization = 0.\n",
    "num_epochs = 5"
   ]
  },
  {
   "cell_type": "code",
   "execution_count": 8,
   "id": "c8101257",
   "metadata": {},
   "outputs": [],
   "source": [
    "discriminator = Discriminator()\n",
    "generator = Generator()"
   ]
  },
  {
   "cell_type": "code",
   "execution_count": 9,
   "id": "9867cf22",
   "metadata": {},
   "outputs": [
    {
     "name": "stdout",
     "output_type": "stream",
     "text": [
      "Selected device: cpu\n"
     ]
    },
    {
     "data": {
      "text/plain": [
       "Generator(\n",
       "  (model): Sequential(\n",
       "    (0): Linear(in_features=100, out_features=256, bias=True)\n",
       "    (1): ReLU()\n",
       "    (2): Linear(in_features=256, out_features=512, bias=True)\n",
       "    (3): ReLU()\n",
       "    (4): Linear(in_features=512, out_features=1024, bias=True)\n",
       "    (5): ReLU()\n",
       "    (6): Linear(in_features=1024, out_features=784, bias=True)\n",
       "    (7): Tanh()\n",
       "  )\n",
       ")"
      ]
     },
     "execution_count": 9,
     "metadata": {},
     "output_type": "execute_result"
    }
   ],
   "source": [
    "### Define the loss function\n",
    "loss_fn = nn.BCELoss()\n",
    "\n",
    "### Define an optimizer (both for the encoder and the decoder!)\n",
    "# params_to_optimize = [\n",
    "#     {'params': discriminator.parameters()},\n",
    "#     {'params': generator.parameters()}\n",
    "# ]\n",
    "# optimizer = torch.optim.Adam(params_to_optimize, lr=learning_rate, weight_decay=regularization)\n",
    "optimizer_discriminator = torch.optim.Adam(discriminator.parameters(), lr=learning_rate)\n",
    "optimizer_generator     = torch.optim.Adam(generator.parameters(), lr=learning_rate)\n",
    "\n",
    "# Check if the GPU is available\n",
    "device = torch.device(\"cuda\") if torch.cuda.is_available() else torch.device(\"cpu\")\n",
    "print(f'Selected device: {device}')\n",
    "\n",
    "#Send model to device\n",
    "discriminator.to(device)\n",
    "generator.to(device)"
   ]
  },
  {
   "cell_type": "code",
   "execution_count": 8,
   "id": "8b76134a",
   "metadata": {},
   "outputs": [],
   "source": [
    "discriminator = Discriminator().to(device=device)\n",
    "generator = Generator().to(device=device)\n"
   ]
  },
  {
   "cell_type": "code",
   "execution_count": 10,
   "id": "5099ca40",
   "metadata": {},
   "outputs": [],
   "source": [
    "lr = 0.0001\n",
    "num_epochs = 2\n",
    "loss_function = nn.BCELoss()\n",
    "batch_size = 32\n",
    "\n",
    "optimizer_discriminator = torch.optim.Adam(discriminator.parameters(), lr=lr)\n",
    "optimizer_generator = torch.optim.Adam(generator.parameters(), lr=lr)\n"
   ]
  },
  {
   "cell_type": "code",
   "execution_count": 15,
   "id": "6ff926dd",
   "metadata": {},
   "outputs": [],
   "source": [
    "def sample_generator_to_train_discriminator(real_samples, device, batch_size):\n",
    "    \n",
    "    # Assign label 1 to real images\n",
    "    real_samples = real_samples.to(device)\n",
    "    real_labels  = torch.ones((batch_size,1)).to(device)\n",
    "    \n",
    "    # Generate some fake images\n",
    "    noise_sample = torch.randn((batch_size, 100)).to(device)\n",
    "    fake_samples = generator(noise_sample)\n",
    "    fake_labels  = torch.zeros((batch_size, 1)).to(device)\n",
    "    \n",
    "    # Concatenate all the data which will serve as training dataset for the discriminator\n",
    "    all_samples = torch.cat((real_samples,fake_samples))\n",
    "    all_labels  = torch.cat((real_labels, fake_labels))\n",
    "    \n",
    "    return all_samples, all_labels,real_labels\n"
   ]
  },
  {
   "cell_type": "code",
   "execution_count": 16,
   "id": "ede67731",
   "metadata": {},
   "outputs": [
    {
     "name": "stdout",
     "output_type": "stream",
     "text": [
      "Epoch: 0 Loss D.: 0.7166830897331238\n",
      "Epoch: 0 Loss G.: 0.46276816725730896\n"
     ]
    },
    {
     "ename": "KeyboardInterrupt",
     "evalue": "",
     "output_type": "error",
     "traceback": [
      "\u001b[1;31m---------------------------------------------------------------------------\u001b[0m",
      "\u001b[1;31mKeyboardInterrupt\u001b[0m                         Traceback (most recent call last)",
      "Input \u001b[1;32mIn [16]\u001b[0m, in \u001b[0;36m<cell line: 1>\u001b[1;34m()\u001b[0m\n\u001b[0;32m     24\u001b[0m loss_generator \u001b[38;5;241m=\u001b[39m loss_fn(output_discriminator_generated, real_samples_labels)\n\u001b[0;32m     25\u001b[0m loss_generator\u001b[38;5;241m.\u001b[39mbackward()\n\u001b[1;32m---> 26\u001b[0m \u001b[43moptimizer_generator\u001b[49m\u001b[38;5;241;43m.\u001b[39;49m\u001b[43mstep\u001b[49m\u001b[43m(\u001b[49m\u001b[43m)\u001b[49m\n\u001b[0;32m     28\u001b[0m \u001b[38;5;66;03m# Show loss\u001b[39;00m\n\u001b[0;32m     29\u001b[0m \u001b[38;5;28;01mif\u001b[39;00m n \u001b[38;5;241m==\u001b[39m batch_size \u001b[38;5;241m-\u001b[39m \u001b[38;5;241m1\u001b[39m:\n",
      "File \u001b[1;32m~\\anaconda3\\envs\\NNDL_torch\\lib\\site-packages\\torch\\optim\\optimizer.py:88\u001b[0m, in \u001b[0;36mOptimizer._hook_for_profile.<locals>.profile_hook_step.<locals>.wrapper\u001b[1;34m(*args, **kwargs)\u001b[0m\n\u001b[0;32m     86\u001b[0m profile_name \u001b[38;5;241m=\u001b[39m \u001b[38;5;124m\"\u001b[39m\u001b[38;5;124mOptimizer.step#\u001b[39m\u001b[38;5;132;01m{}\u001b[39;00m\u001b[38;5;124m.step\u001b[39m\u001b[38;5;124m\"\u001b[39m\u001b[38;5;241m.\u001b[39mformat(obj\u001b[38;5;241m.\u001b[39m\u001b[38;5;18m__class__\u001b[39m\u001b[38;5;241m.\u001b[39m\u001b[38;5;18m__name__\u001b[39m)\n\u001b[0;32m     87\u001b[0m \u001b[38;5;28;01mwith\u001b[39;00m torch\u001b[38;5;241m.\u001b[39mautograd\u001b[38;5;241m.\u001b[39mprofiler\u001b[38;5;241m.\u001b[39mrecord_function(profile_name):\n\u001b[1;32m---> 88\u001b[0m     \u001b[38;5;28;01mreturn\u001b[39;00m \u001b[43mfunc\u001b[49m\u001b[43m(\u001b[49m\u001b[38;5;241;43m*\u001b[39;49m\u001b[43margs\u001b[49m\u001b[43m,\u001b[49m\u001b[43m \u001b[49m\u001b[38;5;241;43m*\u001b[39;49m\u001b[38;5;241;43m*\u001b[39;49m\u001b[43mkwargs\u001b[49m\u001b[43m)\u001b[49m\n",
      "File \u001b[1;32m~\\anaconda3\\envs\\NNDL_torch\\lib\\site-packages\\torch\\autograd\\grad_mode.py:27\u001b[0m, in \u001b[0;36m_DecoratorContextManager.__call__.<locals>.decorate_context\u001b[1;34m(*args, **kwargs)\u001b[0m\n\u001b[0;32m     24\u001b[0m \u001b[38;5;129m@functools\u001b[39m\u001b[38;5;241m.\u001b[39mwraps(func)\n\u001b[0;32m     25\u001b[0m \u001b[38;5;28;01mdef\u001b[39;00m \u001b[38;5;21mdecorate_context\u001b[39m(\u001b[38;5;241m*\u001b[39margs, \u001b[38;5;241m*\u001b[39m\u001b[38;5;241m*\u001b[39mkwargs):\n\u001b[0;32m     26\u001b[0m     \u001b[38;5;28;01mwith\u001b[39;00m \u001b[38;5;28mself\u001b[39m\u001b[38;5;241m.\u001b[39mclone():\n\u001b[1;32m---> 27\u001b[0m         \u001b[38;5;28;01mreturn\u001b[39;00m \u001b[43mfunc\u001b[49m\u001b[43m(\u001b[49m\u001b[38;5;241;43m*\u001b[39;49m\u001b[43margs\u001b[49m\u001b[43m,\u001b[49m\u001b[43m \u001b[49m\u001b[38;5;241;43m*\u001b[39;49m\u001b[38;5;241;43m*\u001b[39;49m\u001b[43mkwargs\u001b[49m\u001b[43m)\u001b[49m\n",
      "File \u001b[1;32m~\\anaconda3\\envs\\NNDL_torch\\lib\\site-packages\\torch\\optim\\adam.py:141\u001b[0m, in \u001b[0;36mAdam.step\u001b[1;34m(self, closure)\u001b[0m\n\u001b[0;32m    138\u001b[0m             \u001b[38;5;66;03m# record the step after step update\u001b[39;00m\n\u001b[0;32m    139\u001b[0m             state_steps\u001b[38;5;241m.\u001b[39mappend(state[\u001b[38;5;124m'\u001b[39m\u001b[38;5;124mstep\u001b[39m\u001b[38;5;124m'\u001b[39m])\n\u001b[1;32m--> 141\u001b[0m     \u001b[43mF\u001b[49m\u001b[38;5;241;43m.\u001b[39;49m\u001b[43madam\u001b[49m\u001b[43m(\u001b[49m\u001b[43mparams_with_grad\u001b[49m\u001b[43m,\u001b[49m\n\u001b[0;32m    142\u001b[0m \u001b[43m           \u001b[49m\u001b[43mgrads\u001b[49m\u001b[43m,\u001b[49m\n\u001b[0;32m    143\u001b[0m \u001b[43m           \u001b[49m\u001b[43mexp_avgs\u001b[49m\u001b[43m,\u001b[49m\n\u001b[0;32m    144\u001b[0m \u001b[43m           \u001b[49m\u001b[43mexp_avg_sqs\u001b[49m\u001b[43m,\u001b[49m\n\u001b[0;32m    145\u001b[0m \u001b[43m           \u001b[49m\u001b[43mmax_exp_avg_sqs\u001b[49m\u001b[43m,\u001b[49m\n\u001b[0;32m    146\u001b[0m \u001b[43m           \u001b[49m\u001b[43mstate_steps\u001b[49m\u001b[43m,\u001b[49m\n\u001b[0;32m    147\u001b[0m \u001b[43m           \u001b[49m\u001b[43mamsgrad\u001b[49m\u001b[38;5;241;43m=\u001b[39;49m\u001b[43mgroup\u001b[49m\u001b[43m[\u001b[49m\u001b[38;5;124;43m'\u001b[39;49m\u001b[38;5;124;43mamsgrad\u001b[39;49m\u001b[38;5;124;43m'\u001b[39;49m\u001b[43m]\u001b[49m\u001b[43m,\u001b[49m\n\u001b[0;32m    148\u001b[0m \u001b[43m           \u001b[49m\u001b[43mbeta1\u001b[49m\u001b[38;5;241;43m=\u001b[39;49m\u001b[43mbeta1\u001b[49m\u001b[43m,\u001b[49m\n\u001b[0;32m    149\u001b[0m \u001b[43m           \u001b[49m\u001b[43mbeta2\u001b[49m\u001b[38;5;241;43m=\u001b[39;49m\u001b[43mbeta2\u001b[49m\u001b[43m,\u001b[49m\n\u001b[0;32m    150\u001b[0m \u001b[43m           \u001b[49m\u001b[43mlr\u001b[49m\u001b[38;5;241;43m=\u001b[39;49m\u001b[43mgroup\u001b[49m\u001b[43m[\u001b[49m\u001b[38;5;124;43m'\u001b[39;49m\u001b[38;5;124;43mlr\u001b[39;49m\u001b[38;5;124;43m'\u001b[39;49m\u001b[43m]\u001b[49m\u001b[43m,\u001b[49m\n\u001b[0;32m    151\u001b[0m \u001b[43m           \u001b[49m\u001b[43mweight_decay\u001b[49m\u001b[38;5;241;43m=\u001b[39;49m\u001b[43mgroup\u001b[49m\u001b[43m[\u001b[49m\u001b[38;5;124;43m'\u001b[39;49m\u001b[38;5;124;43mweight_decay\u001b[39;49m\u001b[38;5;124;43m'\u001b[39;49m\u001b[43m]\u001b[49m\u001b[43m,\u001b[49m\n\u001b[0;32m    152\u001b[0m \u001b[43m           \u001b[49m\u001b[43meps\u001b[49m\u001b[38;5;241;43m=\u001b[39;49m\u001b[43mgroup\u001b[49m\u001b[43m[\u001b[49m\u001b[38;5;124;43m'\u001b[39;49m\u001b[38;5;124;43meps\u001b[39;49m\u001b[38;5;124;43m'\u001b[39;49m\u001b[43m]\u001b[49m\u001b[43m,\u001b[49m\n\u001b[0;32m    153\u001b[0m \u001b[43m           \u001b[49m\u001b[43mmaximize\u001b[49m\u001b[38;5;241;43m=\u001b[39;49m\u001b[43mgroup\u001b[49m\u001b[43m[\u001b[49m\u001b[38;5;124;43m'\u001b[39;49m\u001b[38;5;124;43mmaximize\u001b[39;49m\u001b[38;5;124;43m'\u001b[39;49m\u001b[43m]\u001b[49m\u001b[43m)\u001b[49m\n\u001b[0;32m    154\u001b[0m \u001b[38;5;28;01mreturn\u001b[39;00m loss\n",
      "File \u001b[1;32m~\\anaconda3\\envs\\NNDL_torch\\lib\\site-packages\\torch\\optim\\_functional.py:97\u001b[0m, in \u001b[0;36madam\u001b[1;34m(params, grads, exp_avgs, exp_avg_sqs, max_exp_avg_sqs, state_steps, amsgrad, beta1, beta2, lr, weight_decay, eps, maximize)\u001b[0m\n\u001b[0;32m     94\u001b[0m     grad \u001b[38;5;241m=\u001b[39m grad\u001b[38;5;241m.\u001b[39madd(param, alpha\u001b[38;5;241m=\u001b[39mweight_decay)\n\u001b[0;32m     96\u001b[0m \u001b[38;5;66;03m# Decay the first and second moment running average coefficient\u001b[39;00m\n\u001b[1;32m---> 97\u001b[0m \u001b[43mexp_avg\u001b[49m\u001b[38;5;241;43m.\u001b[39;49m\u001b[43mmul_\u001b[49m\u001b[43m(\u001b[49m\u001b[43mbeta1\u001b[49m\u001b[43m)\u001b[49m\u001b[38;5;241;43m.\u001b[39;49m\u001b[43madd_\u001b[49m\u001b[43m(\u001b[49m\u001b[43mgrad\u001b[49m\u001b[43m,\u001b[49m\u001b[43m \u001b[49m\u001b[43malpha\u001b[49m\u001b[38;5;241;43m=\u001b[39;49m\u001b[38;5;241;43m1\u001b[39;49m\u001b[43m \u001b[49m\u001b[38;5;241;43m-\u001b[39;49m\u001b[43m \u001b[49m\u001b[43mbeta1\u001b[49m\u001b[43m)\u001b[49m\n\u001b[0;32m     98\u001b[0m exp_avg_sq\u001b[38;5;241m.\u001b[39mmul_(beta2)\u001b[38;5;241m.\u001b[39maddcmul_(grad, grad\u001b[38;5;241m.\u001b[39mconj(), value\u001b[38;5;241m=\u001b[39m\u001b[38;5;241m1\u001b[39m \u001b[38;5;241m-\u001b[39m beta2)\n\u001b[0;32m     99\u001b[0m \u001b[38;5;28;01mif\u001b[39;00m amsgrad:\n\u001b[0;32m    100\u001b[0m     \u001b[38;5;66;03m# Maintains the maximum of all 2nd moment running avg. till now\u001b[39;00m\n",
      "\u001b[1;31mKeyboardInterrupt\u001b[0m: "
     ]
    }
   ],
   "source": [
    "loss_discriminator_ = []\n",
    "loss_generator_     = []\n",
    "\n",
    "for epoch in range(num_epochs):\n",
    "    for n, (real_samples, mnist_labels) in enumerate(train_dataloader):\n",
    "        \n",
    "        \n",
    "        ### Data for training the discriminator\n",
    "        all_samples,all_samples_labels,real_samples_labels = sample_generator_to_train_discriminator(real_samples, device, batch_size)\n",
    "\n",
    "        \n",
    "        ### Training the discriminator\n",
    "        discriminator.zero_grad()\n",
    "        output_discriminator = discriminator(all_samples)\n",
    "        loss_discriminator   = loss_fn(output_discriminator, all_samples_labels)\n",
    "        loss_discriminator.backward()\n",
    "        optimizer_discriminator.step()\n",
    "\n",
    "        ### Data for training the generator\n",
    "        latent_space_samples = torch.randn((batch_size, 100)).to(device=device)  # Sample some noise to feed the generator\n",
    "\n",
    "        ### Training the generator\n",
    "        generator.zero_grad()\n",
    "        generated_samples              = generator(latent_space_samples)\n",
    "        output_discriminator_generated = discriminator(generated_samples)\n",
    "        \n",
    "        loss_generator = loss_fn(output_discriminator_generated, real_samples_labels)\n",
    "        loss_generator.backward()\n",
    "        optimizer_generator.step()\n",
    "\n",
    "        # Show loss\n",
    "        if n == batch_size - 1:\n",
    "            print(f\"Epoch: {epoch} Loss D.: {loss_discriminator}\")\n",
    "            print(f\"Epoch: {epoch} Loss G.: {loss_generator}\")\n",
    "            loss_discriminator_.append(loss_discriminator)\n",
    "            loss_generator_.append(loss_generator)\n",
    "            #Save model\n",
    "            torch.save(generator.state_dict(), f'./Models/encoder_epoch_{epoch}.pth')\n"
   ]
  },
  {
   "cell_type": "code",
   "execution_count": null,
   "id": "0c478146",
   "metadata": {},
   "outputs": [],
   "source": []
  },
  {
   "cell_type": "code",
   "execution_count": null,
   "id": "46bfd1b5",
   "metadata": {},
   "outputs": [],
   "source": []
  },
  {
   "cell_type": "code",
   "execution_count": null,
   "id": "8f069c92",
   "metadata": {},
   "outputs": [],
   "source": []
  },
  {
   "cell_type": "code",
   "execution_count": null,
   "id": "bbb14367",
   "metadata": {},
   "outputs": [],
   "source": []
  },
  {
   "cell_type": "code",
   "execution_count": null,
   "id": "1cafbd12",
   "metadata": {},
   "outputs": [],
   "source": []
  },
  {
   "cell_type": "code",
   "execution_count": null,
   "id": "fc949ed3",
   "metadata": {},
   "outputs": [],
   "source": []
  },
  {
   "cell_type": "code",
   "execution_count": null,
   "id": "58d8c151",
   "metadata": {},
   "outputs": [],
   "source": []
  },
  {
   "cell_type": "code",
   "execution_count": null,
   "id": "7fcc0a44",
   "metadata": {},
   "outputs": [],
   "source": []
  },
  {
   "cell_type": "code",
   "execution_count": null,
   "id": "640bdb69",
   "metadata": {},
   "outputs": [],
   "source": []
  },
  {
   "cell_type": "code",
   "execution_count": null,
   "id": "789d9d53",
   "metadata": {},
   "outputs": [],
   "source": []
  },
  {
   "cell_type": "code",
   "execution_count": null,
   "id": "f1c65a08",
   "metadata": {},
   "outputs": [],
   "source": []
  },
  {
   "cell_type": "code",
   "execution_count": null,
   "id": "2d2eb61d",
   "metadata": {},
   "outputs": [],
   "source": []
  },
  {
   "cell_type": "code",
   "execution_count": null,
   "id": "901bae19",
   "metadata": {},
   "outputs": [],
   "source": []
  },
  {
   "cell_type": "code",
   "execution_count": null,
   "id": "93a51b8d",
   "metadata": {},
   "outputs": [],
   "source": []
  },
  {
   "cell_type": "code",
   "execution_count": null,
   "id": "8734821c",
   "metadata": {},
   "outputs": [],
   "source": []
  },
  {
   "cell_type": "code",
   "execution_count": null,
   "id": "f92f22e4",
   "metadata": {},
   "outputs": [],
   "source": []
  },
  {
   "cell_type": "code",
   "execution_count": null,
   "id": "e09b9449",
   "metadata": {},
   "outputs": [],
   "source": []
  },
  {
   "cell_type": "code",
   "execution_count": 12,
   "id": "c7f95e6e",
   "metadata": {},
   "outputs": [
    {
     "name": "stdout",
     "output_type": "stream",
     "text": [
      "Epoch: 0 Loss D.: 0.6585246920585632\n",
      "Epoch: 0 Loss G.: 0.49052295088768005\n",
      "Epoch: 1 Loss D.: 0.16562753915786743\n",
      "Epoch: 1 Loss G.: 2.1809473037719727\n",
      "Epoch: 2 Loss D.: 0.09341782331466675\n",
      "Epoch: 2 Loss G.: 2.989243268966675\n",
      "Epoch: 3 Loss D.: 0.13858026266098022\n",
      "Epoch: 3 Loss G.: 3.4544970989227295\n",
      "Epoch: 4 Loss D.: 0.09378595650196075\n",
      "Epoch: 4 Loss G.: 3.478379011154175\n",
      "Epoch: 5 Loss D.: 0.16397543251514435\n",
      "Epoch: 5 Loss G.: 2.797163963317871\n",
      "Epoch: 6 Loss D.: 0.37352699041366577\n",
      "Epoch: 6 Loss G.: 2.3098366260528564\n",
      "Epoch: 7 Loss D.: 0.2255706638097763\n",
      "Epoch: 7 Loss G.: 2.105267286300659\n",
      "Epoch: 8 Loss D.: 0.3080088496208191\n",
      "Epoch: 8 Loss G.: 1.602288007736206\n",
      "Epoch: 9 Loss D.: 0.18933814764022827\n",
      "Epoch: 9 Loss G.: 1.87074613571167\n",
      "Epoch: 10 Loss D.: 0.254824161529541\n",
      "Epoch: 10 Loss G.: 1.880683422088623\n",
      "Epoch: 11 Loss D.: 0.32105717062950134\n",
      "Epoch: 11 Loss G.: 1.6206187009811401\n",
      "Epoch: 12 Loss D.: 0.3753243386745453\n",
      "Epoch: 12 Loss G.: 1.670541763305664\n",
      "Epoch: 13 Loss D.: 0.43589526414871216\n",
      "Epoch: 13 Loss G.: 1.6820924282073975\n",
      "Epoch: 14 Loss D.: 0.3359859585762024\n",
      "Epoch: 14 Loss G.: 1.8371480703353882\n",
      "Epoch: 15 Loss D.: 0.3702177107334137\n",
      "Epoch: 15 Loss G.: 1.6060209274291992\n",
      "Epoch: 16 Loss D.: 0.2594415843486786\n",
      "Epoch: 16 Loss G.: 1.6303887367248535\n",
      "Epoch: 17 Loss D.: 0.508968710899353\n",
      "Epoch: 17 Loss G.: 1.2958093881607056\n",
      "Epoch: 18 Loss D.: 0.3678519129753113\n",
      "Epoch: 18 Loss G.: 1.6640501022338867\n",
      "Epoch: 19 Loss D.: 0.3301418125629425\n",
      "Epoch: 19 Loss G.: 1.7287079095840454\n",
      "Epoch: 20 Loss D.: 0.32653582096099854\n",
      "Epoch: 20 Loss G.: 1.2646809816360474\n",
      "Epoch: 21 Loss D.: 0.3346923291683197\n",
      "Epoch: 21 Loss G.: 1.7793627977371216\n",
      "Epoch: 22 Loss D.: 0.24344967305660248\n",
      "Epoch: 22 Loss G.: 1.8084958791732788\n",
      "Epoch: 23 Loss D.: 0.3942151367664337\n",
      "Epoch: 23 Loss G.: 1.7081176042556763\n",
      "Epoch: 24 Loss D.: 0.4678555428981781\n",
      "Epoch: 24 Loss G.: 1.768996238708496\n",
      "Epoch: 25 Loss D.: 0.42686447501182556\n",
      "Epoch: 25 Loss G.: 1.4855947494506836\n",
      "Epoch: 26 Loss D.: 0.3441256880760193\n",
      "Epoch: 26 Loss G.: 1.492476224899292\n",
      "Epoch: 27 Loss D.: 0.4227614104747772\n",
      "Epoch: 27 Loss G.: 1.6443361043930054\n",
      "Epoch: 28 Loss D.: 0.44029369950294495\n",
      "Epoch: 28 Loss G.: 1.2579030990600586\n",
      "Epoch: 29 Loss D.: 0.4484432637691498\n",
      "Epoch: 29 Loss G.: 2.0915462970733643\n",
      "Epoch: 30 Loss D.: 0.3447684347629547\n",
      "Epoch: 30 Loss G.: 1.6190252304077148\n",
      "Epoch: 31 Loss D.: 0.31662508845329285\n",
      "Epoch: 31 Loss G.: 1.360324740409851\n",
      "Epoch: 32 Loss D.: 0.31628453731536865\n",
      "Epoch: 32 Loss G.: 1.7113423347473145\n",
      "Epoch: 33 Loss D.: 0.3395681083202362\n",
      "Epoch: 33 Loss G.: 1.4632704257965088\n",
      "Epoch: 34 Loss D.: 0.39481353759765625\n",
      "Epoch: 34 Loss G.: 1.3367360830307007\n",
      "Epoch: 35 Loss D.: 0.382651150226593\n",
      "Epoch: 35 Loss G.: 1.7193268537521362\n",
      "Epoch: 36 Loss D.: 0.3414313793182373\n",
      "Epoch: 36 Loss G.: 1.6244919300079346\n",
      "Epoch: 37 Loss D.: 0.46408799290657043\n",
      "Epoch: 37 Loss G.: 1.7810859680175781\n",
      "Epoch: 38 Loss D.: 0.4618641138076782\n",
      "Epoch: 38 Loss G.: 1.7014402151107788\n",
      "Epoch: 39 Loss D.: 0.4281575083732605\n",
      "Epoch: 39 Loss G.: 1.6940360069274902\n",
      "Epoch: 40 Loss D.: 0.441342830657959\n",
      "Epoch: 40 Loss G.: 1.5524367094039917\n",
      "Epoch: 41 Loss D.: 0.4238429665565491\n",
      "Epoch: 41 Loss G.: 1.7570085525512695\n",
      "Epoch: 42 Loss D.: 0.40646880865097046\n",
      "Epoch: 42 Loss G.: 1.712807536125183\n",
      "Epoch: 43 Loss D.: 0.4245493412017822\n",
      "Epoch: 43 Loss G.: 1.477850079536438\n",
      "Epoch: 44 Loss D.: 0.4208905100822449\n",
      "Epoch: 44 Loss G.: 1.718902587890625\n",
      "Epoch: 45 Loss D.: 0.4069235622882843\n",
      "Epoch: 45 Loss G.: 1.8780238628387451\n",
      "Epoch: 46 Loss D.: 0.21768034994602203\n",
      "Epoch: 46 Loss G.: 1.7031190395355225\n",
      "Epoch: 47 Loss D.: 0.49244168400764465\n",
      "Epoch: 47 Loss G.: 1.501405954360962\n",
      "Epoch: 48 Loss D.: 0.4199673533439636\n",
      "Epoch: 48 Loss G.: 1.6996486186981201\n",
      "Epoch: 49 Loss D.: 0.2958514392375946\n",
      "Epoch: 49 Loss G.: 1.7026004791259766\n",
      "Epoch: 50 Loss D.: 0.4233211278915405\n",
      "Epoch: 50 Loss G.: 1.648668885231018\n",
      "Epoch: 51 Loss D.: 0.38962820172309875\n",
      "Epoch: 51 Loss G.: 1.6020087003707886\n",
      "Epoch: 52 Loss D.: 0.46355587244033813\n",
      "Epoch: 52 Loss G.: 1.534602403640747\n",
      "Epoch: 53 Loss D.: 0.26014694571495056\n",
      "Epoch: 53 Loss G.: 1.7760416269302368\n",
      "Epoch: 54 Loss D.: 0.5046142935752869\n",
      "Epoch: 54 Loss G.: 1.7574963569641113\n",
      "Epoch: 55 Loss D.: 0.38398128747940063\n",
      "Epoch: 55 Loss G.: 1.996628999710083\n",
      "Epoch: 56 Loss D.: 0.3158584535121918\n",
      "Epoch: 56 Loss G.: 1.5416688919067383\n",
      "Epoch: 57 Loss D.: 0.36330145597457886\n",
      "Epoch: 57 Loss G.: 1.4809870719909668\n",
      "Epoch: 58 Loss D.: 0.3283091187477112\n",
      "Epoch: 58 Loss G.: 1.766494631767273\n",
      "Epoch: 59 Loss D.: 0.2860512137413025\n",
      "Epoch: 59 Loss G.: 1.528876543045044\n",
      "Epoch: 60 Loss D.: 0.4722142815589905\n",
      "Epoch: 60 Loss G.: 1.823914885520935\n",
      "Epoch: 61 Loss D.: 0.416263222694397\n",
      "Epoch: 61 Loss G.: 1.6432461738586426\n",
      "Epoch: 62 Loss D.: 0.34665748476982117\n",
      "Epoch: 62 Loss G.: 1.7121750116348267\n",
      "Epoch: 63 Loss D.: 0.2954423427581787\n",
      "Epoch: 63 Loss G.: 1.831478476524353\n",
      "Epoch: 64 Loss D.: 0.5076472759246826\n",
      "Epoch: 64 Loss G.: 1.5226819515228271\n",
      "Epoch: 65 Loss D.: 0.3349553048610687\n",
      "Epoch: 65 Loss G.: 1.4544543027877808\n",
      "Epoch: 66 Loss D.: 0.3110533356666565\n",
      "Epoch: 66 Loss G.: 1.65346097946167\n",
      "Epoch: 67 Loss D.: 0.39808520674705505\n",
      "Epoch: 67 Loss G.: 1.8256490230560303\n",
      "Epoch: 68 Loss D.: 0.4810527265071869\n",
      "Epoch: 68 Loss G.: 1.5723578929901123\n",
      "Epoch: 69 Loss D.: 0.41282594203948975\n",
      "Epoch: 69 Loss G.: 1.740001916885376\n",
      "Epoch: 70 Loss D.: 0.2733469009399414\n",
      "Epoch: 70 Loss G.: 1.7388396263122559\n",
      "Epoch: 71 Loss D.: 0.4213426113128662\n",
      "Epoch: 71 Loss G.: 1.6073211431503296\n",
      "Epoch: 72 Loss D.: 0.30922117829322815\n",
      "Epoch: 72 Loss G.: 1.7796045541763306\n",
      "Epoch: 73 Loss D.: 0.23858852684497833\n",
      "Epoch: 73 Loss G.: 1.6676464080810547\n",
      "Epoch: 74 Loss D.: 0.3049144744873047\n",
      "Epoch: 74 Loss G.: 1.8277955055236816\n",
      "Epoch: 75 Loss D.: 0.3846533000469208\n",
      "Epoch: 75 Loss G.: 1.5885645151138306\n",
      "Epoch: 76 Loss D.: 0.3066644072532654\n",
      "Epoch: 76 Loss G.: 1.7658675909042358\n",
      "Epoch: 77 Loss D.: 0.2913334369659424\n",
      "Epoch: 77 Loss G.: 1.7207460403442383\n",
      "Epoch: 78 Loss D.: 0.3573514223098755\n",
      "Epoch: 78 Loss G.: 1.832959532737732\n",
      "Epoch: 79 Loss D.: 0.3634050786495209\n",
      "Epoch: 79 Loss G.: 1.5104458332061768\n",
      "Epoch: 80 Loss D.: 0.30066803097724915\n",
      "Epoch: 80 Loss G.: 1.6448109149932861\n",
      "Epoch: 81 Loss D.: 0.2525012195110321\n",
      "Epoch: 81 Loss G.: 1.7001023292541504\n",
      "Epoch: 82 Loss D.: 0.2996191680431366\n",
      "Epoch: 82 Loss G.: 1.926026701927185\n",
      "Epoch: 83 Loss D.: 0.2714945673942566\n",
      "Epoch: 83 Loss G.: 1.5310596227645874\n",
      "Epoch: 84 Loss D.: 0.4047735035419464\n",
      "Epoch: 84 Loss G.: 1.640202283859253\n",
      "Epoch: 85 Loss D.: 0.33481496572494507\n",
      "Epoch: 85 Loss G.: 1.8495442867279053\n",
      "Epoch: 86 Loss D.: 0.2969403564929962\n",
      "Epoch: 86 Loss G.: 1.8680161237716675\n",
      "Epoch: 87 Loss D.: 0.368634968996048\n",
      "Epoch: 87 Loss G.: 1.7700881958007812\n",
      "Epoch: 88 Loss D.: 0.48163193464279175\n",
      "Epoch: 88 Loss G.: 1.5740703344345093\n",
      "Epoch: 89 Loss D.: 0.3747674524784088\n",
      "Epoch: 89 Loss G.: 1.907164454460144\n",
      "Epoch: 90 Loss D.: 0.35678261518478394\n",
      "Epoch: 90 Loss G.: 1.7901791334152222\n",
      "Epoch: 91 Loss D.: 0.27933236956596375\n",
      "Epoch: 91 Loss G.: 1.5417711734771729\n",
      "Epoch: 92 Loss D.: 0.34905239939689636\n",
      "Epoch: 92 Loss G.: 1.5869176387786865\n",
      "Epoch: 93 Loss D.: 0.6197129487991333\n",
      "Epoch: 93 Loss G.: 1.790648341178894\n",
      "Epoch: 94 Loss D.: 0.3014450669288635\n",
      "Epoch: 94 Loss G.: 1.7244083881378174\n",
      "Epoch: 95 Loss D.: 0.2937735617160797\n",
      "Epoch: 95 Loss G.: 1.6065585613250732\n",
      "Epoch: 96 Loss D.: 0.3526713252067566\n",
      "Epoch: 96 Loss G.: 1.870600700378418\n",
      "Epoch: 97 Loss D.: 0.3421565592288971\n",
      "Epoch: 97 Loss G.: 1.6918423175811768\n",
      "Epoch: 98 Loss D.: 0.26174795627593994\n",
      "Epoch: 98 Loss G.: 1.8037961721420288\n",
      "Epoch: 99 Loss D.: 0.3736054003238678\n",
      "Epoch: 99 Loss G.: 1.676935076713562\n"
     ]
    }
   ],
   "source": [
    "for epoch in range(num_epochs):\n",
    "    for n, (real_samples, mnist_labels) in enumerate(train_dataloader):\n",
    "        \n",
    "        \n",
    "        ### Data for training the discriminator\n",
    "        real_samples         = real_samples.to(device=device)\n",
    "        real_samples_labels  = torch.ones((batch_size, 1)).to(device=device)     # assign the \"real\" label to the samples\n",
    "        \n",
    "        latent_space_samples = torch.randn((batch_size, 100)).to(device=device)  # Sample some noise to feed the generator\n",
    "        generated_samples    = generator(latent_space_samples)                   # Generate fake images\n",
    "        generated_samples_labels = torch.zeros((batch_size, 1)).to(device=device)#  assign the \"fake\" label to the samples\n",
    "        \n",
    "        all_samples        = torch.cat((real_samples, generated_samples))        # Concatenate fake and real samples\n",
    "        all_samples_labels = torch.cat((real_samples_labels, generated_samples_labels)) # Concatenate fake and real labels\n",
    "\n",
    "        \n",
    "        ### Training the discriminator\n",
    "        discriminator.zero_grad()\n",
    "        output_discriminator = discriminator(all_samples)\n",
    "        loss_discriminator   = loss_function(output_discriminator, all_samples_labels)\n",
    "        loss_discriminator.backward()\n",
    "        optimizer_discriminator.step()\n",
    "\n",
    "        ### Data for training the generator\n",
    "        latent_space_samples = torch.randn((batch_size, 100)).to(device=device)  # Sample some noise to feed the generator\n",
    "\n",
    "        ### Training the generator\n",
    "        generator.zero_grad()\n",
    "        generated_samples              = generator(latent_space_samples)\n",
    "        output_discriminator_generated = discriminator(generated_samples)\n",
    "        \n",
    "        loss_generator = loss_function(output_discriminator_generated, real_samples_labels)\n",
    "        loss_generator.backward()\n",
    "        optimizer_generator.step()\n",
    "\n",
    "        # Show loss\n",
    "        if n == batch_size - 1:\n",
    "            print(f\"Epoch: {epoch} Loss D.: {loss_discriminator}\")\n",
    "            print(f\"Epoch: {epoch} Loss G.: {loss_generator}\")\n",
    "            \n",
    "            #Save model\n",
    "            torch.save(generator.state_dict(), f'./Models/encoder_epoch_{epoch}.pth')\n"
   ]
  },
  {
   "cell_type": "code",
   "execution_count": 13,
   "id": "c9181f41",
   "metadata": {},
   "outputs": [
    {
     "ename": "NameError",
     "evalue": "name 'device' is not defined",
     "output_type": "error",
     "traceback": [
      "\u001b[1;31m---------------------------------------------------------------------------\u001b[0m",
      "\u001b[1;31mNameError\u001b[0m                                 Traceback (most recent call last)",
      "Input \u001b[1;32mIn [13]\u001b[0m, in \u001b[0;36m<cell line: 1>\u001b[1;34m()\u001b[0m\n\u001b[1;32m----> 1\u001b[0m latent_space_samples \u001b[38;5;241m=\u001b[39m torch\u001b[38;5;241m.\u001b[39mrandn(batch_size, \u001b[38;5;241m100\u001b[39m)\u001b[38;5;241m.\u001b[39mto(device\u001b[38;5;241m=\u001b[39m\u001b[43mdevice\u001b[49m)\n\u001b[0;32m      2\u001b[0m generated_samples \u001b[38;5;241m=\u001b[39m generator(latent_space_samples)\n",
      "\u001b[1;31mNameError\u001b[0m: name 'device' is not defined"
     ]
    }
   ],
   "source": [
    "latent_space_samples = torch.randn(batch_size, 100).to(device=device)\n",
    "generated_samples = generator(latent_space_samples)"
   ]
  },
  {
   "cell_type": "code",
   "execution_count": 29,
   "id": "f0732eaf",
   "metadata": {},
   "outputs": [
    {
     "data": {
      "image/png": "[encoded data removed]",
      "text/plain": [
       "<Figure size 432x288 with 16 Axes>"
      ]
     },
     "metadata": {},
     "output_type": "display_data"
    }
   ],
   "source": [
    "generated_samples = generated_samples.cpu().detach()\n",
    "for i in range(16):\n",
    "    ax = plt.subplot(4, 4, i + 1)\n",
    "    plt.imshow(generated_samples[i].reshape(28, 28), cmap=\"gray_r\")\n",
    "    plt.xticks([])\n",
    "    plt.yticks([])\n",
    "    plt.suptitle(f'After {j} epoch(s)',fontsize=15)"
   ]
  },
  {
   "cell_type": "code",
   "execution_count": 21,
   "id": "5ca624a1",
   "metadata": {},
   "outputs": [],
   "source": [
    "    # Load network parameters\n",
    "generator.load_state_dict(torch.load(f'Models/encoder_epoch_{j}.pth'))\n",
    "\n",
    "latent_space_samples = torch.randn(batch_size, 100).to(device=device)\n",
    "generated_samples = generator(latent_space_samples)"
   ]
  },
  {
   "cell_type": "code",
   "execution_count": 30,
   "id": "3bdf6823",
   "metadata": {},
   "outputs": [
    {
     "data": {
      "image/png": "[encoded data removed]",
      "text/plain": [
       "<Figure size 432x288 with 16 Axes>"
      ]
     },
     "metadata": {},
     "output_type": "display_data"
    }
   ],
   "source": [
    "every_n = [i for i in range(100)]\n",
    "for j in every_n[::5]:\n",
    "    # Load network parameters\n",
    "    generator.load_state_dict(torch.load(f'Models/encoder_epoch_{j}.pth'))\n",
    "\n",
    "    latent_space_samples = torch.randn(batch_size, 100).to(device=device)\n",
    "    generated_samples = generator(latent_space_samples)\n",
    "\n",
    "    generated_samples = generated_samples.cpu().detach()\n",
    "    for i in range(16):\n",
    "        ax = plt.subplot(4, 4, i + 1)\n",
    "        plt.imshow(generated_samples[i].reshape(28, 28), cmap=\"gray_r\")\n",
    "        plt.xticks([])\n",
    "        plt.yticks([])\n",
    "    plt.suptitle(f'After {j} epoch(s)',fontsize=15)    \n",
    "    plt.savefig(f\"./Img/{j}.png\")"
   ]
  },
  {
   "cell_type": "code",
   "execution_count": 31,
   "id": "589844e0",
   "metadata": {},
   "outputs": [],
   "source": [
    "import imageio\n",
    "from IPython.display import Image"
   ]
  },
  {
   "cell_type": "code",
   "execution_count": 38,
   "id": "0eae8c57",
   "metadata": {},
   "outputs": [],
   "source": [
    "# Build GIF\n",
    "every_n = [i for i in range(100)]\n",
    "gif_files = [f\"./Img/{j}.png\" for j in every_n[::5]]\n",
    "with imageio.get_writer(f'GIF.gif', mode='I') as writer:\n",
    "    for filename in gif_files:\n",
    "        image = imageio.imread(filename)\n",
    "        writer.append_data(image)\n",
    "    \n",
    "gif = imageio.mimread(f'GIF.gif')\n",
    "gif_speed_up = f'GIF.gif'\n",
    "imageio.mimsave(gif_speed_up, gif, fps=2)"
   ]
  },
  {
   "cell_type": "code",
   "execution_count": 41,
   "id": "c4d08e31",
   "metadata": {},
   "outputs": [
    {
     "data": {
      "text/html": [
       "<img src=\"GIF.gif\"/>"
      ],
      "text/plain": [
       "<IPython.core.display.Image object>"
      ]
     },
     "execution_count": 41,
     "metadata": {},
     "output_type": "execute_result"
    }
   ],
   "source": [
    "Image(url='GIF.gif')  "
   ]
  },
  {
   "cell_type": "code",
   "execution_count": 23,
   "id": "16fe8ab4",
   "metadata": {
    "scrolled": true
   },
   "outputs": [
    {
     "data": {
      "text/plain": [
       "[0, 5, 10, 15, 20, 25, 30, 35, 40, 45, 50, 55, 60, 65, 70, 75, 80, 85, 90, 95]"
      ]
     },
     "execution_count": 23,
     "metadata": {},
     "output_type": "execute_result"
    }
   ],
   "source": [
    "every_n = [i for i in range(100)]\n",
    "every_n[::5]"
   ]
  },
  {
   "cell_type": "code",
   "execution_count": null,
   "id": "d39741a1",
   "metadata": {},
   "outputs": [],
   "source": [
    "def train_discriminator():\n",
    "    discriminator.zero_grad()\n",
    "    output_discriminator = discriminator(all_samples)\n",
    "    loss_discriminator   = loss_function(output_discriminator, all_samples_labels)\n",
    "    loss_discriminator.backward()\n",
    "    optimizer_discriminator.step()"
   ]
  },
  {
   "cell_type": "code",
   "execution_count": null,
   "id": "bdb33d18",
   "metadata": {},
   "outputs": [],
   "source": [
    "for epoch in range(num_epochs):\n",
    "    for n, (real_samples, mnist_labels) in enumerate(train_dataloader):\n",
    "        \n",
    "        \n",
    "        ### Data for training the discriminator\n",
    "        real_samples         = real_samples.to(device=device)\n",
    "        real_samples_labels  = torch.ones((batch_size, 1)).to(device=device)     # assign the \"real\" label to the samples\n",
    "        \n",
    "        latent_space_samples = torch.randn((batch_size, 100)).to(device=device)  # Sample some noise to feed the generator\n",
    "        generated_samples    = generator(latent_space_samples)                   # Generate fake images\n",
    "        generated_samples_labels = torch.zeros((batch_size, 1)).to(device=device)#  assign the \"fake\" label to the samples\n",
    "        \n",
    "        all_samples        = torch.cat((real_samples, generated_samples))        # Concatenate fake and real samples\n",
    "        all_samples_labels = torch.cat((real_samples_labels, generated_samples_labels)) # Concatenate fake and real labels\n",
    "\n",
    "        \n",
    "        ### Training the discriminator\n",
    "        discriminator.zero_grad()\n",
    "        output_discriminator = discriminator(all_samples)\n",
    "        loss_discriminator   = loss_function(output_discriminator, all_samples_labels)\n",
    "        loss_discriminator.backward()\n",
    "        optimizer_discriminator.step()\n",
    "\n",
    "        ### Data for training the generator\n",
    "        latent_space_samples = torch.randn((batch_size, 100)).to(device=device)  # Sample some noise to feed the generator\n",
    "\n",
    "        ### Training the generator\n",
    "        generator.zero_grad()\n",
    "        generated_samples              = generator(latent_space_samples)\n",
    "        output_discriminator_generated = discriminator(generated_samples)\n",
    "        \n",
    "        loss_generator = loss_function(output_discriminator_generated, real_samples_labels)\n",
    "        loss_generator.backward()\n",
    "        optimizer_generator.step()\n",
    "\n",
    "        # Show loss\n",
    "        if n == batch_size - 1:\n",
    "            print(f\"Epoch: {epoch} Loss D.: {loss_discriminator}\")\n",
    "            print(f\"Epoch: {epoch} Loss G.: {loss_generator}\")"
   ]
  },
  {
   "cell_type": "code",
   "execution_count": null,
   "id": "62d53197",
   "metadata": {},
   "outputs": [],
   "source": []
  },
  {
   "cell_type": "code",
   "execution_count": null,
   "id": "5f2e8f1c",
   "metadata": {},
   "outputs": [],
   "source": []
  }
 ],
 "metadata": {
  "kernelspec": {
   "display_name": "Python 3 (ipykernel)",
   "language": "python",
   "name": "python3"
  },
  "language_info": {
   "codemirror_mode": {
    "name": "ipython",
    "version": 3
   },
   "file_extension": ".py",
   "mimetype": "text/x-python",
   "name": "python",
   "nbconvert_exporter": "python",
   "pygments_lexer": "ipython3",
   "version": "3.8.13"
  },
  "nbTranslate": {
   "displayLangs": [
    "*"
   ],
   "hotkey": "alt-t",
   "langInMainMenu": true,
   "sourceLang": "en",
   "targetLang": "fr",
   "useGoogleTranslate": true
  },
  "toc": {
   "base_numbering": 1,
   "nav_menu": {},
   "number_sections": true,
   "sideBar": true,
   "skip_h1_title": false,
   "title_cell": "Table of Contents",
   "title_sidebar": "Contents",
   "toc_cell": false,
   "toc_position": {},
   "toc_section_display": true,
   "toc_window_display": false
  }
 },
 "nbformat": 4,
 "nbformat_minor": 5
}
