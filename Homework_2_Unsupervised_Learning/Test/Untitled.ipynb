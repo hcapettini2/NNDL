{
 "cells": [
  {
   "cell_type": "code",
   "execution_count": 1,
   "id": "d6e99506",
   "metadata": {},
   "outputs": [
    {
     "name": "stderr",
     "output_type": "stream",
     "text": [
      "C:\\Users\\hilar\\anaconda3\\envs\\NNDL_torch\\lib\\site-packages\\tqdm\\auto.py:22: TqdmWarning: IProgress not found. Please update jupyter and ipywidgets. See https://ipywidgets.readthedocs.io/en/stable/user_install.html\n",
      "  from .autonotebook import tqdm as notebook_tqdm\n"
     ]
    }
   ],
   "source": [
    "import matplotlib.pyplot as plt # plotting library\n",
    "import numpy as np # this module is useful to work with numerical arrays\n",
    "import pandas as pd # this module is useful to work with tabular data\n",
    "import random # this module will be used to select random samples from a collection\n",
    "import os # this module will be used just to create directories in the local filesystem\n",
    "from tqdm import tqdm # this module is useful to plot progress bars\n",
    "\n",
    "import torch\n",
    "import torchvision\n",
    "from torchvision import transforms\n",
    "from torch.utils.data import DataLoader\n",
    "from torch import nn\n",
    "\n",
    "#For Optuna (Hyperparameters search)\n",
    "import optuna\n",
    "from optuna.integration import PyTorchLightningPruningCallback\n",
    "\n",
    "#Confusion matrix\n",
    "from sklearn.metrics import confusion_matrix\n",
    "import seaborn as sns\n",
    "\n",
    "\n",
    "\n",
    "import torch.nn.functional as F\n",
    "\n",
    "\n",
    "import model"
   ]
  },
  {
   "cell_type": "code",
   "execution_count": 2,
   "id": "ec6eb6c5",
   "metadata": {},
   "outputs": [],
   "source": [
    "# Set seeds for reproducibility (PyTorch, Python, Numpy)\n",
    "matricola = 2013031\n",
    "torch.manual_seed(matricola)\n",
    "random.seed(matricola)\n",
    "np.random.seed(matricola)"
   ]
  },
  {
   "cell_type": "markdown",
   "id": "a8f34da6",
   "metadata": {},
   "source": [
    "# Import the data"
   ]
  },
  {
   "cell_type": "code",
   "execution_count": 3,
   "id": "f6285657",
   "metadata": {},
   "outputs": [],
   "source": [
    "### Download the data and create dataset\n",
    "data_dir = '../dataset'\n",
    "# With these commands the train and test datasets, respectively, are downloaded \n",
    "# automatically and stored in the local \"data_dir\" directory.\n",
    "train_dataset = torchvision.datasets.FashionMNIST(data_dir, train=True, download=False)\n",
    "test_dataset  = torchvision.datasets.FashionMNIST(data_dir, train=False, download=False)"
   ]
  },
  {
   "cell_type": "code",
   "execution_count": 4,
   "id": "25faca07",
   "metadata": {},
   "outputs": [
    {
     "data": {
      "image/png": "[encoded data removed]",
      "text/plain": [
       "<Figure size 576x576 with 5 Axes>"
      ]
     },
     "metadata": {},
     "output_type": "display_data"
    }
   ],
   "source": [
    "### Plot some sample\n",
    "label_names=['t-shirt','trouser','pullover','dress','coat','sandal','shirt',\n",
    "             'sneaker','bag','boot']\n",
    "fig, axs = plt.subplots(1, 5, figsize=(8,8))\n",
    "for ax in axs.flatten():\n",
    "    # random.choice allows to randomly sample from a list-like object (basically anything that can be accessed with an index, like our dataset)\n",
    "    img, label = random.choice(train_dataset)\n",
    "    ax.imshow(np.array(img), cmap='gist_gray')\n",
    "    ax.set_title(f'Label: {label_names[label]} [{label}]')\n",
    "    ax.set_xticks([])\n",
    "    ax.set_yticks([])\n",
    "plt.tight_layout()"
   ]
  },
  {
   "cell_type": "code",
   "execution_count": 5,
   "id": "4f510180",
   "metadata": {},
   "outputs": [],
   "source": [
    "# In this case the train_transform and test_transform are the same, \n",
    "# but we keep them separate for potential future updates\n",
    "train_transform = transforms.Compose([\n",
    "    transforms.ToTensor(),\n",
    "])\n",
    "test_transform = transforms.Compose([\n",
    "    transforms.ToTensor(),\n",
    "])\n",
    "\n",
    "# Set the train transform\n",
    "train_dataset.transform = train_transform\n",
    "# Set the test transform\n",
    "test_dataset.transform = test_transform\n",
    "\n",
    "### Define train dataloader\n",
    "train_dataloader = DataLoader(train_dataset, batch_size=256, shuffle=True)\n",
    "### Define test dataloader\n",
    "test_dataloader = DataLoader(test_dataset, batch_size=256, shuffle=False)"
   ]
  },
  {
   "cell_type": "code",
   "execution_count": 6,
   "id": "ba124df4",
   "metadata": {},
   "outputs": [
    {
     "name": "stdout",
     "output_type": "stream",
     "text": [
      "TRAIN BATCH SHAPE\n",
      "\t Data: torch.Size([256, 1, 28, 28])\n",
      "\t Labels: torch.Size([256])\n",
      "TEST BATCH SHAPE\n",
      "\t Data: torch.Size([256, 1, 28, 28])\n",
      "\t Labels: torch.Size([256])\n"
     ]
    }
   ],
   "source": [
    "### Define train dataloader\n",
    "train_dataloader = DataLoader(train_dataset, batch_size=256, shuffle=True)\n",
    "### Define test dataloader\n",
    "test_dataloader = DataLoader(test_dataset, batch_size=256, shuffle=False)\n",
    "\n",
    "\n",
    "batch_data, batch_labels = next(iter(train_dataloader))\n",
    "print(f\"TRAIN BATCH SHAPE\")\n",
    "print(f\"\\t Data: {batch_data.shape}\")\n",
    "print(f\"\\t Labels: {batch_labels.shape}\")\n",
    "\n",
    "batch_data, batch_labels = next(iter(test_dataloader))\n",
    "print(f\"TEST BATCH SHAPE\")\n",
    "print(f\"\\t Data: {batch_data.shape}\")\n",
    "print(f\"\\t Labels: {batch_labels.shape}\")"
   ]
  },
  {
   "cell_type": "markdown",
   "id": "78958802",
   "metadata": {},
   "source": [
    "# Implement autoencoder"
   ]
  },
  {
   "cell_type": "code",
   "execution_count": 7,
   "id": "88b974d0",
   "metadata": {},
   "outputs": [],
   "source": [
    "encoded_space_dim = 2"
   ]
  },
  {
   "cell_type": "code",
   "execution_count": 8,
   "id": "ee3015cb",
   "metadata": {},
   "outputs": [],
   "source": [
    "# Initialize the autoencoder\n",
    "AE = model.Autoencoder(encoded_space_dim)"
   ]
  },
  {
   "cell_type": "code",
   "execution_count": 9,
   "id": "0ea2395a",
   "metadata": {},
   "outputs": [
    {
     "name": "stdout",
     "output_type": "stream",
     "text": [
      "Selected device: cpu\n"
     ]
    }
   ],
   "source": [
    "### Define the loss function\n",
    "loss_fn = torch.nn.MSELoss()\n",
    "\n",
    "### Define an optimizer (both for the encoder and the decoder!)\n",
    "params_to_optimize = [\n",
    "    {'params': AE.encoder.parameters()},\n",
    "    {'params': AE.decoder.parameters()}\n",
    "]\n",
    "optim = torch.optim.Adam(params_to_optimize, lr=0.0067, weight_decay=1.7e-5)\n",
    "\n",
    "# Check if the GPU is available\n",
    "device = torch.device(\"cuda\") if torch.cuda.is_available() else torch.device(\"cpu\")\n",
    "print(f'Selected device: {device}')"
   ]
  },
  {
   "cell_type": "code",
   "execution_count": null,
   "id": "428f486d",
   "metadata": {},
   "outputs": [
    {
     "name": "stdout",
     "output_type": "stream",
     "text": [
      "EPOCH 1/50\n",
      "AVERAGE TRAIN LOSS: 0.05966539680957794\n",
      "AVERAGE TEST LOSS: 0.0377078577876091\n"
     ]
    },
    {
     "data": {
      "image/png": "[encoded data removed]",
      "text/plain": [
       "<Figure size 864x432 with 8 Axes>"
      ]
     },
     "metadata": {},
     "output_type": "display_data"
    },
    {
     "name": "stdout",
     "output_type": "stream",
     "text": [
      "EPOCH 2/50\n",
      "AVERAGE TRAIN LOSS: 0.03600972518324852\n",
      "AVERAGE TEST LOSS: 0.03514765948057175\n",
      "EPOCH 3/50\n",
      "AVERAGE TRAIN LOSS: 0.04153183847665787\n",
      "AVERAGE TEST LOSS: 0.03389059379696846\n",
      "EPOCH 4/50\n",
      "AVERAGE TRAIN LOSS: 0.0330754779279232\n",
      "AVERAGE TEST LOSS: 0.03259352222084999\n",
      "EPOCH 5/50\n",
      "AVERAGE TRAIN LOSS: 0.031954843550920486\n",
      "AVERAGE TEST LOSS: 0.031704965978860855\n",
      "EPOCH 6/50\n"
     ]
    }
   ],
   "source": [
    "train, test = AE.training_cycle(AE.encoder,\n",
    "                                AE.decoder,\n",
    "                                device,\n",
    "                                train_dataloader,\n",
    "                                test_dataloader,\n",
    "                                loss_fn,\n",
    "                                optim,\n",
    "                                50,\n",
    "                                test_dataset,\n",
    "                                plot = True)"
   ]
  },
  {
   "cell_type": "code",
   "execution_count": null,
   "id": "c4cacdf3",
   "metadata": {},
   "outputs": [],
   "source": [
    "# Plot losses by epoch\n",
    "plt.figure(figsize=(7,5))\n",
    "plt.semilogy(train, linestyle='--', marker='o', color='r', label='Train loss')\n",
    "plt.semilogy(test, linestyle='--', marker='o', color='g', label='Test loss')\n",
    "plt.xlabel('Epoch',fontsize=15)\n",
    "plt.ylabel('Loss',fontsize=15)\n",
    "plt.title(\"Losses\",fontsize=15)\n",
    "plt.grid()\n",
    "plt.legend()\n",
    "#plt.savefig('./imgs/classification/losses.svg', format='svg')\n",
    "plt.show()"
   ]
  },
  {
   "cell_type": "markdown",
   "id": "6f4359bd",
   "metadata": {},
   "source": [
    "# Optimize autoencoder parameters"
   ]
  },
  {
   "cell_type": "code",
   "execution_count": null,
   "id": "b9c49eaf",
   "metadata": {},
   "outputs": [],
   "source": [
    "def objective(trial):\n",
    "    max_epochs = 5\n",
    "    \n",
    "    # Parameters for the search\n",
    "    encoded_space_dim      = trial.suggest_categorical(\"encoded_space_dim\", [2,10])\n",
    "    optimizer_name         = trial.suggest_categorical('optimizer_name',[\"SGD\", \"Adam\"])\n",
    "    lr                     = trial.suggest_loguniform(\"lr\", 1e-5, 1e-2)\n",
    "    \n",
    "    \n",
    "    \n",
    "    ### Initialize both networks\n",
    "    encoder = Encoder(encoded_space_dim=encoded_space_dim)\n",
    "    decoder = Decoder(encoded_space_dim=encoded_space_dim)\n",
    "    \n",
    "    ### Define the complete model\n",
    "    model = nn.Sequential(encoder, decoder)\n",
    "    model = model.to(device)\n",
    "    \n",
    "    \n",
    "    ### Define the loss function\n",
    "    loss_fn = torch.nn.MSELoss()\n",
    "    \n",
    "    \n",
    "    #Define the optimizer\n",
    "    optimizer = getattr(torch.optim,optimizer_name)(model.parameters(), lr=lr)\n",
    "\n",
    "    ################################################################################################\n",
    "    # Train a model (cant use the function because I would need the separated parts encoder decoder)\n",
    "    for epoch in range(max_epochs):\n",
    "        print('EPOCH %d/%d' % (epoch + 1, max_epochs))\n",
    "        ### Training (use the training function)\n",
    "        # Set train mode for both networks\n",
    "        model.train()  \n",
    "        train_loss = []\n",
    "        \n",
    "        # Train\n",
    "        for sample_batched, _ in train_dataloader:\n",
    "            # Move data to device\n",
    "            sample_batched = sample_batched.to(device)\n",
    "            # Encode decode the data\n",
    "            encoded_decoded_sample = model(sample_batched)\n",
    "            loss = loss_fn(encoded_decoded_sample, sample_batched)\n",
    "            # Backpropagation\n",
    "            optimizer.zero_grad()\n",
    "            loss.backward()\n",
    "            #Updata weights\n",
    "            optimizer.step()\n",
    "            #Save trai loss for this batch\n",
    "            loss_batch = loss.detach().cpu().numpy()\n",
    "            train_loss.append(loss_batch)\n",
    "        #Save the average train loss\n",
    "        train_loss = np.mean(train_loss)\n",
    "        print(f\"AVERAGE TRAIN LOSS: {train_loss}\")\n",
    "   \n",
    "        ### Validation  (use the testing function)\n",
    "        # Set evaluation mode for both networks\n",
    "        model.eval()\n",
    "        test_loss = []\n",
    "        # Discable gradient tracking\n",
    "        with torch.no_grad():\n",
    "            for sample_batched, _ in test_dataloader:\n",
    "                # Move data to device\n",
    "                sample_batched = sample_batched.to(device)\n",
    "                # Encode decode the data\n",
    "                encoded_decoded_sample = model(sample_batched)\n",
    "                # Compute loss\n",
    "                loss = loss_fn(encoded_decoded_sample, sample_batched)\n",
    "                 #Save test loss for this batch\n",
    "                loss_batch = loss.detach().cpu().numpy()\n",
    "                test_loss.append(loss_batch)\n",
    "            #Save the average train loss\n",
    "            test_loss = np.mean(test_loss)\n",
    "            print(f\"AVERAGE TEST LOSS: {test_loss}\")    \n",
    "    \n",
    "    \n",
    "    return test_loss"
   ]
  },
  {
   "cell_type": "code",
   "execution_count": null,
   "id": "a76c281b",
   "metadata": {},
   "outputs": [],
   "source": [
    "#Define the study\n",
    "study = optuna.create_study(study_name=\"myfirstoptimizationstudy\", direction=\"minimize\")\n",
    "study.optimize(objective, n_trials=10, timeout=30) #six hours"
   ]
  },
  {
   "cell_type": "code",
   "execution_count": null,
   "id": "f36d572d",
   "metadata": {},
   "outputs": [],
   "source": [
    "print(\"Number of finished trials: {}\".format(len(study.trials)))\n",
    "\n",
    "print(\"Best trial:\")\n",
    "trial = study.best_trial\n",
    "\n",
    "print(\"  Value: {}\".format(trial.value))\n",
    "\n",
    "print(\"  Params: \")\n",
    "for key, value in trial.params.items():\n",
    "    print(\"    {}: {}\".format(key, value))"
   ]
  },
  {
   "cell_type": "code",
   "execution_count": null,
   "id": "dbd92d40",
   "metadata": {},
   "outputs": [],
   "source": [
    "optuna.visualization.plot_param_importances(study)"
   ]
  },
  {
   "cell_type": "code",
   "execution_count": null,
   "id": "dae992dc",
   "metadata": {},
   "outputs": [],
   "source": [
    "optuna.visualization.plot_contour(study, params=['lr','encoded_space_dim'])"
   ]
  },
  {
   "cell_type": "markdown",
   "id": "171be48b",
   "metadata": {},
   "source": [
    "## Re train best model "
   ]
  },
  {
   "cell_type": "code",
   "execution_count": null,
   "id": "84c63ec3",
   "metadata": {},
   "outputs": [],
   "source": [
    "AE = model.Autoencoder(2)"
   ]
  },
  {
   "cell_type": "code",
   "execution_count": null,
   "id": "481d1acd",
   "metadata": {},
   "outputs": [],
   "source": [
    "### Define the loss function\n",
    "loss_fn = torch.nn.MSELoss()\n",
    "\n",
    "### Define an optimizer (both for the encoder and the decoder!)\n",
    "params_to_optimize = [\n",
    "    {'params': AE.encoder.parameters()},\n",
    "    {'params': AE.decoder.parameters()}\n",
    "]\n",
    "optim = torch.optim.Adam(params_to_optimize, lr=0.0067, weight_decay=1.7e-5)\n",
    "\n",
    "# Check if the GPU is available\n",
    "device = torch.device(\"cuda\") if torch.cuda.is_available() else torch.device(\"cpu\")\n",
    "print(f'Selected device: {device}')"
   ]
  },
  {
   "cell_type": "code",
   "execution_count": null,
   "id": "1a5e2db2",
   "metadata": {},
   "outputs": [],
   "source": [
    "train, test = AE.training_cycle(AE.encoder,AE.decoder,device,train_dataloader, test_dataloader, loss_fn, optim,5,test_dataset,plot = True)"
   ]
  },
  {
   "cell_type": "code",
   "execution_count": null,
   "id": "f217287f",
   "metadata": {},
   "outputs": [],
   "source": [
    "# Plot losses by epoch\n",
    "plt.figure(figsize=(7,5))\n",
    "plt.semilogy(train, linestyle='--', marker='o', color='r', label='Train loss')\n",
    "plt.semilogy(test, linestyle='--', marker='o', color='g', label='Test loss')\n",
    "plt.xlabel('Epoch',fontsize=15)\n",
    "plt.ylabel('Loss',fontsize=15)\n",
    "plt.title(\"Losses\",fontsize=15)\n",
    "plt.grid()\n",
    "plt.legend()\n",
    "#plt.savefig('./imgs/classification/losses.svg', format='svg')\n",
    "plt.show()"
   ]
  },
  {
   "cell_type": "markdown",
   "id": "21ce9936",
   "metadata": {},
   "source": [
    "# Latent space exploration"
   ]
  },
  {
   "cell_type": "markdown",
   "id": "84e781d3",
   "metadata": {},
   "source": [
    "## If encoding dimension is 2"
   ]
  },
  {
   "cell_type": "code",
   "execution_count": null,
   "id": "b9ccba0c",
   "metadata": {},
   "outputs": [],
   "source": [
    "# Load network parameters\n",
    "AE.encoder.load_state_dict(torch.load('encoder_params.pth'))\n",
    "AE.decoder.load_state_dict(torch.load('decoder_params.pth'))"
   ]
  },
  {
   "cell_type": "code",
   "execution_count": null,
   "id": "d3e3c657",
   "metadata": {},
   "outputs": [],
   "source": [
    "### Get the encoded representation of the test samples\n",
    "encoded_samples = []\n",
    "for sample in tqdm(test_dataset):\n",
    "    img = sample[0].unsqueeze(0).to(device)\n",
    "    label = sample[1]\n",
    "    # Encode image\n",
    "    AE.encoder.eval()\n",
    "    with torch.no_grad():\n",
    "        encoded_img  = AE.encoder(img)\n",
    "    # Append to list\n",
    "    encoded_img = encoded_img.flatten().cpu().numpy()\n",
    "    encoded_sample = {f\"Enc. Variable {i}\": enc for i, enc in enumerate(encoded_img)}\n",
    "    encoded_sample['label'] = label\n",
    "    encoded_samples.append(encoded_sample)"
   ]
  },
  {
   "cell_type": "code",
   "execution_count": null,
   "id": "f0dbfc36",
   "metadata": {},
   "outputs": [],
   "source": [
    "# Convert to a dataframe\n",
    "encoded_samples = pd.DataFrame(encoded_samples)\n",
    "encoded_samples"
   ]
  },
  {
   "cell_type": "code",
   "execution_count": null,
   "id": "873dee85",
   "metadata": {
    "scrolled": false
   },
   "outputs": [],
   "source": [
    "import plotly.express as px\n",
    "px.scatter(encoded_samples, x='Enc. Variable 0', y='Enc. Variable 1', color=[label_names[l] for l in encoded_samples.label.to_numpy()], opacity=0.7)"
   ]
  },
  {
   "cell_type": "markdown",
   "id": "aae5e6f2",
   "metadata": {},
   "source": [
    "## PCA"
   ]
  },
  {
   "cell_type": "code",
   "execution_count": null,
   "id": "19f5113c",
   "metadata": {},
   "outputs": [],
   "source": []
  },
  {
   "cell_type": "code",
   "execution_count": null,
   "id": "307562cb",
   "metadata": {},
   "outputs": [],
   "source": []
  },
  {
   "cell_type": "markdown",
   "id": "719c6251",
   "metadata": {},
   "source": [
    "## TSNE"
   ]
  },
  {
   "cell_type": "code",
   "execution_count": null,
   "id": "c83e8878",
   "metadata": {},
   "outputs": [],
   "source": []
  },
  {
   "cell_type": "code",
   "execution_count": null,
   "id": "ab7c1ff3",
   "metadata": {},
   "outputs": [],
   "source": []
  },
  {
   "cell_type": "markdown",
   "id": "8a504fbf",
   "metadata": {},
   "source": [
    "# Convolutional autoencoder fine tuning"
   ]
  },
  {
   "cell_type": "markdown",
   "id": "6ee599e5",
   "metadata": {},
   "source": [
    "## Data"
   ]
  },
  {
   "cell_type": "code",
   "execution_count": null,
   "id": "a81750cf",
   "metadata": {},
   "outputs": [],
   "source": [
    "#Define a validation dataset\n",
    "train_percent = 0.7\n",
    "n_train      = int(train_percent * len(train_dataset))\n",
    "n_validation = len(train_dataset) - n_train\n",
    "train_dataset, val_dataset = torch.utils.data.random_split(train_dataset, [n_train, n_validation])\n",
    "\n",
    "print('# of training samples  :',len(train_dataset))\n",
    "print('# of validation samples:',len(val_dataset))\n",
    "print('# of test samples      :',len(test_dataset))\n"
   ]
  },
  {
   "cell_type": "code",
   "execution_count": null,
   "id": "6927e70a",
   "metadata": {},
   "outputs": [],
   "source": [
    "batch_size = 256\n",
    "train_dataloader      = DataLoader(train_dataset,  batch_size=batch_size,        shuffle=True, num_workers=0)\n",
    "validation_dataloader = DataLoader(val_dataset,    batch_size=len(val_dataset),  shuffle=False, num_workers=0)\n",
    "test_dataloader       = DataLoader(test_dataset,   batch_size=len(test_dataset), shuffle=False, num_workers=0)\n"
   ]
  },
  {
   "cell_type": "markdown",
   "id": "1c19fbd6",
   "metadata": {},
   "source": [
    "## Transfer the autoencoder encoder weights to the supervised network"
   ]
  },
  {
   "cell_type": "code",
   "execution_count": null,
   "id": "ffe7abab",
   "metadata": {},
   "outputs": [],
   "source": [
    "encoded_space_dim = 2"
   ]
  },
  {
   "cell_type": "code",
   "execution_count": null,
   "id": "831f2da0",
   "metadata": {},
   "outputs": [],
   "source": [
    "# Initialize the old autoencoder\n",
    "AE = model.Autoencoder(encoded_space_dim)\n",
    "# Load network parameters\n",
    "AE.encoder.load_state_dict(torch.load('encoder_params.pth'))"
   ]
  },
  {
   "cell_type": "code",
   "execution_count": null,
   "id": "e04d57be",
   "metadata": {},
   "outputs": [],
   "source": [
    "#Initialize the Autoencoder for fine tuning\n",
    "FTAE = model.Fine_Tuned_Autoencoder(encoded_space_dim,AE)\n"
   ]
  },
  {
   "cell_type": "code",
   "execution_count": null,
   "id": "586923f1",
   "metadata": {},
   "outputs": [],
   "source": [
    "FTAE"
   ]
  },
  {
   "cell_type": "code",
   "execution_count": null,
   "id": "2b68307b",
   "metadata": {},
   "outputs": [],
   "source": [
    "### Disable the weight update for the trained encoder\n",
    "for param_name, param in FTAE.encoder.named_parameters():\n",
    "    param.requires_grad = False\n",
    "\n",
    "### Allow weight update (training) of the last layers (linear layers)\n",
    "for param in FTAE.encoder[7].parameters():\n",
    "    param.requires_grad = True\n",
    "    \n",
    "### Allow weight update (training) of the last layers (linear layers)\n",
    "for param in FTAE.encoder[9].parameters():\n",
    "    param.requires_grad = True\n",
    "\n",
    "### Check which weights and biases will be updated\n",
    "for param_name, param in FTAE.encoder.named_parameters():\n",
    "    print(param_name,param.requires_grad)"
   ]
  },
  {
   "cell_type": "code",
   "execution_count": null,
   "id": "1db0c9df",
   "metadata": {},
   "outputs": [],
   "source": [
    "### Define the loss function\n",
    "loss_fn = nn.CrossEntropyLoss()\n",
    "\n",
    "### Define an optimizer (both for the encoder and the decoder!)\n",
    "params_to_optimize = [\n",
    "    {'params': FTAE.encoder.parameters()},\n",
    "    {'params': FTAE.new_layer.parameters()}\n",
    "]\n",
    "optim = torch.optim.Adam(params_to_optimize, lr=1e-3, weight_decay=0.)\n",
    "\n",
    "# Check if the GPU is available\n",
    "device = torch.device(\"cuda\") if torch.cuda.is_available() else torch.device(\"cpu\")\n",
    "print(f'Selected device: {device}')"
   ]
  },
  {
   "cell_type": "code",
   "execution_count": null,
   "id": "c5857e74",
   "metadata": {},
   "outputs": [],
   "source": [
    "train, test = FTAE.tune_training_cycle(FTAE.encoder,\n",
    "                                       FTAE.new_layer,\n",
    "                                       device,\n",
    "                                       train_dataloader,\n",
    "                                       validation_dataloader,\n",
    "                                       loss_fn,\n",
    "                                       optim,\n",
    "                                       20,\n",
    "                                       test_dataloader)"
   ]
  },
  {
   "cell_type": "code",
   "execution_count": null,
   "id": "b87270ff",
   "metadata": {},
   "outputs": [],
   "source": [
    "# Plot losses by epoch\n",
    "plt.figure(figsize=(7,5))\n",
    "plt.semilogy(train, linestyle='--', marker='o', color='r', label='Train loss')\n",
    "plt.semilogy(test, linestyle='--', marker='o', color='g', label='Test loss')\n",
    "plt.xlabel('Epoch',fontsize=15)\n",
    "plt.ylabel('Loss',fontsize=15)\n",
    "plt.title(\"Losses\",fontsize=15)\n",
    "plt.grid()\n",
    "plt.legend()\n",
    "#plt.ylim(0,2)\n",
    "#plt.savefig('./imgs/classification/losses.svg', format='svg')\n",
    "plt.show()"
   ]
  },
  {
   "cell_type": "code",
   "execution_count": null,
   "id": "410586f0",
   "metadata": {},
   "outputs": [],
   "source": [
    "test_acc = 0\n",
    "\n",
    "y_test=[]\n",
    "y_pred=[]\n",
    "\n",
    "FTAE.encoder.to(device)\n",
    "#move the input to the GPU and predict the output\n",
    "FTAE.encoder.eval()\n",
    "FTAE.new_layer.eval()\n",
    "\n",
    "with torch.no_grad():\n",
    "    for x_batched, y_batched in test_dataloader:\n",
    "        # Move data to device\n",
    "        x_batched = x_batched.to(device)\n",
    "        y_batched = y_batched.to(device)\n",
    "\n",
    "        # Encode the data\n",
    "        z   = FTAE.encoder(x_batched)\n",
    "        out = FTAE.new_layer(z)\n",
    "\n",
    "        y_test.append(y_batched)\n",
    "        y_pred.append(out)\n",
    "\n",
    "        pred = np.argmax(out.detach().cpu().numpy(), axis = 1)\n",
    "        right = np.sum(pred == np.array(y_batched.cpu()))\n",
    "        test_acc = test_acc + right\n",
    "\n",
    "print(f\"The obtained accuracy is {test_acc/len(test_dataset)*100} %\")"
   ]
  },
  {
   "cell_type": "code",
   "execution_count": null,
   "id": "e81a65af",
   "metadata": {},
   "outputs": [],
   "source": [
    "def confussion_plot(real, prediction):\n",
    "    categories = ['T-shirt/top','Trouser','Pullover',\n",
    "                    'Dress','Coat','Sandal','Shirt',\n",
    "                    'Sneaker','Bag','Ankle boot']\n",
    "\n",
    "    array = confusion_matrix(real, prediction,normalize=\"true\")\n",
    "    df_cm = pd.DataFrame(array, index = categories, columns = categories)\n",
    "    \n",
    "    fig = plt.figure(figsize=(8,7))\n",
    "    sns.heatmap(df_cm, annot=True, fmt='.2f')\n",
    "    plt.ylabel(\"Correct\",fontsize=15)\n",
    "    plt.xlabel(\"Predicted\",fontsize=15)\n",
    "    plt.title(\"Confussion matrix\",fontsize=15)\n",
    "    #plt.savefig('./imgs/classification/confussion.svg', format='svg')\n",
    "    plt.show()"
   ]
  },
  {
   "cell_type": "code",
   "execution_count": null,
   "id": "621a9574",
   "metadata": {},
   "outputs": [],
   "source": [
    "confussion_plot(y_batched, pred)"
   ]
  },
  {
   "cell_type": "code",
   "execution_count": null,
   "id": "f0092b75",
   "metadata": {},
   "outputs": [],
   "source": []
  }
 ],
 "metadata": {
  "kernelspec": {
   "display_name": "Python 3 (ipykernel)",
   "language": "python",
   "name": "python3"
  },
  "language_info": {
   "codemirror_mode": {
    "name": "ipython",
    "version": 3
   },
   "file_extension": ".py",
   "mimetype": "text/x-python",
   "name": "python",
   "nbconvert_exporter": "python",
   "pygments_lexer": "ipython3",
   "version": "3.8.13"
  },
  "nbTranslate": {
   "displayLangs": [
    "*"
   ],
   "hotkey": "alt-t",
   "langInMainMenu": true,
   "sourceLang": "en",
   "targetLang": "fr",
   "useGoogleTranslate": true
  },
  "toc": {
   "base_numbering": 1,
   "nav_menu": {},
   "number_sections": true,
   "sideBar": true,
   "skip_h1_title": false,
   "title_cell": "Table of Contents",
   "title_sidebar": "Contents",
   "toc_cell": false,
   "toc_position": {},
   "toc_section_display": true,
   "toc_window_display": true
  }
 },
 "nbformat": 4,
 "nbformat_minor": 5
}
