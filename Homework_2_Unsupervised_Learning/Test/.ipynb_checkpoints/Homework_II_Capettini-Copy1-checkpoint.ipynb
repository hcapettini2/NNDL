{
 "cells": [
  {
   "cell_type": "markdown",
   "id": "ce681eeb",
   "metadata": {
    "lang": "en"
   },
   "source": [
    "# Neural Networks and Deep Learning\n",
    "\n",
    "**Homework 1 - Classification task**\n",
    "\n",
    "**Academic Year 2021/2022**\n",
    "**Dr. Alberto Testolin, Dr. Umberto Michieli**\n",
    "\n",
    "**Capettini Croatto Hilario**"
   ]
  },
  {
   "cell_type": "markdown",
   "id": "d5b3a8ad",
   "metadata": {},
   "source": [
    "## General overview"
   ]
  },
  {
   "cell_type": "markdown",
   "id": "05e4b990",
   "metadata": {},
   "source": [
    "**Explain it**"
   ]
  },
  {
   "cell_type": "markdown",
   "id": "bdb5363f",
   "metadata": {},
   "source": [
    "# Convolutional Autoencoder"
   ]
  },
  {
   "cell_type": "markdown",
   "id": "8d855d57",
   "metadata": {},
   "source": [
    "An autoencoder, in general, is a network that is trained to attempt to copy its input to its output. Internally, it has a **latent space** that describes a code used to represent the input. The network may be viewed as consisting of two parts: an **encoder** function $h=f(x)$ and a **decoder** that produces a reconstruction $r=g(h)$.\n",
    "\n",
    "![LALA](Img/autoencoder.png)"
   ]
  },
  {
   "cell_type": "code",
   "execution_count": 1,
   "id": "67032a48",
   "metadata": {},
   "outputs": [
    {
     "name": "stderr",
     "output_type": "stream",
     "text": [
      "C:\\Users\\hilar\\anaconda3\\envs\\NNDL_torch\\lib\\site-packages\\tqdm\\auto.py:22: TqdmWarning: IProgress not found. Please update jupyter and ipywidgets. See https://ipywidgets.readthedocs.io/en/stable/user_install.html\n",
      "  from .autonotebook import tqdm as notebook_tqdm\n"
     ]
    }
   ],
   "source": [
    "import matplotlib.pyplot as plt # plotting library\n",
    "import numpy as np # this module is useful to work with numerical arrays\n",
    "import pandas as pd # this module is useful to work with tabular data\n",
    "import random # this module will be used to select random samples from a collection\n",
    "import os # this module will be used just to create directories in the local filesystem\n",
    "from tqdm import tqdm # this module is useful to plot progress bars\n",
    "\n",
    "import torch\n",
    "import torchvision\n",
    "from torchvision import transforms\n",
    "from torch.utils.data import DataLoader\n",
    "from torch import nn\n",
    "\n",
    "#For Optuna (Hyperparameters search)\n",
    "import optuna\n",
    "from optuna.integration import PyTorchLightningPruningCallback\n",
    "\n",
    "#Confusion matrix\n",
    "from sklearn.metrics import confusion_matrix\n",
    "import seaborn as sns\n",
    "\n",
    "\n",
    "\n",
    "import torch.nn.functional as F"
   ]
  },
  {
   "cell_type": "code",
   "execution_count": 2,
   "id": "9e74fffb",
   "metadata": {},
   "outputs": [],
   "source": [
    "# Set seeds for reproducibility (PyTorch, Python, Numpy)\n",
    "matricola = 2013031\n",
    "torch.manual_seed(matricola)\n",
    "random.seed(matricola)\n",
    "np.random.seed(matricola)"
   ]
  },
  {
   "cell_type": "code",
   "execution_count": 3,
   "id": "87d77ca8",
   "metadata": {},
   "outputs": [
    {
     "name": "stdout",
     "output_type": "stream",
     "text": [
      "Selected device: cpu\n"
     ]
    }
   ],
   "source": [
    "# Check if the GPU is available\n",
    "device = torch.device(\"cuda\") if torch.cuda.is_available() else torch.device(\"cpu\")\n",
    "print(f'Selected device: {device}')"
   ]
  },
  {
   "cell_type": "markdown",
   "id": "374c6c42",
   "metadata": {},
   "source": [
    "### Dataset"
   ]
  },
  {
   "cell_type": "code",
   "execution_count": 4,
   "id": "f56792ea",
   "metadata": {
    "scrolled": true
   },
   "outputs": [],
   "source": [
    "### Download the data and create dataset\n",
    "data_dir = 'dataset'\n",
    "# With these commands the train and test datasets, respectively, are downloaded \n",
    "# automatically and stored in the local \"data_dir\" directory.\n",
    "train_dataset = torchvision.datasets.FashionMNIST(data_dir, train=True, download=False)\n",
    "test_dataset  = torchvision.datasets.FashionMNIST(data_dir, train=False, download=False)"
   ]
  },
  {
   "cell_type": "code",
   "execution_count": 5,
   "id": "b0312b36",
   "metadata": {},
   "outputs": [
    {
     "data": {
      "image/png": "[encoded data removed]",
      "text/plain": [
       "<Figure size 576x576 with 5 Axes>"
      ]
     },
     "metadata": {},
     "output_type": "display_data"
    }
   ],
   "source": [
    "### Plot some sample\n",
    "label_names=['t-shirt','trouser','pullover','dress','coat','sandal','shirt',\n",
    "             'sneaker','bag','boot']\n",
    "fig, axs = plt.subplots(1, 5, figsize=(8,8))\n",
    "for ax in axs.flatten():\n",
    "    # random.choice allows to randomly sample from a list-like object (basically anything that can be accessed with an index, like our dataset)\n",
    "    img, label = random.choice(train_dataset)\n",
    "    ax.imshow(np.array(img), cmap='gist_gray')\n",
    "    ax.set_title(f'Label: {label_names[label]} [{label}]')\n",
    "    ax.set_xticks([])\n",
    "    ax.set_yticks([])\n",
    "plt.tight_layout()"
   ]
  },
  {
   "cell_type": "code",
   "execution_count": 6,
   "id": "9f1ed55d",
   "metadata": {},
   "outputs": [],
   "source": [
    "# In this case the train_transform and test_transform are the same, \n",
    "# but we keep them separate for potential future updates\n",
    "train_transform = transforms.Compose([\n",
    "    transforms.ToTensor(),\n",
    "])\n",
    "test_transform = transforms.Compose([\n",
    "    transforms.ToTensor(),\n",
    "])\n"
   ]
  },
  {
   "cell_type": "code",
   "execution_count": 7,
   "id": "cda1c05a",
   "metadata": {},
   "outputs": [],
   "source": [
    "# Set the train transform\n",
    "train_dataset.transform = train_transform\n",
    "# Set the test transform\n",
    "test_dataset.transform = test_transform\n"
   ]
  },
  {
   "cell_type": "code",
   "execution_count": 8,
   "id": "61ac1eed",
   "metadata": {},
   "outputs": [
    {
     "name": "stdout",
     "output_type": "stream",
     "text": [
      "TRAIN BATCH SHAPE\n",
      "\t Data: torch.Size([256, 1, 28, 28])\n",
      "\t Labels: torch.Size([256])\n",
      "TEST BATCH SHAPE\n",
      "\t Data: torch.Size([256, 1, 28, 28])\n",
      "\t Labels: torch.Size([256])\n"
     ]
    }
   ],
   "source": [
    "### Define train dataloader\n",
    "train_dataloader = DataLoader(train_dataset, batch_size=256, shuffle=True)\n",
    "### Define test dataloader\n",
    "test_dataloader = DataLoader(test_dataset, batch_size=256, shuffle=False)\n",
    "\n",
    "\n",
    "batch_data, batch_labels = next(iter(train_dataloader))\n",
    "print(f\"TRAIN BATCH SHAPE\")\n",
    "print(f\"\\t Data: {batch_data.shape}\")\n",
    "print(f\"\\t Labels: {batch_labels.shape}\")\n",
    "\n",
    "batch_data, batch_labels = next(iter(test_dataloader))\n",
    "print(f\"TEST BATCH SHAPE\")\n",
    "print(f\"\\t Data: {batch_data.shape}\")\n",
    "print(f\"\\t Labels: {batch_labels.shape}\")\n"
   ]
  },
  {
   "cell_type": "markdown",
   "id": "90e402f2",
   "metadata": {},
   "source": [
    "### Architecture"
   ]
  },
  {
   "cell_type": "markdown",
   "id": "2750ed93",
   "metadata": {},
   "source": [
    "![Encoder architecture](Img/encoder.png)"
   ]
  },
  {
   "cell_type": "code",
   "execution_count": 9,
   "id": "2bf6ec05",
   "metadata": {},
   "outputs": [],
   "source": [
    "class Encoder(nn.Module):\n",
    "    def __init__(self, encoded_space_dim):\n",
    "        super().__init__()\n",
    "        ### Convolutional section\n",
    "        self.encoder_cnn = nn.Sequential(\n",
    "            # First convolutional layer\n",
    "            nn.Conv2d(in_channels = 1, out_channels = 8, kernel_size=3, \n",
    "                      stride=2, padding=1),\n",
    "            nn.ReLU(True),\n",
    "            # Second convolutional layer\n",
    "            nn.Conv2d(in_channels=8, out_channels=16, kernel_size=3, \n",
    "                      stride=2, padding=1),\n",
    "            nn.ReLU(True),\n",
    "            # Third convolutional layer\n",
    "            nn.Conv2d(in_channels=16, out_channels=32, kernel_size=3, \n",
    "                      stride=2, padding=0),\n",
    "            nn.ReLU(True)\n",
    "        )\n",
    "        \n",
    "        ### Flatten layer\n",
    "        self.flatten = nn.Flatten(start_dim=1)\n",
    "\n",
    "        ### Linear section\n",
    "        self.encoder_lin = nn.Sequential(\n",
    "            # First linear layer\n",
    "            nn.Linear(in_features= (32 * 3* 3), out_features=64),\n",
    "            nn.ReLU(True),\n",
    "            # Second linear layer\n",
    "            nn.Linear(in_features=64, out_features=encoded_space_dim)\n",
    "        )\n",
    "        \n",
    "    def forward(self, x):\n",
    "        # Apply convolutions\n",
    "        x = self.encoder_cnn(x)\n",
    "        # Flatten\n",
    "        x = self.flatten(x)\n",
    "        # # Apply linear layers\n",
    "        x = self.encoder_lin(x)\n",
    "        return x"
   ]
  },
  {
   "cell_type": "markdown",
   "id": "8c144125",
   "metadata": {},
   "source": [
    "![](Img/decoder.png)"
   ]
  },
  {
   "cell_type": "code",
   "execution_count": 10,
   "id": "305de84e",
   "metadata": {},
   "outputs": [],
   "source": [
    "class Decoder(nn.Module):\n",
    "    def __init__(self, encoded_space_dim):\n",
    "        super().__init__()\n",
    "        ### Linear section\n",
    "        self.decoder_lin = nn.Sequential(\n",
    "            # First linear layer\n",
    "            nn.Linear(in_features=encoded_space_dim, out_features=64),\n",
    "            nn.ReLU(True),\n",
    "            # Second linear layer\n",
    "            nn.Linear(in_features=64, out_features=(32*3*3)),\n",
    "            nn.ReLU(True)\n",
    "        )\n",
    "        ### Unflatten\n",
    "        self.unflatten = nn.Unflatten(dim=1, unflattened_size=(32, 3, 3))\n",
    "        ### Convolutional section\n",
    "        self.decoder_conv = nn.Sequential(\n",
    "            # First transposed convolution\n",
    "            nn.ConvTranspose2d(in_channels=32, out_channels=16, kernel_size=3, \n",
    "                               stride=2, padding =0, output_padding=0),\n",
    "            nn.ReLU(True),\n",
    "            # Second transposed convolution\n",
    "            nn.ConvTranspose2d(in_channels=16, out_channels=8, kernel_size=3, \n",
    "                               stride=2, padding=1, output_padding=1),\n",
    "            nn.ReLU(True),\n",
    "            # Third transposed convolution\n",
    "            nn.ConvTranspose2d(in_channels=8, out_channels=1, kernel_size=3, \n",
    "                               stride=2, padding=1, output_padding=1)\n",
    "        )\n",
    "        \n",
    "    def forward(self, x):\n",
    "        # Apply linear layers\n",
    "        x = self.decoder_lin(x)\n",
    "        # Unflatten\n",
    "        x = self.unflatten(x)\n",
    "        # Apply transposed convolutions\n",
    "        x = self.decoder_conv(x)\n",
    "        # Apply a sigmoid to force the output to be between 0 and 1 (valid pixel values)\n",
    "        x = torch.sigmoid(x)\n",
    "        return x"
   ]
  },
  {
   "cell_type": "markdown",
   "id": "48c6ba6a",
   "metadata": {},
   "source": [
    "### Training"
   ]
  },
  {
   "cell_type": "code",
   "execution_count": 11,
   "id": "cbe0777c",
   "metadata": {},
   "outputs": [],
   "source": [
    "### Training function\n",
    "def train_epoch(encoder, decoder, device,dataloader, loss_fn, optimizer):\n",
    "    \"\"\"\n",
    "    This function train the network for one epoch\n",
    "    \"\"\"\n",
    "    # Set train mode for both networks\n",
    "    encoder.train()\n",
    "    decoder.train()\n",
    "    \n",
    "    # Train\n",
    "    train_loss = []\n",
    "    for sample_batched, _ in dataloader:\n",
    "        # Move data to device\n",
    "        sample_batched = sample_batched.to(device)\n",
    "        # Encode the data\n",
    "        encoded_sample = encoder(sample_batched)\n",
    "        # Decode the data\n",
    "        decoded_sample = decoder(encoded_sample)\n",
    "        # Compute loss\n",
    "        loss = loss_fn(decoded_sample, sample_batched)\n",
    "        # Backpropagation\n",
    "        optimizer.zero_grad()\n",
    "        loss.backward()\n",
    "        #Updata weights\n",
    "        optimizer.step()\n",
    "        #Save trai loss for this batch\n",
    "        loss_batch = loss.detach().cpu().numpy()\n",
    "        train_loss.append(loss_batch)\n",
    "    #Save the average train loss\n",
    "    train_loss = np.mean(train_loss)\n",
    "    print(f\"AVERAGE TRAIN LOSS: {train_loss}\")\n",
    "    \n",
    "    return train_loss\n",
    "\n",
    "### Testing function\n",
    "def test_epoch(encoder, decoder, device, dataloader, loss_fn):\n",
    "    \"\"\"\n",
    "    This function test the network performance for one epoch of training\n",
    "    \"\"\"\n",
    "    # Set evaluation mode for both networks\n",
    "    encoder.eval()\n",
    "    decoder.eval()\n",
    "    #\n",
    "    test_loss = []\n",
    "    # Discable gradient tracking\n",
    "    with torch.no_grad():\n",
    "        for sample_batched, _ in dataloader:\n",
    "            # Move data to device\n",
    "            sample_batched = sample_batched.to(device)\n",
    "            # Encode the data\n",
    "            encoded_sample = encoder(sample_batched)\n",
    "            # Decode the data\n",
    "            decoded_sample = decoder(encoded_sample)\n",
    "            # Compute loss\n",
    "            loss = loss_fn(decoded_sample, sample_batched)\n",
    "             #Save test loss for this batch\n",
    "            loss_batch = loss.detach().cpu().numpy()\n",
    "            test_loss.append(loss_batch)\n",
    "        #Save the average train loss\n",
    "        test_loss = np.mean(test_loss)\n",
    "        print(f\"AVERAGE TEST LOSS: {test_loss}\")\n",
    "    \n",
    "    return test_loss\n",
    "        "
   ]
  },
  {
   "cell_type": "code",
   "execution_count": 12,
   "id": "e2471bb1",
   "metadata": {},
   "outputs": [],
   "source": [
    "def plot_progress(encoder, decoder,test_dataset,epoch,keep =False):\n",
    "    \"\"\"\n",
    "    This function plot the image we send to the autoencoder and the one returned by the\n",
    "    network.\n",
    "    \"\"\"\n",
    "    categories = ['T-shirt/top','Trouser','Pullover','Dress','Coat','Sandal','Shirt','Sneaker','Bag','Ankle boot']\n",
    "    elements = [0,1,5,37]\n",
    "    \n",
    "    encoder.eval()\n",
    "    decoder.eval()\n",
    "    fig, axs = plt.subplots(2, 4, figsize=(12,6))\n",
    "    fig.suptitle('Original images and reconstructed image (EPOCH %d)' % (epoch + 1),fontsize=15)\n",
    "    fig.subplots_adjust(top=0.88)\n",
    "    axs = axs.ravel()\n",
    "    for i in range (4):\n",
    "        img, label = test_dataset[elements[i]][0].unsqueeze(0).to(device),test_dataset[elements[i]][1]\n",
    "        with torch.no_grad():\n",
    "            rec_img  = decoder(encoder(img))\n",
    "        # Plot the reconstructed image  \n",
    "        axs[i].imshow(img.cpu().squeeze().numpy(), cmap='gist_gray')\n",
    "        axs[i].set_title(categories[label])\n",
    "        axs[i].set_xticks([])\n",
    "        axs[i].set_yticks([])\n",
    "        axs[i+4].imshow(rec_img.cpu().squeeze().numpy(), cmap='gist_gray')\n",
    "        axs[i+4].set_title('Reconstructed image')\n",
    "        axs[i+4].set_xticks([])\n",
    "        axs[i+4].set_yticks([])\n",
    "    plt.tight_layout()\n",
    "    fig.subplots_adjust(top=0.88)\n",
    "    # Save figures\n",
    "    if keep:\n",
    "        os.makedirs('autoencoder_progress_%d_features' % encoded_space_dim, exist_ok=True)\n",
    "        fig.savefig('autoencoder_progress_%d_features/epoch_%d.jpg' % (encoded_space_dim, epoch + 1))\n",
    "    plt.show()\n",
    "    plt.close()"
   ]
  },
  {
   "cell_type": "code",
   "execution_count": 13,
   "id": "ef3fe670",
   "metadata": {},
   "outputs": [],
   "source": [
    "def training_cycle(encoder,decoder,device,training_data, test_data, loss_fn, optim,num_epochs,test_dataset,plot = False):\n",
    "    \"\"\"\n",
    "    This function train the network for a desired number of epochs it also test the network \n",
    "    reconstruction performance and make plots comparing the input image and the reconstructed one every 5 epochs.\n",
    "    \"\"\"\n",
    "    #I keep track of losses for plots\n",
    "    train_loss = []\n",
    "    test_loss  = []\n",
    "    i = 0\n",
    "    for epoch in range(num_epochs):\n",
    "        print('EPOCH %d/%d' % (epoch + 1, num_epochs))\n",
    "        ### Training (use the training function)\n",
    "        tr_l = train_epoch(\n",
    "            encoder=encoder, \n",
    "            decoder=decoder, \n",
    "            device=device, \n",
    "            dataloader=training_data, \n",
    "            loss_fn=loss_fn, \n",
    "            optimizer=optim)\n",
    "        train_loss.append(tr_l)\n",
    "        ### Validation  (use the testing function)\n",
    "        t_l = test_epoch(\n",
    "            encoder=encoder, \n",
    "            decoder=decoder, \n",
    "            device=device, \n",
    "            dataloader=test_data, \n",
    "            loss_fn=loss_fn)\n",
    "        test_loss.append(t_l)\n",
    "        # Print Validationloss\n",
    "        #print('\\n\\n\\t VALIDATION - EPOCH %d/%d - loss: %f\\n\\n' % (epoch + 1, num_epochs, t_l))\n",
    "        \n",
    "        ### Plot progress\n",
    "        if plot:\n",
    "            if (i % 5 == 0): plot_progress(encoder, decoder,test_dataset,epoch,keep = False)\n",
    "        #Save network parameters\n",
    "        i +=1 \n",
    "        torch.save(encoder.state_dict(), 'encoder_params.pth')\n",
    "        torch.save(decoder.state_dict(), 'decoder_params.pth')\n",
    "    return train_loss, test_loss"
   ]
  },
  {
   "cell_type": "markdown",
   "id": "560b1f4e",
   "metadata": {},
   "source": [
    "## Hyperparameter optimization"
   ]
  },
  {
   "cell_type": "markdown",
   "id": "3ef1e7a3",
   "metadata": {},
   "source": [
    "The hyperparameter optimization will be performed using Optuna"
   ]
  },
  {
   "cell_type": "code",
   "execution_count": 14,
   "id": "bca392f9",
   "metadata": {},
   "outputs": [],
   "source": [
    "def objective(trial):\n",
    "    max_epochs = 5\n",
    "    \n",
    "    # Parameters for the search\n",
    "    encoded_space_dim      = trial.suggest_categorical(\"encoded_space_dim\", [2,10])\n",
    "    optimizer_name         = trial.suggest_categorical('optimizer_name',[\"SGD\", \"Adam\"])\n",
    "    lr                     = trial.suggest_loguniform(\"lr\", 1e-5, 1e-2)\n",
    "    \n",
    "    \n",
    "    \n",
    "    ### Initialize both networks\n",
    "    encoder = Encoder(encoded_space_dim=encoded_space_dim)\n",
    "    decoder = Decoder(encoded_space_dim=encoded_space_dim)\n",
    "    \n",
    "    ### Define the complete model\n",
    "    model = nn.Sequential(encoder, decoder)\n",
    "    model = model.to(device)\n",
    "    \n",
    "    \n",
    "    ### Define the loss function\n",
    "    loss_fn = torch.nn.MSELoss()\n",
    "    \n",
    "    \n",
    "    #Define the optimizer\n",
    "    optimizer = getattr(torch.optim,optimizer_name)(model.parameters(), lr=lr)\n",
    "\n",
    "    ################################################################################################\n",
    "    # Train a model (cant use the function because I would need the separated parts encoder decoder)\n",
    "    for epoch in range(max_epochs):\n",
    "        print('EPOCH %d/%d' % (epoch + 1, max_epochs))\n",
    "        ### Training (use the training function)\n",
    "        # Set train mode for both networks\n",
    "        model.train()  \n",
    "        train_loss = []\n",
    "        \n",
    "        # Train\n",
    "        for sample_batched, _ in train_dataloader:\n",
    "            # Move data to device\n",
    "            sample_batched = sample_batched.to(device)\n",
    "            # Encode decode the data\n",
    "            encoded_decoded_sample = model(sample_batched)\n",
    "            loss = loss_fn(encoded_decoded_sample, sample_batched)\n",
    "            # Backpropagation\n",
    "            optimizer.zero_grad()\n",
    "            loss.backward()\n",
    "            #Updata weights\n",
    "            optimizer.step()\n",
    "            #Save trai loss for this batch\n",
    "            loss_batch = loss.detach().cpu().numpy()\n",
    "            train_loss.append(loss_batch)\n",
    "        #Save the average train loss\n",
    "        train_loss = np.mean(train_loss)\n",
    "        print(f\"AVERAGE TRAIN LOSS: {train_loss}\")\n",
    "   \n",
    "        ### Validation  (use the testing function)\n",
    "        # Set evaluation mode for both networks\n",
    "        model.eval()\n",
    "        test_loss = []\n",
    "        # Discable gradient tracking\n",
    "        with torch.no_grad():\n",
    "            for sample_batched, _ in test_dataloader:\n",
    "                # Move data to device\n",
    "                sample_batched = sample_batched.to(device)\n",
    "                # Encode decode the data\n",
    "                encoded_decoded_sample = model(sample_batched)\n",
    "                # Compute loss\n",
    "                loss = loss_fn(encoded_decoded_sample, sample_batched)\n",
    "                 #Save test loss for this batch\n",
    "                loss_batch = loss.detach().cpu().numpy()\n",
    "                test_loss.append(loss_batch)\n",
    "            #Save the average train loss\n",
    "            test_loss = np.mean(test_loss)\n",
    "            print(f\"AVERAGE TEST LOSS: {test_loss}\")    \n",
    "    \n",
    "    \n",
    "    return test_loss\n"
   ]
  },
  {
   "cell_type": "code",
   "execution_count": 30,
   "id": "279f7028",
   "metadata": {},
   "outputs": [
    {
     "name": "stderr",
     "output_type": "stream",
     "text": [
      "\u001b[32m[I 2022-06-28 22:21:26,254]\u001b[0m A new study created in memory with name: myfirstoptimizationstudy\u001b[0m\n"
     ]
    },
    {
     "name": "stdout",
     "output_type": "stream",
     "text": [
      "EPOCH 1/5\n",
      "AVERAGE TRAIN LOSS: 0.1690908968448639\n",
      "AVERAGE TEST LOSS: 0.12810468673706055\n",
      "EPOCH 2/5\n",
      "AVERAGE TRAIN LOSS: 0.10332774370908737\n",
      "AVERAGE TEST LOSS: 0.0912659540772438\n",
      "EPOCH 3/5\n",
      "AVERAGE TRAIN LOSS: 0.08644992113113403\n",
      "AVERAGE TEST LOSS: 0.082321897149086\n",
      "EPOCH 4/5\n",
      "AVERAGE TRAIN LOSS: 0.07915614545345306\n",
      "AVERAGE TEST LOSS: 0.07251174747943878\n",
      "EPOCH 5/5\n",
      "AVERAGE TRAIN LOSS: 0.06545952707529068\n"
     ]
    },
    {
     "name": "stderr",
     "output_type": "stream",
     "text": [
      "\u001b[32m[I 2022-06-28 22:23:49,166]\u001b[0m Trial 0 finished with value: 0.06003568321466446 and parameters: {'encoded_space_dim': 10, 'optimizer_name': 'Adam', 'lr': 7.895056808920034e-05}. Best is trial 0 with value: 0.06003568321466446.\u001b[0m\n"
     ]
    },
    {
     "name": "stdout",
     "output_type": "stream",
     "text": [
      "AVERAGE TEST LOSS: 0.06003568321466446\n"
     ]
    }
   ],
   "source": [
    "#Define the study\n",
    "study = optuna.create_study(study_name=\"myfirstoptimizationstudy\", direction=\"minimize\")\n",
    "study.optimize(objective, n_trials=10, timeout=30) #six hours"
   ]
  },
  {
   "cell_type": "code",
   "execution_count": 15,
   "id": "63a01e97",
   "metadata": {},
   "outputs": [
    {
     "ename": "NameError",
     "evalue": "name 'study' is not defined",
     "output_type": "error",
     "traceback": [
      "\u001b[1;31m---------------------------------------------------------------------------\u001b[0m",
      "\u001b[1;31mNameError\u001b[0m                                 Traceback (most recent call last)",
      "Input \u001b[1;32mIn [15]\u001b[0m, in \u001b[0;36m<cell line: 1>\u001b[1;34m()\u001b[0m\n\u001b[1;32m----> 1\u001b[0m \u001b[38;5;28mprint\u001b[39m(\u001b[38;5;124m\"\u001b[39m\u001b[38;5;124mNumber of finished trials: \u001b[39m\u001b[38;5;132;01m{}\u001b[39;00m\u001b[38;5;124m\"\u001b[39m\u001b[38;5;241m.\u001b[39mformat(\u001b[38;5;28mlen\u001b[39m(\u001b[43mstudy\u001b[49m\u001b[38;5;241m.\u001b[39mtrials)))\n\u001b[0;32m      3\u001b[0m \u001b[38;5;28mprint\u001b[39m(\u001b[38;5;124m\"\u001b[39m\u001b[38;5;124mBest trial:\u001b[39m\u001b[38;5;124m\"\u001b[39m)\n\u001b[0;32m      4\u001b[0m trial \u001b[38;5;241m=\u001b[39m study\u001b[38;5;241m.\u001b[39mbest_trial\n",
      "\u001b[1;31mNameError\u001b[0m: name 'study' is not defined"
     ]
    }
   ],
   "source": [
    "print(\"Number of finished trials: {}\".format(len(study.trials)))\n",
    "\n",
    "print(\"Best trial:\")\n",
    "trial = study.best_trial\n",
    "\n",
    "print(\"  Value: {}\".format(trial.value))\n",
    "\n",
    "print(\"  Params: \")\n",
    "for key, value in trial.params.items():\n",
    "    print(\"    {}: {}\".format(key, value))"
   ]
  },
  {
   "cell_type": "code",
   "execution_count": 22,
   "id": "f43e6006",
   "metadata": {},
   "outputs": [],
   "source": [
    "optuna.visualization.plot_param_importances(study)"
   ]
  },
  {
   "cell_type": "code",
   "execution_count": 23,
   "id": "4d85c361",
   "metadata": {},
   "outputs": [],
   "source": [
    "optuna.visualization.plot_contour(study, params=['lr','encoded_space_dim'])"
   ]
  },
  {
   "cell_type": "markdown",
   "id": "857ed05d",
   "metadata": {},
   "source": [
    "### Network Analysis"
   ]
  },
  {
   "cell_type": "markdown",
   "id": "f8715e83",
   "metadata": {},
   "source": [
    "First we retrain the model using the best parameters"
   ]
  },
  {
   "cell_type": "code",
   "execution_count": 15,
   "id": "94d7d453",
   "metadata": {},
   "outputs": [
    {
     "data": {
      "text/plain": [
       "Decoder(\n",
       "  (decoder_lin): Sequential(\n",
       "    (0): Linear(in_features=2, out_features=64, bias=True)\n",
       "    (1): ReLU(inplace=True)\n",
       "    (2): Linear(in_features=64, out_features=288, bias=True)\n",
       "    (3): ReLU(inplace=True)\n",
       "  )\n",
       "  (unflatten): Unflatten(dim=1, unflattened_size=(32, 3, 3))\n",
       "  (decoder_conv): Sequential(\n",
       "    (0): ConvTranspose2d(32, 16, kernel_size=(3, 3), stride=(2, 2))\n",
       "    (1): ReLU(inplace=True)\n",
       "    (2): ConvTranspose2d(16, 8, kernel_size=(3, 3), stride=(2, 2), padding=(1, 1), output_padding=(1, 1))\n",
       "    (3): ReLU(inplace=True)\n",
       "    (4): ConvTranspose2d(8, 1, kernel_size=(3, 3), stride=(2, 2), padding=(1, 1), output_padding=(1, 1))\n",
       "  )\n",
       ")"
      ]
     },
     "execution_count": 15,
     "metadata": {},
     "output_type": "execute_result"
    }
   ],
   "source": [
    "### Initialize both networks\n",
    "encoded_space_dim = 2 #trial.params['encoded_space_dim']\n",
    "encoder = Encoder(encoded_space_dim=encoded_space_dim)\n",
    "decoder = Decoder(encoded_space_dim=encoded_space_dim)\n",
    "\n",
    "# Move both the encoder and the decoder to the selected device\n",
    "encoder.to(device)\n",
    "decoder.to(device)"
   ]
  },
  {
   "cell_type": "code",
   "execution_count": 18,
   "id": "b7df7a69",
   "metadata": {
    "scrolled": true
   },
   "outputs": [
    {
     "name": "stdout",
     "output_type": "stream",
     "text": [
      "EPOCH 1/50\n",
      "AVERAGE TRAIN LOSS: 0.03809044137597084\n",
      "AVERAGE TEST LOSS: 0.034391093999147415\n"
     ]
    },
    {
     "data": {
      "image/png": "[encoded data removed]",
      "text/plain": [
       "<Figure size 864x432 with 8 Axes>"
      ]
     },
     "metadata": {},
     "output_type": "display_data"
    },
    {
     "name": "stdout",
     "output_type": "stream",
     "text": [
      "EPOCH 2/50\n",
      "AVERAGE TRAIN LOSS: 0.0329805351793766\n",
      "AVERAGE TEST LOSS: 0.032731685787439346\n",
      "EPOCH 3/50\n",
      "AVERAGE TRAIN LOSS: 0.03180597350001335\n",
      "AVERAGE TEST LOSS: 0.03227899223566055\n",
      "EPOCH 4/50\n",
      "AVERAGE TRAIN LOSS: 0.03128112480044365\n",
      "AVERAGE TEST LOSS: 0.031000325456261635\n",
      "EPOCH 5/50\n",
      "AVERAGE TRAIN LOSS: 0.030766349285840988\n",
      "AVERAGE TEST LOSS: 0.03146468475461006\n",
      "EPOCH 6/50\n",
      "AVERAGE TRAIN LOSS: 0.030578158795833588\n",
      "AVERAGE TEST LOSS: 0.03149985522031784\n"
     ]
    },
    {
     "data": {
      "image/png": "[encoded data removed]",
      "text/plain": [
       "<Figure size 864x432 with 8 Axes>"
      ]
     },
     "metadata": {},
     "output_type": "display_data"
    },
    {
     "name": "stdout",
     "output_type": "stream",
     "text": [
      "EPOCH 7/50\n",
      "AVERAGE TRAIN LOSS: 0.030199814587831497\n",
      "AVERAGE TEST LOSS: 0.030734336003661156\n",
      "EPOCH 8/50\n",
      "AVERAGE TRAIN LOSS: 0.02992246486246586\n",
      "AVERAGE TEST LOSS: 0.030343007296323776\n",
      "EPOCH 9/50\n",
      "AVERAGE TRAIN LOSS: 0.029912708327174187\n",
      "AVERAGE TEST LOSS: 0.03156497702002525\n",
      "EPOCH 10/50\n",
      "AVERAGE TRAIN LOSS: 0.030050495639443398\n",
      "AVERAGE TEST LOSS: 0.029863515868782997\n",
      "EPOCH 11/50\n",
      "AVERAGE TRAIN LOSS: 0.02951091155409813\n",
      "AVERAGE TEST LOSS: 0.029780274257063866\n"
     ]
    },
    {
     "data": {
      "image/png": "[encoded data removed]",
      "text/plain": [
       "<Figure size 864x432 with 8 Axes>"
      ]
     },
     "metadata": {},
     "output_type": "display_data"
    },
    {
     "name": "stdout",
     "output_type": "stream",
     "text": [
      "EPOCH 12/50\n",
      "AVERAGE TRAIN LOSS: 0.0293666273355484\n",
      "AVERAGE TEST LOSS: 0.029645895585417747\n",
      "EPOCH 13/50\n",
      "AVERAGE TRAIN LOSS: 0.02939354069530964\n",
      "AVERAGE TEST LOSS: 0.02941342629492283\n",
      "EPOCH 14/50\n",
      "AVERAGE TRAIN LOSS: 0.02939300797879696\n",
      "AVERAGE TEST LOSS: 0.02990024909377098\n",
      "EPOCH 15/50\n",
      "AVERAGE TRAIN LOSS: 0.029175275936722755\n"
     ]
    },
    {
     "ename": "KeyboardInterrupt",
     "evalue": "",
     "output_type": "error",
     "traceback": [
      "\u001b[1;31m---------------------------------------------------------------------------\u001b[0m",
      "\u001b[1;31mKeyboardInterrupt\u001b[0m                         Traceback (most recent call last)",
      "Input \u001b[1;32mIn [18]\u001b[0m, in \u001b[0;36m<cell line: 12>\u001b[1;34m()\u001b[0m\n\u001b[0;32m      9\u001b[0m optim \u001b[38;5;241m=\u001b[39m torch\u001b[38;5;241m.\u001b[39moptim\u001b[38;5;241m.\u001b[39mAdam(params_to_optimize, lr\u001b[38;5;241m=\u001b[39m\u001b[38;5;241m0.0067\u001b[39m, weight_decay\u001b[38;5;241m=\u001b[39m\u001b[38;5;241m1.7e-5\u001b[39m)\n\u001b[0;32m     11\u001b[0m \u001b[38;5;66;03m###Train\u001b[39;00m\n\u001b[1;32m---> 12\u001b[0m train, test \u001b[38;5;241m=\u001b[39m \u001b[43mtraining_cycle\u001b[49m\u001b[43m(\u001b[49m\u001b[43mencoder\u001b[49m\u001b[43m,\u001b[49m\n\u001b[0;32m     13\u001b[0m \u001b[43m                             \u001b[49m\u001b[43mdecoder\u001b[49m\u001b[43m,\u001b[49m\n\u001b[0;32m     14\u001b[0m \u001b[43m                             \u001b[49m\u001b[43mdevice\u001b[49m\u001b[43m,\u001b[49m\n\u001b[0;32m     15\u001b[0m \u001b[43m                             \u001b[49m\u001b[43mtrain_dataloader\u001b[49m\u001b[43m,\u001b[49m\n\u001b[0;32m     16\u001b[0m \u001b[43m                             \u001b[49m\u001b[43mtest_dataloader\u001b[49m\u001b[43m,\u001b[49m\n\u001b[0;32m     17\u001b[0m \u001b[43m                             \u001b[49m\u001b[43mloss_fn\u001b[49m\u001b[43m,\u001b[49m\n\u001b[0;32m     18\u001b[0m \u001b[43m                             \u001b[49m\u001b[43moptim\u001b[49m\u001b[43m,\u001b[49m\n\u001b[0;32m     19\u001b[0m \u001b[43m                             \u001b[49m\u001b[38;5;241;43m50\u001b[39;49m\u001b[43m,\u001b[49m\n\u001b[0;32m     20\u001b[0m \u001b[43m                             \u001b[49m\u001b[43mtest_dataset\u001b[49m\u001b[43m,\u001b[49m\n\u001b[0;32m     21\u001b[0m \u001b[43m                             \u001b[49m\u001b[43mplot\u001b[49m\u001b[38;5;241;43m=\u001b[39;49m\u001b[38;5;28;43;01mTrue\u001b[39;49;00m\u001b[43m)\u001b[49m\n",
      "Input \u001b[1;32mIn [13]\u001b[0m, in \u001b[0;36mtraining_cycle\u001b[1;34m(encoder, decoder, device, training_data, test_data, loss_fn, optim, num_epochs, test_dataset, plot)\u001b[0m\n\u001b[0;32m     20\u001b[0m train_loss\u001b[38;5;241m.\u001b[39mappend(tr_l)\n\u001b[0;32m     21\u001b[0m \u001b[38;5;66;03m### Validation  (use the testing function)\u001b[39;00m\n\u001b[1;32m---> 22\u001b[0m t_l \u001b[38;5;241m=\u001b[39m \u001b[43mtest_epoch\u001b[49m\u001b[43m(\u001b[49m\n\u001b[0;32m     23\u001b[0m \u001b[43m    \u001b[49m\u001b[43mencoder\u001b[49m\u001b[38;5;241;43m=\u001b[39;49m\u001b[43mencoder\u001b[49m\u001b[43m,\u001b[49m\u001b[43m \u001b[49m\n\u001b[0;32m     24\u001b[0m \u001b[43m    \u001b[49m\u001b[43mdecoder\u001b[49m\u001b[38;5;241;43m=\u001b[39;49m\u001b[43mdecoder\u001b[49m\u001b[43m,\u001b[49m\u001b[43m \u001b[49m\n\u001b[0;32m     25\u001b[0m \u001b[43m    \u001b[49m\u001b[43mdevice\u001b[49m\u001b[38;5;241;43m=\u001b[39;49m\u001b[43mdevice\u001b[49m\u001b[43m,\u001b[49m\u001b[43m \u001b[49m\n\u001b[0;32m     26\u001b[0m \u001b[43m    \u001b[49m\u001b[43mdataloader\u001b[49m\u001b[38;5;241;43m=\u001b[39;49m\u001b[43mtest_data\u001b[49m\u001b[43m,\u001b[49m\u001b[43m \u001b[49m\n\u001b[0;32m     27\u001b[0m \u001b[43m    \u001b[49m\u001b[43mloss_fn\u001b[49m\u001b[38;5;241;43m=\u001b[39;49m\u001b[43mloss_fn\u001b[49m\u001b[43m)\u001b[49m\n\u001b[0;32m     28\u001b[0m test_loss\u001b[38;5;241m.\u001b[39mappend(t_l)\n\u001b[0;32m     29\u001b[0m \u001b[38;5;66;03m# Print Validationloss\u001b[39;00m\n\u001b[0;32m     30\u001b[0m \u001b[38;5;66;03m#print('\\n\\n\\t VALIDATION - EPOCH %d/%d - loss: %f\\n\\n' % (epoch + 1, num_epochs, t_l))\u001b[39;00m\n\u001b[0;32m     31\u001b[0m \n\u001b[0;32m     32\u001b[0m \u001b[38;5;66;03m### Plot progress\u001b[39;00m\n",
      "Input \u001b[1;32mIn [11]\u001b[0m, in \u001b[0;36mtest_epoch\u001b[1;34m(encoder, decoder, device, dataloader, loss_fn)\u001b[0m\n\u001b[0;32m     45\u001b[0m \u001b[38;5;66;03m# Discable gradient tracking\u001b[39;00m\n\u001b[0;32m     46\u001b[0m \u001b[38;5;28;01mwith\u001b[39;00m torch\u001b[38;5;241m.\u001b[39mno_grad():\n\u001b[1;32m---> 47\u001b[0m     \u001b[38;5;28;01mfor\u001b[39;00m sample_batched, _ \u001b[38;5;129;01min\u001b[39;00m dataloader:\n\u001b[0;32m     48\u001b[0m         \u001b[38;5;66;03m# Move data to device\u001b[39;00m\n\u001b[0;32m     49\u001b[0m         sample_batched \u001b[38;5;241m=\u001b[39m sample_batched\u001b[38;5;241m.\u001b[39mto(device)\n\u001b[0;32m     50\u001b[0m         \u001b[38;5;66;03m# Encode the data\u001b[39;00m\n",
      "File \u001b[1;32m~\\anaconda3\\envs\\NNDL_torch\\lib\\site-packages\\torch\\utils\\data\\dataloader.py:530\u001b[0m, in \u001b[0;36m_BaseDataLoaderIter.__next__\u001b[1;34m(self)\u001b[0m\n\u001b[0;32m    528\u001b[0m \u001b[38;5;28;01mif\u001b[39;00m \u001b[38;5;28mself\u001b[39m\u001b[38;5;241m.\u001b[39m_sampler_iter \u001b[38;5;129;01mis\u001b[39;00m \u001b[38;5;28;01mNone\u001b[39;00m:\n\u001b[0;32m    529\u001b[0m     \u001b[38;5;28mself\u001b[39m\u001b[38;5;241m.\u001b[39m_reset()\n\u001b[1;32m--> 530\u001b[0m data \u001b[38;5;241m=\u001b[39m \u001b[38;5;28;43mself\u001b[39;49m\u001b[38;5;241;43m.\u001b[39;49m\u001b[43m_next_data\u001b[49m\u001b[43m(\u001b[49m\u001b[43m)\u001b[49m\n\u001b[0;32m    531\u001b[0m \u001b[38;5;28mself\u001b[39m\u001b[38;5;241m.\u001b[39m_num_yielded \u001b[38;5;241m+\u001b[39m\u001b[38;5;241m=\u001b[39m \u001b[38;5;241m1\u001b[39m\n\u001b[0;32m    532\u001b[0m \u001b[38;5;28;01mif\u001b[39;00m \u001b[38;5;28mself\u001b[39m\u001b[38;5;241m.\u001b[39m_dataset_kind \u001b[38;5;241m==\u001b[39m _DatasetKind\u001b[38;5;241m.\u001b[39mIterable \u001b[38;5;129;01mand\u001b[39;00m \\\n\u001b[0;32m    533\u001b[0m         \u001b[38;5;28mself\u001b[39m\u001b[38;5;241m.\u001b[39m_IterableDataset_len_called \u001b[38;5;129;01mis\u001b[39;00m \u001b[38;5;129;01mnot\u001b[39;00m \u001b[38;5;28;01mNone\u001b[39;00m \u001b[38;5;129;01mand\u001b[39;00m \\\n\u001b[0;32m    534\u001b[0m         \u001b[38;5;28mself\u001b[39m\u001b[38;5;241m.\u001b[39m_num_yielded \u001b[38;5;241m>\u001b[39m \u001b[38;5;28mself\u001b[39m\u001b[38;5;241m.\u001b[39m_IterableDataset_len_called:\n",
      "File \u001b[1;32m~\\anaconda3\\envs\\NNDL_torch\\lib\\site-packages\\torch\\utils\\data\\dataloader.py:570\u001b[0m, in \u001b[0;36m_SingleProcessDataLoaderIter._next_data\u001b[1;34m(self)\u001b[0m\n\u001b[0;32m    568\u001b[0m \u001b[38;5;28;01mdef\u001b[39;00m \u001b[38;5;21m_next_data\u001b[39m(\u001b[38;5;28mself\u001b[39m):\n\u001b[0;32m    569\u001b[0m     index \u001b[38;5;241m=\u001b[39m \u001b[38;5;28mself\u001b[39m\u001b[38;5;241m.\u001b[39m_next_index()  \u001b[38;5;66;03m# may raise StopIteration\u001b[39;00m\n\u001b[1;32m--> 570\u001b[0m     data \u001b[38;5;241m=\u001b[39m \u001b[38;5;28;43mself\u001b[39;49m\u001b[38;5;241;43m.\u001b[39;49m\u001b[43m_dataset_fetcher\u001b[49m\u001b[38;5;241;43m.\u001b[39;49m\u001b[43mfetch\u001b[49m\u001b[43m(\u001b[49m\u001b[43mindex\u001b[49m\u001b[43m)\u001b[49m  \u001b[38;5;66;03m# may raise StopIteration\u001b[39;00m\n\u001b[0;32m    571\u001b[0m     \u001b[38;5;28;01mif\u001b[39;00m \u001b[38;5;28mself\u001b[39m\u001b[38;5;241m.\u001b[39m_pin_memory:\n\u001b[0;32m    572\u001b[0m         data \u001b[38;5;241m=\u001b[39m _utils\u001b[38;5;241m.\u001b[39mpin_memory\u001b[38;5;241m.\u001b[39mpin_memory(data)\n",
      "File \u001b[1;32m~\\anaconda3\\envs\\NNDL_torch\\lib\\site-packages\\torch\\utils\\data\\_utils\\fetch.py:49\u001b[0m, in \u001b[0;36m_MapDatasetFetcher.fetch\u001b[1;34m(self, possibly_batched_index)\u001b[0m\n\u001b[0;32m     47\u001b[0m \u001b[38;5;28;01mdef\u001b[39;00m \u001b[38;5;21mfetch\u001b[39m(\u001b[38;5;28mself\u001b[39m, possibly_batched_index):\n\u001b[0;32m     48\u001b[0m     \u001b[38;5;28;01mif\u001b[39;00m \u001b[38;5;28mself\u001b[39m\u001b[38;5;241m.\u001b[39mauto_collation:\n\u001b[1;32m---> 49\u001b[0m         data \u001b[38;5;241m=\u001b[39m [\u001b[38;5;28mself\u001b[39m\u001b[38;5;241m.\u001b[39mdataset[idx] \u001b[38;5;28;01mfor\u001b[39;00m idx \u001b[38;5;129;01min\u001b[39;00m possibly_batched_index]\n\u001b[0;32m     50\u001b[0m     \u001b[38;5;28;01melse\u001b[39;00m:\n\u001b[0;32m     51\u001b[0m         data \u001b[38;5;241m=\u001b[39m \u001b[38;5;28mself\u001b[39m\u001b[38;5;241m.\u001b[39mdataset[possibly_batched_index]\n",
      "File \u001b[1;32m~\\anaconda3\\envs\\NNDL_torch\\lib\\site-packages\\torch\\utils\\data\\_utils\\fetch.py:49\u001b[0m, in \u001b[0;36m<listcomp>\u001b[1;34m(.0)\u001b[0m\n\u001b[0;32m     47\u001b[0m \u001b[38;5;28;01mdef\u001b[39;00m \u001b[38;5;21mfetch\u001b[39m(\u001b[38;5;28mself\u001b[39m, possibly_batched_index):\n\u001b[0;32m     48\u001b[0m     \u001b[38;5;28;01mif\u001b[39;00m \u001b[38;5;28mself\u001b[39m\u001b[38;5;241m.\u001b[39mauto_collation:\n\u001b[1;32m---> 49\u001b[0m         data \u001b[38;5;241m=\u001b[39m [\u001b[38;5;28;43mself\u001b[39;49m\u001b[38;5;241;43m.\u001b[39;49m\u001b[43mdataset\u001b[49m\u001b[43m[\u001b[49m\u001b[43midx\u001b[49m\u001b[43m]\u001b[49m \u001b[38;5;28;01mfor\u001b[39;00m idx \u001b[38;5;129;01min\u001b[39;00m possibly_batched_index]\n\u001b[0;32m     50\u001b[0m     \u001b[38;5;28;01melse\u001b[39;00m:\n\u001b[0;32m     51\u001b[0m         data \u001b[38;5;241m=\u001b[39m \u001b[38;5;28mself\u001b[39m\u001b[38;5;241m.\u001b[39mdataset[possibly_batched_index]\n",
      "File \u001b[1;32m~\\anaconda3\\envs\\NNDL_torch\\lib\\site-packages\\torchvision\\datasets\\mnist.py:145\u001b[0m, in \u001b[0;36mMNIST.__getitem__\u001b[1;34m(self, index)\u001b[0m\n\u001b[0;32m    142\u001b[0m img \u001b[38;5;241m=\u001b[39m Image\u001b[38;5;241m.\u001b[39mfromarray(img\u001b[38;5;241m.\u001b[39mnumpy(), mode\u001b[38;5;241m=\u001b[39m\u001b[38;5;124m\"\u001b[39m\u001b[38;5;124mL\u001b[39m\u001b[38;5;124m\"\u001b[39m)\n\u001b[0;32m    144\u001b[0m \u001b[38;5;28;01mif\u001b[39;00m \u001b[38;5;28mself\u001b[39m\u001b[38;5;241m.\u001b[39mtransform \u001b[38;5;129;01mis\u001b[39;00m \u001b[38;5;129;01mnot\u001b[39;00m \u001b[38;5;28;01mNone\u001b[39;00m:\n\u001b[1;32m--> 145\u001b[0m     img \u001b[38;5;241m=\u001b[39m \u001b[38;5;28;43mself\u001b[39;49m\u001b[38;5;241;43m.\u001b[39;49m\u001b[43mtransform\u001b[49m\u001b[43m(\u001b[49m\u001b[43mimg\u001b[49m\u001b[43m)\u001b[49m\n\u001b[0;32m    147\u001b[0m \u001b[38;5;28;01mif\u001b[39;00m \u001b[38;5;28mself\u001b[39m\u001b[38;5;241m.\u001b[39mtarget_transform \u001b[38;5;129;01mis\u001b[39;00m \u001b[38;5;129;01mnot\u001b[39;00m \u001b[38;5;28;01mNone\u001b[39;00m:\n\u001b[0;32m    148\u001b[0m     target \u001b[38;5;241m=\u001b[39m \u001b[38;5;28mself\u001b[39m\u001b[38;5;241m.\u001b[39mtarget_transform(target)\n",
      "File \u001b[1;32m~\\anaconda3\\envs\\NNDL_torch\\lib\\site-packages\\torchvision\\transforms\\transforms.py:95\u001b[0m, in \u001b[0;36mCompose.__call__\u001b[1;34m(self, img)\u001b[0m\n\u001b[0;32m     93\u001b[0m \u001b[38;5;28;01mdef\u001b[39;00m \u001b[38;5;21m__call__\u001b[39m(\u001b[38;5;28mself\u001b[39m, img):\n\u001b[0;32m     94\u001b[0m     \u001b[38;5;28;01mfor\u001b[39;00m t \u001b[38;5;129;01min\u001b[39;00m \u001b[38;5;28mself\u001b[39m\u001b[38;5;241m.\u001b[39mtransforms:\n\u001b[1;32m---> 95\u001b[0m         img \u001b[38;5;241m=\u001b[39m \u001b[43mt\u001b[49m\u001b[43m(\u001b[49m\u001b[43mimg\u001b[49m\u001b[43m)\u001b[49m\n\u001b[0;32m     96\u001b[0m     \u001b[38;5;28;01mreturn\u001b[39;00m img\n",
      "File \u001b[1;32m~\\anaconda3\\envs\\NNDL_torch\\lib\\site-packages\\torchvision\\transforms\\transforms.py:135\u001b[0m, in \u001b[0;36mToTensor.__call__\u001b[1;34m(self, pic)\u001b[0m\n\u001b[0;32m    127\u001b[0m \u001b[38;5;28;01mdef\u001b[39;00m \u001b[38;5;21m__call__\u001b[39m(\u001b[38;5;28mself\u001b[39m, pic):\n\u001b[0;32m    128\u001b[0m     \u001b[38;5;124;03m\"\"\"\u001b[39;00m\n\u001b[0;32m    129\u001b[0m \u001b[38;5;124;03m    Args:\u001b[39;00m\n\u001b[0;32m    130\u001b[0m \u001b[38;5;124;03m        pic (PIL Image or numpy.ndarray): Image to be converted to tensor.\u001b[39;00m\n\u001b[1;32m   (...)\u001b[0m\n\u001b[0;32m    133\u001b[0m \u001b[38;5;124;03m        Tensor: Converted image.\u001b[39;00m\n\u001b[0;32m    134\u001b[0m \u001b[38;5;124;03m    \"\"\"\u001b[39;00m\n\u001b[1;32m--> 135\u001b[0m     \u001b[38;5;28;01mreturn\u001b[39;00m \u001b[43mF\u001b[49m\u001b[38;5;241;43m.\u001b[39;49m\u001b[43mto_tensor\u001b[49m\u001b[43m(\u001b[49m\u001b[43mpic\u001b[49m\u001b[43m)\u001b[49m\n",
      "File \u001b[1;32m~\\anaconda3\\envs\\NNDL_torch\\lib\\site-packages\\torchvision\\transforms\\functional.py:151\u001b[0m, in \u001b[0;36mto_tensor\u001b[1;34m(pic)\u001b[0m\n\u001b[0;32m    149\u001b[0m \u001b[38;5;28;01mif\u001b[39;00m pic\u001b[38;5;241m.\u001b[39mmode \u001b[38;5;241m==\u001b[39m \u001b[38;5;124m\"\u001b[39m\u001b[38;5;124m1\u001b[39m\u001b[38;5;124m\"\u001b[39m:\n\u001b[0;32m    150\u001b[0m     img \u001b[38;5;241m=\u001b[39m \u001b[38;5;241m255\u001b[39m \u001b[38;5;241m*\u001b[39m img\n\u001b[1;32m--> 151\u001b[0m img \u001b[38;5;241m=\u001b[39m \u001b[43mimg\u001b[49m\u001b[38;5;241;43m.\u001b[39;49m\u001b[43mview\u001b[49m\u001b[43m(\u001b[49m\u001b[43mpic\u001b[49m\u001b[38;5;241;43m.\u001b[39;49m\u001b[43msize\u001b[49m\u001b[43m[\u001b[49m\u001b[38;5;241;43m1\u001b[39;49m\u001b[43m]\u001b[49m\u001b[43m,\u001b[49m\u001b[43m \u001b[49m\u001b[43mpic\u001b[49m\u001b[38;5;241;43m.\u001b[39;49m\u001b[43msize\u001b[49m\u001b[43m[\u001b[49m\u001b[38;5;241;43m0\u001b[39;49m\u001b[43m]\u001b[49m\u001b[43m,\u001b[49m\u001b[43m \u001b[49m\u001b[38;5;28;43mlen\u001b[39;49m\u001b[43m(\u001b[49m\u001b[43mpic\u001b[49m\u001b[38;5;241;43m.\u001b[39;49m\u001b[43mgetbands\u001b[49m\u001b[43m(\u001b[49m\u001b[43m)\u001b[49m\u001b[43m)\u001b[49m\u001b[43m)\u001b[49m\n\u001b[0;32m    152\u001b[0m \u001b[38;5;66;03m# put it from HWC to CHW format\u001b[39;00m\n\u001b[0;32m    153\u001b[0m img \u001b[38;5;241m=\u001b[39m img\u001b[38;5;241m.\u001b[39mpermute((\u001b[38;5;241m2\u001b[39m, \u001b[38;5;241m0\u001b[39m, \u001b[38;5;241m1\u001b[39m))\u001b[38;5;241m.\u001b[39mcontiguous()\n",
      "\u001b[1;31mKeyboardInterrupt\u001b[0m: "
     ]
    }
   ],
   "source": [
    "### Define the loss function\n",
    "loss_fn = torch.nn.MSELoss()\n",
    "\n",
    "### Define an optimizer (both for the encoder and the decoder!)\n",
    "params_to_optimize = [\n",
    "    {'params': encoder.parameters()},\n",
    "    {'params': decoder.parameters()}\n",
    "]\n",
    "optim = torch.optim.Adam(params_to_optimize, lr=0.0067, weight_decay=1.7e-5)\n",
    "\n",
    "###Train\n",
    "train, test = training_cycle(encoder,\n",
    "                             decoder,\n",
    "                             device,\n",
    "                             train_dataloader,\n",
    "                             test_dataloader,\n",
    "                             loss_fn,\n",
    "                             optim,\n",
    "                             50,\n",
    "                             test_dataset,\n",
    "                             plot=True)"
   ]
  },
  {
   "cell_type": "code",
   "execution_count": 19,
   "id": "434999cf",
   "metadata": {},
   "outputs": [
    {
     "ename": "NameError",
     "evalue": "name 'train' is not defined",
     "output_type": "error",
     "traceback": [
      "\u001b[1;31m---------------------------------------------------------------------------\u001b[0m",
      "\u001b[1;31mNameError\u001b[0m                                 Traceback (most recent call last)",
      "Input \u001b[1;32mIn [19]\u001b[0m, in \u001b[0;36m<cell line: 3>\u001b[1;34m()\u001b[0m\n\u001b[0;32m      1\u001b[0m \u001b[38;5;66;03m# Plot losses by epoch\u001b[39;00m\n\u001b[0;32m      2\u001b[0m plt\u001b[38;5;241m.\u001b[39mfigure(figsize\u001b[38;5;241m=\u001b[39m(\u001b[38;5;241m7\u001b[39m,\u001b[38;5;241m5\u001b[39m))\n\u001b[1;32m----> 3\u001b[0m plt\u001b[38;5;241m.\u001b[39msemilogy(\u001b[43mtrain\u001b[49m, linestyle\u001b[38;5;241m=\u001b[39m\u001b[38;5;124m'\u001b[39m\u001b[38;5;124m--\u001b[39m\u001b[38;5;124m'\u001b[39m, marker\u001b[38;5;241m=\u001b[39m\u001b[38;5;124m'\u001b[39m\u001b[38;5;124mo\u001b[39m\u001b[38;5;124m'\u001b[39m, color\u001b[38;5;241m=\u001b[39m\u001b[38;5;124m'\u001b[39m\u001b[38;5;124mr\u001b[39m\u001b[38;5;124m'\u001b[39m, label\u001b[38;5;241m=\u001b[39m\u001b[38;5;124m'\u001b[39m\u001b[38;5;124mTrain loss\u001b[39m\u001b[38;5;124m'\u001b[39m)\n\u001b[0;32m      4\u001b[0m plt\u001b[38;5;241m.\u001b[39msemilogy(test, linestyle\u001b[38;5;241m=\u001b[39m\u001b[38;5;124m'\u001b[39m\u001b[38;5;124m--\u001b[39m\u001b[38;5;124m'\u001b[39m, marker\u001b[38;5;241m=\u001b[39m\u001b[38;5;124m'\u001b[39m\u001b[38;5;124mo\u001b[39m\u001b[38;5;124m'\u001b[39m, color\u001b[38;5;241m=\u001b[39m\u001b[38;5;124m'\u001b[39m\u001b[38;5;124mg\u001b[39m\u001b[38;5;124m'\u001b[39m, label\u001b[38;5;241m=\u001b[39m\u001b[38;5;124m'\u001b[39m\u001b[38;5;124mTest loss\u001b[39m\u001b[38;5;124m'\u001b[39m)\n\u001b[0;32m      5\u001b[0m plt\u001b[38;5;241m.\u001b[39mxlabel(\u001b[38;5;124m'\u001b[39m\u001b[38;5;124mEpoch\u001b[39m\u001b[38;5;124m'\u001b[39m,fontsize\u001b[38;5;241m=\u001b[39m\u001b[38;5;241m15\u001b[39m)\n",
      "\u001b[1;31mNameError\u001b[0m: name 'train' is not defined"
     ]
    },
    {
     "data": {
      "text/plain": [
       "<Figure size 504x360 with 0 Axes>"
      ]
     },
     "metadata": {},
     "output_type": "display_data"
    }
   ],
   "source": [
    "# Plot losses by epoch\n",
    "plt.figure(figsize=(7,5))\n",
    "plt.semilogy(train, linestyle='--', marker='o', color='r', label='Train loss')\n",
    "plt.semilogy(test, linestyle='--', marker='o', color='g', label='Test loss')\n",
    "plt.xlabel('Epoch',fontsize=15)\n",
    "plt.ylabel('Loss',fontsize=15)\n",
    "plt.title(\"Losses\",fontsize=15)\n",
    "plt.grid()\n",
    "plt.legend()\n",
    "#plt.savefig('./imgs/classification/losses.svg', format='svg')\n",
    "plt.show()"
   ]
  },
  {
   "cell_type": "markdown",
   "id": "c204bb3d",
   "metadata": {},
   "source": [
    "### Latent space exploration"
   ]
  },
  {
   "cell_type": "code",
   "execution_count": null,
   "id": "8e84c890",
   "metadata": {},
   "outputs": [],
   "source": []
  },
  {
   "cell_type": "code",
   "execution_count": null,
   "id": "609438bf",
   "metadata": {},
   "outputs": [],
   "source": []
  },
  {
   "cell_type": "markdown",
   "id": "2d631632",
   "metadata": {},
   "source": [
    "### Convolutional autoencoder fine tuning  "
   ]
  },
  {
   "cell_type": "markdown",
   "id": "5a543c0f",
   "metadata": {},
   "source": [
    "[Fine-tuning vs transfer learning](https://stats.stackexchange.com/questions/343763/fine-tuning-vs-transferlearning-vs-learning-from-scratch#:~:text=Transfer%20learning%20is%20when%20a,the%20model%20with%20a%20dataset.)\n",
    "\n",
    "[Transfer learning & fine-tuning Keras](https://keras.io/guides/transfer_learning/)\n",
    "\n",
    "Transfer learning consists of taking features learned on one problem, and leveraging them on a new, similar problem. For instance, features from a model that has learned to identify racoons may be useful to kick-start a model meant to identify tanukis.\n",
    "\n",
    "Transfer learning is usually done for tasks where your dataset has too little data to train a full-scale model from scratch.\n",
    "\n",
    "The most common incarnation of transfer learning in the context of deep learning is the following workflow:\n",
    "\n",
    "- Take layers from a previously trained model.\n",
    "- Freeze them, so as to avoid destroying any of the information they contain during future training rounds.\n",
    "- Add some new, trainable layers on top of the frozen layers. They will learn to turn the old features into predictions on a new dataset.\n",
    "- Train the new layers on your dataset.\n",
    "\n",
    "A last, optional step, is **fine-tuning**, which consists of unfreezing the entire model you obtained above (or part of it), and re-training it on the new data with a very low learning rate. This can potentially achieve meaningful improvements, by incrementally adapting the pretrained features to the new data.\n",
    "\n",
    "\n",
    "\n",
    "[Transfer learning - Feature extraction vs fine tuning](https://cs231n.github.io/transfer-learning/)\n",
    "\n",
    "[Transfer Learning - Machine Learning's Next Frontier](https://ruder.io/transfer-learning/)"
   ]
  },
  {
   "cell_type": "markdown",
   "id": "df664c6a",
   "metadata": {},
   "source": [
    "Now we have a model that have learnt that there are different categories of elements (the encoder), so we could plug a new layer to the network and use it as a classifier of ten categories. The training will be performed under the supervised paradigm."
   ]
  },
  {
   "cell_type": "code",
   "execution_count": 54,
   "id": "faf1ed3d",
   "metadata": {},
   "outputs": [
    {
     "data": {
      "text/plain": [
       "<All keys matched successfully>"
      ]
     },
     "execution_count": 54,
     "metadata": {},
     "output_type": "execute_result"
    }
   ],
   "source": [
    "# Load network parameters\n",
    "encoder.load_state_dict(torch.load('encoder_params.pth'))\n",
    "decoder.load_state_dict(torch.load('decoder_params.pth'))"
   ]
  },
  {
   "cell_type": "code",
   "execution_count": 55,
   "id": "78a034a6",
   "metadata": {},
   "outputs": [],
   "source": [
    "fine_tuner = nn.Sequential(nn.Linear(encoded_space_dim, 64),\n",
    "                                         nn.ReLU(True),\n",
    "                                         nn.Linear(64, 10),\n",
    "                                         nn.LogSoftmax()\n",
    "                                         )\n",
    "fine_tuner = nn.Linear(encoded_space_dim,10)"
   ]
  },
  {
   "cell_type": "code",
   "execution_count": 56,
   "id": "396a52d9",
   "metadata": {},
   "outputs": [
    {
     "name": "stdout",
     "output_type": "stream",
     "text": [
      "encoder_cnn.0.weight False\n",
      "encoder_cnn.0.bias False\n",
      "encoder_cnn.2.weight False\n",
      "encoder_cnn.2.bias False\n",
      "encoder_cnn.4.weight False\n",
      "encoder_cnn.4.bias False\n",
      "encoder_lin.0.weight True\n",
      "encoder_lin.0.bias True\n",
      "encoder_lin.2.weight True\n",
      "encoder_lin.2.bias True\n"
     ]
    }
   ],
   "source": [
    "### Disable the weight update for the trained encoder\n",
    "for param_name, param in encoder.named_parameters():\n",
    "    param.requires_grad = False\n",
    "    \n",
    "### Allow weight update (training) of the last layers (linear layers)\n",
    "for param in encoder.encoder_lin[0].parameters():\n",
    "    param.requires_grad = True\n",
    "    \n",
    "for param in encoder.encoder_lin[2].parameters():\n",
    "    param.requires_grad = True\n",
    "    \n",
    "    \n",
    "# for param in encoder.encoder_cnn[0].parameters():\n",
    "#     param.requires_grad = True    \n",
    "# for param in encoder.encoder_cnn[2].parameters():\n",
    "#     param.requires_grad = True     \n",
    "# for param in encoder.encoder_cnn[4].parameters():\n",
    "#     param.requires_grad = True     \n",
    "### Check which weights and biases will be updated\n",
    "for param_name, param in encoder.named_parameters():\n",
    "    print(param_name,param.requires_grad)"
   ]
  },
  {
   "cell_type": "code",
   "execution_count": 57,
   "id": "bcb52ed1",
   "metadata": {},
   "outputs": [
    {
     "data": {
      "text/plain": [
       "Linear(in_features=2, out_features=10, bias=True)"
      ]
     },
     "execution_count": 57,
     "metadata": {},
     "output_type": "execute_result"
    }
   ],
   "source": [
    "# Move both the encoder and the new layer to the device\n",
    "encoder.to(device)\n",
    "fine_tuner.to(device)"
   ]
  },
  {
   "cell_type": "markdown",
   "id": "1e72dbae",
   "metadata": {},
   "source": [
    "Now we need to set the usual things for the training of a supervised model.\n",
    "- split the training dataset into training and validation\n",
    "- apply the transforms and define the dataloaders\n",
    "- define training, validation functions and training loop\n",
    "- TRAIN"
   ]
  },
  {
   "cell_type": "code",
   "execution_count": 25,
   "id": "3a609ff0",
   "metadata": {},
   "outputs": [
    {
     "name": "stdout",
     "output_type": "stream",
     "text": [
      "# of training samples  : 42000\n",
      "# of validation samples: 18000\n",
      "# of test samples      : 10000\n"
     ]
    }
   ],
   "source": [
    "#Define a validation dataset\n",
    "train_percent = 0.7\n",
    "n_train      = int(train_percent * len(train_dataset))\n",
    "n_validation = len(train_dataset) - n_train\n",
    "train_dataset, val_dataset = torch.utils.data.random_split(train_dataset, [n_train, n_validation])\n",
    "\n",
    "print('# of training samples  :',len(train_dataset))\n",
    "print('# of validation samples:',len(val_dataset))\n",
    "print('# of test samples      :',len(test_dataset))"
   ]
  },
  {
   "cell_type": "code",
   "execution_count": 58,
   "id": "98f0fece",
   "metadata": {},
   "outputs": [],
   "source": [
    "batch_size = 256\n",
    "train_dataloader      = DataLoader(train_dataset,  batch_size=batch_size,        shuffle=True, num_workers=0)\n",
    "validation_dataloader = DataLoader(val_dataset,    batch_size=len(val_dataset),  shuffle=False, num_workers=0)\n",
    "test_dataloader       = DataLoader(test_dataset,   batch_size=len(test_dataset), shuffle=False, num_workers=0)"
   ]
  },
  {
   "cell_type": "code",
   "execution_count": 59,
   "id": "a9099adc",
   "metadata": {},
   "outputs": [],
   "source": [
    "### Training function\n",
    "def tune_train_epoch(encoder, new_layer, device,dataloader, loss_fn, optimizer):\n",
    "    \"\"\"\n",
    "    This function train the network for one epoch\n",
    "    \"\"\"\n",
    "    # Set train mode for both networks\n",
    "    encoder.train()\n",
    "    new_layer.train()\n",
    "    \n",
    "    # Train\n",
    "    train_loss = []\n",
    "    for x_batched, y_batched in dataloader:\n",
    "        # Move data to device\n",
    "        x_batched = x_batched.to(device)\n",
    "        y_batched = y_batched.to(device)       \n",
    "        # Encode the data\n",
    "        z = encoder(x_batched)\n",
    "        out = new_layer(z)\n",
    "        # Compute loss\n",
    "        loss = loss_fn(out, y_batched)\n",
    "        # Backpropagation\n",
    "        optimizer.zero_grad()\n",
    "        loss.backward()\n",
    "        #Updata weights\n",
    "        optimizer.step()\n",
    "        #Save trai loss for this batch\n",
    "        loss_batch = loss.detach().cpu().numpy()\n",
    "        train_loss.append(loss_batch)\n",
    "    #Save the average train loss\n",
    "    train_loss = np.mean(train_loss)\n",
    "    print(f\"AVERAGE TRAIN LOSS: {train_loss}\")\n",
    "    \n",
    "    return train_loss\n",
    "\n",
    "### Testing function\n",
    "def tune_val_epoch(encoder, new_layer, device, dataloader, loss_fn):\n",
    "    \"\"\"\n",
    "    This function test the network performance for one epoch of training\n",
    "    \"\"\"\n",
    "    # Set evaluation mode for both networks\n",
    "    encoder.eval()\n",
    "    new_layer.eval()\n",
    "    #\n",
    "    val_loss = []\n",
    "    # Discable gradient tracking\n",
    "    with torch.no_grad():\n",
    "        for x_batched, y_batched in dataloader:\n",
    "            # Move data to device\n",
    "            x_batched = x_batched.to(device)\n",
    "            y_batched = y_batched.to(device)\n",
    "            # Encode the data\n",
    "            z   = encoder(x_batched)\n",
    "            out = new_layer(z)\n",
    "            # Compute loss\n",
    "            loss = loss_fn(out, y_batched)\n",
    "             #Save test loss for this batch\n",
    "            loss_batch = loss.detach().cpu().numpy()\n",
    "            val_loss.append(loss_batch)\n",
    "        #Save the average train loss\n",
    "        val_loss = np.mean(val_loss)\n",
    "        print(f\"AVERAGE VALIDATION LOSS: {val_loss}\")\n",
    "    \n",
    "    return val_loss"
   ]
  },
  {
   "cell_type": "code",
   "execution_count": 60,
   "id": "fcb067d1",
   "metadata": {},
   "outputs": [],
   "source": [
    "def tune_training_cycle(encoder,new_layer,device,training_data, val_data, loss_fn, optim,num_epochs,test_dataset):\n",
    "    \"\"\"\n",
    "    This function train the network for a desired number of epochs it also test the network \n",
    "    reconstruction performance and make plots comparing the input image and the reconstructed one.\n",
    "    \"\"\"\n",
    "    #I keep track of losses for plots\n",
    "    train_loss = []\n",
    "    val_loss  = []\n",
    "    for epoch in range(num_epochs):\n",
    "        print('EPOCH %d/%d' % (epoch + 1, num_epochs))\n",
    "        ### Training (use the training function)\n",
    "        tr_l = tune_train_epoch(\n",
    "            encoder=encoder, \n",
    "            new_layer=new_layer, \n",
    "            device=device, \n",
    "            dataloader=training_data, \n",
    "            loss_fn=loss_fn, \n",
    "            optimizer=optim)\n",
    "        train_loss.append(tr_l)\n",
    "        ### Validation  (use the testing function)\n",
    "        v_l = tune_val_epoch(\n",
    "            encoder=encoder, \n",
    "            new_layer=new_layer,  \n",
    "            device=device, \n",
    "            dataloader=val_data, \n",
    "            loss_fn=loss_fn)\n",
    "        val_loss.append(v_l)\n",
    "        # Print Validationloss\n",
    "        #print('\\n\\n\\t VALIDATION - EPOCH %d/%d - loss: %f\\n\\n' % (epoch + 1, num_epochs, t_l))\n",
    "\n",
    "    return train_loss, val_loss"
   ]
  },
  {
   "cell_type": "code",
   "execution_count": 61,
   "id": "d1f3a261",
   "metadata": {
    "scrolled": true
   },
   "outputs": [
    {
     "name": "stdout",
     "output_type": "stream",
     "text": [
      "EPOCH 1/10\n",
      "AVERAGE TRAIN LOSS: 2.138746500015259\n",
      "AVERAGE VALIDATION LOSS: 1.695172905921936\n",
      "EPOCH 2/10\n",
      "AVERAGE TRAIN LOSS: 1.6095162630081177\n",
      "AVERAGE VALIDATION LOSS: 1.5713586807250977\n",
      "EPOCH 3/10\n",
      "AVERAGE TRAIN LOSS: 1.5344152450561523\n",
      "AVERAGE VALIDATION LOSS: 1.5184507369995117\n",
      "EPOCH 4/10\n",
      "AVERAGE TRAIN LOSS: 1.495283842086792\n",
      "AVERAGE VALIDATION LOSS: 1.4903072118759155\n",
      "EPOCH 5/10\n",
      "AVERAGE TRAIN LOSS: 1.4747244119644165\n",
      "AVERAGE VALIDATION LOSS: 1.4733251333236694\n",
      "EPOCH 6/10\n",
      "AVERAGE TRAIN LOSS: 1.4571459293365479\n",
      "AVERAGE VALIDATION LOSS: 1.464327096939087\n",
      "EPOCH 7/10\n",
      "AVERAGE TRAIN LOSS: 1.4450730085372925\n",
      "AVERAGE VALIDATION LOSS: 1.4502732753753662\n",
      "EPOCH 8/10\n",
      "AVERAGE TRAIN LOSS: 1.435755729675293\n",
      "AVERAGE VALIDATION LOSS: 1.444329023361206\n",
      "EPOCH 9/10\n",
      "AVERAGE TRAIN LOSS: 1.4278178215026855\n",
      "AVERAGE VALIDATION LOSS: 1.4352667331695557\n",
      "EPOCH 10/10\n",
      "AVERAGE TRAIN LOSS: 1.4192333221435547\n",
      "AVERAGE VALIDATION LOSS: 1.4273070096969604\n"
     ]
    }
   ],
   "source": [
    "### Define the loss function\n",
    "loss_fn = nn.CrossEntropyLoss()\n",
    "\n",
    "### Define an optimizer (both for the encoder and the decoder!)\n",
    "params_to_optimize = [\n",
    "    {'params': encoder.parameters()},\n",
    "    {'params': decoder.parameters()}\n",
    "]\n",
    "optim = torch.optim.Adam(params_to_optimize, lr=1e-3, weight_decay=0.)\n",
    "\n",
    "###Train\n",
    "train, test = tune_training_cycle(encoder,\n",
    "                             fine_tuner,\n",
    "                             device,\n",
    "                             train_dataloader,\n",
    "                             validation_dataloader,\n",
    "                             loss_fn,\n",
    "                             optim,\n",
    "                             10,\n",
    "                             test_dataset)"
   ]
  },
  {
   "cell_type": "code",
   "execution_count": 62,
   "id": "490dffba",
   "metadata": {},
   "outputs": [
    {
     "data": {
      "image/png": "[encoded data removed]",
      "text/plain": [
       "<Figure size 504x360 with 1 Axes>"
      ]
     },
     "metadata": {
      "needs_background": "light"
     },
     "output_type": "display_data"
    }
   ],
   "source": [
    "# Plot losses by epoch\n",
    "plt.figure(figsize=(7,5))\n",
    "plt.semilogy(train, linestyle='--', marker='o', color='r', label='Train loss')\n",
    "plt.semilogy(test, linestyle='--', marker='o', color='g', label='Test loss')\n",
    "plt.xlabel('Epoch',fontsize=15)\n",
    "plt.ylabel('Loss',fontsize=15)\n",
    "plt.title(\"Losses\",fontsize=15)\n",
    "plt.grid()\n",
    "plt.legend()\n",
    "#plt.ylim(0,2)\n",
    "#plt.savefig('./imgs/classification/losses.svg', format='svg')\n",
    "plt.show()"
   ]
  },
  {
   "cell_type": "markdown",
   "id": "b3714760",
   "metadata": {},
   "source": [
    "Lets evaluate the acuracy on test set"
   ]
  },
  {
   "cell_type": "code",
   "execution_count": 63,
   "id": "472b733b",
   "metadata": {
    "scrolled": true
   },
   "outputs": [
    {
     "name": "stdout",
     "output_type": "stream",
     "text": [
      "The obtained accuracy is 43.120000000000005 %\n"
     ]
    }
   ],
   "source": [
    "test_acc = 0\n",
    "\n",
    "y_test=[]\n",
    "y_pred=[]\n",
    "\n",
    "encoder.to(device)\n",
    "#move the input to the GPU and predict the output\n",
    "encoder.eval()\n",
    "fine_tuner.eval()\n",
    "\n",
    "with torch.no_grad():\n",
    "    for x_batched, y_batched in test_dataloader:\n",
    "        # Move data to device\n",
    "        x_batched = x_batched.to(device)\n",
    "        y_batched = y_batched.to(device)\n",
    "\n",
    "        # Encode the data\n",
    "        z   = encoder(x_batched)\n",
    "        out = fine_tuner(z)\n",
    "\n",
    "        y_test.append(y_batched)\n",
    "        y_pred.append(out)\n",
    "\n",
    "        pred = np.argmax(out.detach().cpu().numpy(), axis = 1)\n",
    "        right = np.sum(pred == np.array(y_batched.cpu()))\n",
    "        test_acc = test_acc + right\n",
    "\n",
    "print(f\"The obtained accuracy is {test_acc/len(test_dataset)*100} %\")"
   ]
  },
  {
   "cell_type": "code",
   "execution_count": 64,
   "id": "9393d080",
   "metadata": {},
   "outputs": [
    {
     "data": {
      "image/png": "[encoded data removed]",
      "text/plain": [
       "<Figure size 576x504 with 2 Axes>"
      ]
     },
     "metadata": {
      "needs_background": "light"
     },
     "output_type": "display_data"
    }
   ],
   "source": [
    "confussion_plot(y_batched, pred)"
   ]
  },
  {
   "cell_type": "code",
   "execution_count": 35,
   "id": "83f45fb5",
   "metadata": {},
   "outputs": [],
   "source": [
    "def confussion_plot(real, prediction):\n",
    "    categories = ['T-shirt/top','Trouser','Pullover',\n",
    "                    'Dress','Coat','Sandal','Shirt',\n",
    "                    'Sneaker','Bag','Ankle boot']\n",
    "\n",
    "    array = confusion_matrix(real, prediction,normalize=\"true\")\n",
    "    df_cm = pd.DataFrame(array, index = categories, columns = categories)\n",
    "    \n",
    "    fig = plt.figure(figsize=(8,7))\n",
    "    sns.heatmap(df_cm, annot=True, fmt='.2f')\n",
    "    plt.ylabel(\"Correct\",fontsize=15)\n",
    "    plt.xlabel(\"Predicted\",fontsize=15)\n",
    "    plt.title(\"Confussion matrix\",fontsize=15)\n",
    "    #plt.savefig('./imgs/classification/confussion.svg', format='svg')\n",
    "    plt.show()"
   ]
  },
  {
   "cell_type": "code",
   "execution_count": null,
   "id": "574b10ae",
   "metadata": {},
   "outputs": [],
   "source": []
  },
  {
   "cell_type": "markdown",
   "id": "ee4f0e62",
   "metadata": {},
   "source": [
    "# Variational Autoenconder, GAN or SimCLR "
   ]
  },
  {
   "cell_type": "code",
   "execution_count": null,
   "id": "93a4962d",
   "metadata": {},
   "outputs": [],
   "source": []
  },
  {
   "cell_type": "code",
   "execution_count": null,
   "id": "367ce678",
   "metadata": {},
   "outputs": [],
   "source": []
  },
  {
   "cell_type": "code",
   "execution_count": null,
   "id": "43b90bf0",
   "metadata": {},
   "outputs": [],
   "source": []
  },
  {
   "cell_type": "code",
   "execution_count": null,
   "id": "d654dc1d",
   "metadata": {},
   "outputs": [],
   "source": []
  },
  {
   "cell_type": "code",
   "execution_count": null,
   "id": "17bb1876",
   "metadata": {},
   "outputs": [],
   "source": []
  }
 ],
 "metadata": {
  "kernelspec": {
   "display_name": "Python 3 (ipykernel)",
   "language": "python",
   "name": "python3"
  },
  "language_info": {
   "codemirror_mode": {
    "name": "ipython",
    "version": 3
   },
   "file_extension": ".py",
   "mimetype": "text/x-python",
   "name": "python",
   "nbconvert_exporter": "python",
   "pygments_lexer": "ipython3",
   "version": "3.8.13"
  },
  "nbTranslate": {
   "displayLangs": [
    "en"
   ],
   "hotkey": "alt-t",
   "langInMainMenu": true,
   "sourceLang": "en",
   "targetLang": "fr",
   "useGoogleTranslate": true
  },
  "toc": {
   "base_numbering": 1,
   "nav_menu": {},
   "number_sections": true,
   "sideBar": true,
   "skip_h1_title": false,
   "title_cell": "Table of Contents",
   "title_sidebar": "Contents",
   "toc_cell": false,
   "toc_position": {
    "height": "735px",
    "left": "793px",
    "top": "879px",
    "width": "313px"
   },
   "toc_section_display": true,
   "toc_window_display": true
  }
 },
 "nbformat": 4,
 "nbformat_minor": 5
}
