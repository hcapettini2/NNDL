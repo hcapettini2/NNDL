{
 "cells": [
  {
   "cell_type": "markdown",
   "id": "f2d70dcf",
   "metadata": {
    "tags": []
   },
   "source": [
    "# Neural Networks and Deep Learning\n",
    "\n",
    "## Homework 3 - Reinforcement Learning\n",
    "\n",
    "### Academic Year 2021/2022 \n",
    "### Dr. Alberto Testolin, Dr. Umberto Michieli\n",
    "\n",
    "### Capettini Croatto Hilario"
   ]
  },
  {
   "cell_type": "code",
   "execution_count": 1,
   "id": "c4789409",
   "metadata": {
    "scrolled": true,
    "tags": []
   },
   "outputs": [],
   "source": [
    "### IMPORTS\n",
    "import random\n",
    "import numpy as np\n",
    "import matplotlib.pyplot as plt\n",
    "import tqdm \n",
    "from collections import deque # Python module useful for replay memory\n",
    "\n",
    "import torch\n",
    "from torch import nn\n",
    "import gym\n",
    "from IPython.display import clear_output\n",
    "\n",
    "# For GIFS production\n",
    "from PIL import Image\n",
    "from IPython.display import Image as Gif_disp"
   ]
  },
  {
   "cell_type": "markdown",
   "id": "11fd580b",
   "metadata": {},
   "source": [
    "## Experience replay \n",
    "\"*To perform experience replay, we store the agent's experiences e_t=(s_t,a_t,r_t,s_t+1) at each time-step t in a data set D_t={e_1,…,e_t}. During learning, we apply Q-learning updates, on samples (or mini-batches) of experience (s,a,r,s′)∼U(D), drawn uniformly at random from the pool of stored samples.*\""
   ]
  },
  {
   "cell_type": "code",
   "execution_count": 2,
   "id": "04094ef5",
   "metadata": {},
   "outputs": [],
   "source": [
    "class ReplayMemory(object):\n",
    "    \n",
    "    def __init__(self, capacity):\n",
    "        \"\"\"Define a queue with maxlen capacity\"\"\"\n",
    "        self.memory = deque(maxlen=capacity) \n",
    "    \n",
    "    def push(self, state, action, next_state, reward):\n",
    "        \"\"\"Add the tuple (state, action, next_state, reward) to the queue\"\"\"\n",
    "        self.memory.append((state, action, next_state, reward))\n",
    "        \n",
    "    def sample(self, batch_size):\n",
    "        \"\"\"randomly select batch_size samples\"\"\"\n",
    "        batch_size = min(batch_size, len(self))\n",
    "        return random.sample(self.memory, batch_size)\n",
    "    \n",
    "    def __len__(self):\n",
    "        \"\"\"Return the number of samples currently stored in memory\"\"\"\n",
    "        return len(self.memory)\n",
    "    "
   ]
  },
  {
   "cell_type": "markdown",
   "id": "d26cd149",
   "metadata": {},
   "source": [
    "## Policy network\n",
    "\n",
    "The policy network takes a **state** as input, and provides the Q-value for each of the possible **actions**."
   ]
  },
  {
   "cell_type": "code",
   "execution_count": 3,
   "id": "6f03357b",
   "metadata": {},
   "outputs": [],
   "source": [
    "class DQN(nn.Module):\n",
    "    \n",
    "    def __init__(self, state_space_dim, action_space_dim):\n",
    "        super().__init__()\n",
    "        \n",
    "        self.linear = nn.Sequential(\n",
    "            nn.Linear(in_features=state_space_dim, out_features=100),\n",
    "            nn.Tanh(),\n",
    "            nn.Linear(in_features=100, out_features=200),\n",
    "            nn.Tanh(),\n",
    "            nn.Linear(in_features=200, out_features=100),\n",
    "            nn.Tanh(),\n",
    "            nn.Linear(in_features=100, out_features=action_space_dim)\n",
    "                )\n",
    "        \n",
    "    def forward(self,x):\n",
    "        return self.linear(x)"
   ]
  },
  {
   "cell_type": "markdown",
   "id": "a3d3458e",
   "metadata": {},
   "source": [
    "## Exploration Policy\n",
    "\n",
    "Starting from the estimated Q-values (one for each action), we need to choose the proper action. This action may be the one expected to provide the highest long term reward (**exploitation**), or maybe we want to find a better policy by choosing a different action (**exploration**).\n",
    "\n",
    "The exploration policy controls this behavior, typically by varying a single parameter.\n",
    "\n",
    "Since our Q-values estimates are far from the true values at the beginning of the training, a high exploration is preferred in the initial phase.\n",
    "\n",
    "The steps are:\n",
    "\n",
    "`Current state -> Policy network -> Q-values -> Exploration Policy -> Action`"
   ]
  },
  {
   "cell_type": "markdown",
   "id": "91db7720",
   "metadata": {},
   "source": [
    "### Softmax policy"
   ]
  },
  {
   "cell_type": "code",
   "execution_count": 4,
   "id": "ff15d4f2",
   "metadata": {},
   "outputs": [],
   "source": [
    "def choose_action_softmax(net, state, temperature):\n",
    "    \"\"\"With a softmax policy we choose the action based on a distribution obtained\n",
    "       applying a softmax (with temperature  τ ) to the estimated Q-values. The highest\n",
    "       the temperature, the more the distribution will converge to a random uniform \n",
    "       distribution. At zero temperature, instead, the policy will always choose the\n",
    "       action with the highest Q-value.\"\"\"\n",
    "    \n",
    "    if temperature < 0:\n",
    "        raise Exeption(\"The temperature value must be greater or equal to 0\")\n",
    "    \n",
    "    # Evaluate the network output from current state\n",
    "    with torch.no_grad():\n",
    "        net.eval()\n",
    "        state = torch.tensor(state, dtype=torch.float32)\n",
    "        net_out = net(state)    \n",
    "    \n",
    "    # If temperature is 0, just select the best action\n",
    "    if temperature == 0:\n",
    "        return int(net_out.argmax()) , net_out.numpy()\n",
    "             \n",
    "    # Apply softmax with temp\n",
    "    temperature = max(temperature, 1e-8) # Set a minimum to the temperature for numerical stability\n",
    "    softmax_out = nn.functional.softmax(net_out / temperature, dim = 0).numpy()\n",
    "    \n",
    "    # Sample the action using softmax output as mass pdf\n",
    "    all_possible_actions = np.arange(0, softmax_out.shape[-1])\n",
    "    action = np.random.choice(all_possible_actions, p = softmax_out) # this samples a random element from \"all_possible_actions\" with the probability distribution p (softmax_out in this case)\n",
    "    \n",
    "    return action, net_out.numpy()"
   ]
  },
  {
   "cell_type": "markdown",
   "id": "d1410a98",
   "metadata": {},
   "source": [
    "## Network update\n"
   ]
  },
  {
   "cell_type": "markdown",
   "id": "0b5be406",
   "metadata": {},
   "source": [
    "### Update function"
   ]
  },
  {
   "cell_type": "code",
   "execution_count": 5,
   "id": "10a3cfff",
   "metadata": {},
   "outputs": [],
   "source": [
    "def update_step(policy_net, target_net, replay_mem, gamma, optimizer, loss_fn, batch_size):\n",
    "    \"\"\"Makes a pass over a randomly sampled batch of the replay memory and update the network accordingly\"\"\"\n",
    "    # Sample the data from replay memory\n",
    "    batch = replay_mem.sample(batch_size)\n",
    "    batch_size = len(batch)\n",
    "    \n",
    "    # Create tensors for each element of the batch\n",
    "    states  = torch.tensor(np.array([s[0] for s in batch]),dtype = torch.float32)\n",
    "    actions = torch.tensor(np.array([s[1] for s in batch]),dtype = torch.int64)\n",
    "    rewards = torch.tensor(np.array([s[3] for s in batch]),dtype = torch.float32)\n",
    "    \n",
    "    \n",
    "    # Compute a mask of non-final states (all the elements where the next state is not None)\n",
    "    non_final_next_states = torch.tensor(np.array([s[2] for s in batch if s[2] is not None]), dtype=torch.float32) # the next state can be None if the game has ended\n",
    "    non_final_mask = torch.tensor(np.array([s[2] is not None for s in batch]), dtype=torch.bool)\n",
    "    \n",
    "    # Compute all the Q values (forward pass)\n",
    "    policy_net.train()\n",
    "    q_values = policy_net(states)\n",
    "    # Select the proper Q value for the corresponding action taken Q(s_t, a)\n",
    "    state_action_values = q_values.gather(1, actions.unsqueeze(1))\n",
    "    \n",
    "    # Compute the value function of the next states using the target network V(s_{t+1}) = max_a( Q_target(s_{t+1}, a)) )\n",
    "    with torch.no_grad():\n",
    "        target_net.eval()\n",
    "        q_values_target = target_net(non_final_next_states)\n",
    "    next_state_max_q_values = torch.zeros(batch_size)\n",
    "    next_state_max_q_values[non_final_mask] = q_values_target.max(dim=1)[0]\n",
    "    \n",
    "    # Compute the expected Q values\n",
    "    expected_state_action_values = rewards + (next_state_max_q_values * gamma)\n",
    "    expected_state_action_values = expected_state_action_values.unsqueeze(1) # Set the required tensor shape\n",
    "\n",
    "    # Compute the Huber loss\n",
    "    loss = loss_fn(state_action_values, expected_state_action_values)\n",
    "\n",
    "    # Optimize the model\n",
    "    optimizer.zero_grad()\n",
    "    loss.backward()\n",
    "    # Apply gradient clipping (clip all the gradients greater than 2 for training stability)\n",
    "    nn.utils.clip_grad_norm_(policy_net.parameters(), 2)\n",
    "    optimizer.step()"
   ]
  },
  {
   "cell_type": "markdown",
   "id": "1568870f",
   "metadata": {},
   "source": [
    "### training Loop"
   ]
  },
  {
   "cell_type": "code",
   "execution_count": 6,
   "id": "45969958",
   "metadata": {},
   "outputs": [],
   "source": [
    "def initialization(param,state_space_dim,action_space_dim):\n",
    "    \"\"\" This function initializes the different components of the reinforcement learning system\n",
    "        (replay memory, networks) and also the optimizer and loss function\"\"\"\n",
    "    ### Initialize the replay memory\n",
    "    replay_mem = ReplayMemory(param[\"replay_memory_capacity\"])\n",
    "\n",
    "    ### Initialize the policy network\n",
    "    policy_net = DQN(state_space_dim,action_space_dim)\n",
    "    \n",
    "    ### Initialize the target network with the same weights of the policy network\n",
    "    target_net = DQN(state_space_dim, action_space_dim)\n",
    "    target_net.load_state_dict(policy_net.state_dict()) # This will copy the weights of the policy network to the target network\n",
    "\n",
    "    ### Initialize the optimizer\n",
    "    optimizer = torch.optim.Adam(policy_net.parameters(), lr=param[\"lr\"]) # The optimizer will update ONLY the parameters of the policy network\n",
    "\n",
    "    ### Initialize the loss function (Huber loss)\n",
    "    loss_fn = nn.SmoothL1Loss()\n",
    "    \n",
    "    return replay_mem, policy_net, target_net, optimizer, loss_fn"
   ]
  },
  {
   "cell_type": "code",
   "execution_count": 7,
   "id": "67548912",
   "metadata": {},
   "outputs": [],
   "source": [
    "def training_lunar_lander(policy_net, target_net, replay_mem, optimizer, loss_fn, exploration_profile, env,\n",
    "              param, verbose=True,reward_fn=\"original\"):\n",
    "    \"\"\" Training loop for the lunar lander.\"\"\"\n",
    "    final_score = []\n",
    "    for episode_num, tau in enumerate(tqdm.tqdm(exploration_profile)):\n",
    "\n",
    "        # Reset the environment and get the initial state\n",
    "        state = env.reset()\n",
    "        # Reset the score. The final score will be the total amount of steps before the pole falls\n",
    "        score = 0\n",
    "        done = False\n",
    "\n",
    "        # Go on until martians destroy the lander\n",
    "        while not done:\n",
    "\n",
    "            # Choose the action following the policy\n",
    "            action, q_values = choose_action_softmax(policy_net, state, temperature=tau)\n",
    "\n",
    "            # Apply the action and get the next state, the reward and a flag \"done\" that is True if the game is ended\n",
    "            next_state, reward_original, done, info = env.step(action)\n",
    "            \n",
    "            # MODIFY REWARD FUNCTION\n",
    "            if reward_fn == \"tweaked\":\n",
    "                x, y, vx, vy, angle, vangle = state[0], state[1], state[2], state[3], state[4], state[5]\n",
    "                left_t, right_t = state[6], state[7]\n",
    "                \n",
    "                # bonus for going down\n",
    "                bonus1 =  1.5*np.abs(vy) if vy <0 else 0\n",
    "                # bonus for getting closer to the pad\n",
    "                bonus2 = -1.5 * np.sqrt(x**2+y**2) \n",
    "            \n",
    "                reward = reward_original + bonus1 + bonus2\n",
    "                \n",
    "            elif reward_fn ==\"original\":\n",
    "                reward = reward_original\n",
    "\n",
    "            # Update the final score adding the reward\n",
    "            score += reward\n",
    "\n",
    "            # Apply penalty for bad state\n",
    "            if done: # if the pole has fallen down \n",
    "                reward += param[\"bad_state_penalty\"]\n",
    "                next_state = None\n",
    "\n",
    "            # Update the replay memory\n",
    "            replay_mem.push(state, action, next_state, reward)\n",
    "\n",
    "            # Update the network\n",
    "            if len(replay_mem) > param[\"min_samples_for_training\"]: # we enable the training only if we have enough samples in the replay memory, otherwise the training will use the same samples too often\n",
    "                update_step(policy_net, target_net, replay_mem, param[\"gamma\"], optimizer, loss_fn, param[\"batch_size\"])\n",
    "\n",
    "            # Visually render the environment (disable to speed up the training)\n",
    "            # WRITE SOME CODE TO SAVE THE IMAGES FOR GIFS\n",
    "\n",
    "            # Set the current state for the next iteration\n",
    "            state = next_state\n",
    "\n",
    "        # Update the target network every target_net_update_steps episodes\n",
    "        if episode_num % param[\"target_net_update_steps\"] == 0:\n",
    "            if verbose: print('Updating target network...')\n",
    "            target_net.load_state_dict(policy_net.state_dict()) # This will copy the weights of the policy network to the target network\n",
    "\n",
    "        # Print the final score\n",
    "        if verbose:\n",
    "            print(f\"EPISODE: {episode_num + 1} - FINAL SCORE: {score} - Temperature: {tau}\") # Print the final score\n",
    "        final_score.append(score)\n",
    "    env.close()\n",
    "    return final_score,policy_net"
   ]
  },
  {
   "cell_type": "markdown",
   "id": "6aa1205e",
   "metadata": {},
   "source": [
    "### Functions for visualization"
   ]
  },
  {
   "cell_type": "code",
   "execution_count": 8,
   "id": "1d115b99",
   "metadata": {},
   "outputs": [],
   "source": [
    "def moving_average(x, w):\n",
    "    \"\"\"It estimates the moving average of a serie using a window of size w\"\"\"\n",
    "    return np.convolve(x, np.ones(w), 'valid') / w"
   ]
  },
  {
   "cell_type": "code",
   "execution_count": 9,
   "id": "53c3b8c8",
   "metadata": {},
   "outputs": [],
   "source": [
    "def plot_results(score,exploration_profile,title=\"\",ymin=-100,ymax=300,yl=200,file_name=\"./Images/\"):\n",
    "    \"\"\"Produce a plot with scores and temperature by iteration.\"\"\"\n",
    "    fig, ax = plt.subplots(figsize=(7,5))\n",
    "    ax2 = ax.twinx()\n",
    "\n",
    "    ax.plot(score, color='slategrey')\n",
    "    ax.plot(moving_average(score, 50), color='navy')\n",
    "    ax.axhline(y = yl, color = 'green', linestyle = '--')\n",
    "    ax.set_ylim(ymin,ymax)\n",
    "    ax.set_ylabel('Score')\n",
    "    ax.legend([\"Episodes score\",\"Moving average of scores\", \"Game Solved\" ])\n",
    "\n",
    "    ax2.plot(exploration_profile, color='red')\n",
    "    ax2.legend([\"Temperature\"], loc='upper center')\n",
    "    ax2.set_ylabel('Temperature')\n",
    "\n",
    "    ax.set_xlabel('Episode')\n",
    "    ax.set_title(title)\n",
    "\n",
    "    #plt.legend()\n",
    "    plt.tight_layout()\n",
    "    plt.savefig(file_name, format='svg')\n",
    "    plt.show()"
   ]
  },
  {
   "cell_type": "code",
   "execution_count": 10,
   "id": "9468def6",
   "metadata": {},
   "outputs": [],
   "source": [
    "def test_function(environment,policy_net,get_gif=False,gif_name =\"\",verbose=True):\n",
    "    \"\"\"If get_frames is true then we recover a list with PIL images one for each survival frame\"\"\"\n",
    "    state = environment.reset()\n",
    "    score = 0\n",
    "    survival_time = 0\n",
    "    frames = []\n",
    "    done = False\n",
    "    # Go on until the pole falls off or the score reach 490\n",
    "    while not done:\n",
    "        if get_gif: frames.append(Image.fromarray(environment.render(mode=\"rgb_array\")))\n",
    "        action, q_values = choose_action_softmax(policy_net, state, temperature=0) # Choose the best action (temperature 0)\n",
    "        next_state, reward, done, info = environment.step(action)              # Apply the action\n",
    "        score += reward                                                        # Update scores\n",
    "        state = next_state                                                     # Set the current state for the next iteration\n",
    "        survival_time +=1\n",
    "    if verbose: print(f\"FINAL SCORE: {score}, SURVIVAL TIME: {survival_time}\") \n",
    "    if get_gif: gif_creator(frames,f\"./Images/{gif_name}.gif\")\n",
    "    \n",
    "    "
   ]
  },
  {
   "cell_type": "code",
   "execution_count": 11,
   "id": "79d3c4d3",
   "metadata": {},
   "outputs": [],
   "source": [
    "def gif_creator(image_list,name):\n",
    "    return image_list[0].save(name,save_all=True, append_images=image_list[1:], duration=50, loop=0)"
   ]
  },
  {
   "cell_type": "markdown",
   "id": "d1c66360",
   "metadata": {},
   "source": [
    "# Lunar Lander\n",
    "\n",
    "**5 pt: train a deep RL agent on a different Gym environment. You are free to choose whatever Gym environment you like from the available list, or even explore other simulation platforms.**"
   ]
  },
  {
   "cell_type": "code",
   "execution_count": 12,
   "id": "0f01500a",
   "metadata": {},
   "outputs": [],
   "source": [
    "#!pip install box2d pygame"
   ]
  },
  {
   "cell_type": "markdown",
   "id": "12eca80b",
   "metadata": {},
   "source": [
    "**Action Space:**\n",
    "\n",
    "There are four discrete actions available: `do nothing`, `fire left` orientation engine, `fire main engine`, `fire right` orientation engine.\n",
    "\n",
    "**Observation Space:**\n",
    "\n",
    "There are 8 states: the `coordinates of the lander` in x & y, its linear `velocities` in x & y, its angle, its `angular velocity`, and two booleans that represent whether each `leg is in contact` with the ground or not.\n",
    "\n",
    "**Rewards:**\n",
    "\n",
    "Reward for moving from the top of the screen to the landing pad and coming to rest is about 100-140 points. If the lander moves away from the landing pad, it loses reward. If the lander crashes, it receives an additional -100 points. If it comes to rest, it receives an additional +100 points. Each leg with ground contact is +10 points. Firing the main engine is -0.3 points each frame. Firing the side engine is -0.03 points each frame. Solved is 200 points."
   ]
  },
  {
   "cell_type": "markdown",
   "id": "c0c7690c",
   "metadata": {},
   "source": [
    "## Default reward function"
   ]
  },
  {
   "cell_type": "code",
   "execution_count": 13,
   "id": "c7631771",
   "metadata": {},
   "outputs": [],
   "source": [
    "# Set random seeds\n",
    "torch.manual_seed(0)\n",
    "np.random.seed(0)\n",
    "random.seed(0)"
   ]
  },
  {
   "cell_type": "code",
   "execution_count": 14,
   "id": "79b0361b",
   "metadata": {},
   "outputs": [
    {
     "name": "stdout",
     "output_type": "stream",
     "text": [
      "STATE SPACE SIZE: 8\n",
      "ACTION SPACE SIZE: 4\n"
     ]
    },
    {
     "name": "stderr",
     "output_type": "stream",
     "text": [
      "/opt/conda/lib/python3.7/site-packages/gym/core.py:318: DeprecationWarning: \u001b[33mWARN: Initializing wrapper in old step API which returns one bool instead of two. It is recommended to set `new_step_api=True` to use new step API. This will be the default behaviour in future.\u001b[0m\n",
      "  \"Initializing wrapper in old step API which returns one bool instead of two. It is recommended to set `new_step_api=True` to use new step API. This will be the default behaviour in future.\"\n",
      "/opt/conda/lib/python3.7/site-packages/gym/wrappers/step_api_compatibility.py:40: DeprecationWarning: \u001b[33mWARN: Initializing environment in old step API which returns one bool instead of two. It is recommended to set `new_step_api=True` to use new step API. This will be the default behaviour in future.\u001b[0m\n",
      "  \"Initializing environment in old step API which returns one bool instead of two. It is recommended to set `new_step_api=True` to use new step API. This will be the default behaviour in future.\"\n"
     ]
    }
   ],
   "source": [
    "### Create environment\n",
    "# Initialize the Gym environment\n",
    "lander_env = gym.make(\"LunarLander-v2\")\n",
    "lander_env.reset(seed=0)\n",
    "\n",
    "# Get the shapes of the state space (observation_space) and action space (action_space)\n",
    "state_space_dim  = lander_env.observation_space.shape[0]\n",
    "action_space_dim = lander_env.action_space.n\n",
    "\n",
    "print(f\"STATE SPACE SIZE: {state_space_dim}\")\n",
    "print(f\"ACTION SPACE SIZE: {action_space_dim}\")"
   ]
  },
  {
   "cell_type": "code",
   "execution_count": 15,
   "id": "b72a9501",
   "metadata": {},
   "outputs": [
    {
     "name": "stderr",
     "output_type": "stream",
     "text": [
      "100%|██████████| 3000/3000 [1:35:43<00:00,  1.91s/it]  \n"
     ]
    }
   ],
   "source": [
    "# Lists to save results\n",
    "num_iterations = 3000\n",
    "\n",
    "initial_value =  3 #5\n",
    "slope         =  6\n",
    "exp_decay = np.exp(-np.log(initial_value) / num_iterations * slope)\n",
    "exploration_profile = [initial_value * (exp_decay ** i) for i in range(num_iterations)]\n",
    "    \n",
    "### PARAMETERS\n",
    "parameters = {\"gamma\":                        0.99,\n",
    "                  \"batch_size\":               64,\n",
    "                  \"bad_state_penalty\":        0,\n",
    "                  \"min_samples_for_training\": 500,\n",
    "                  \"target_net_update_steps\":  5,\n",
    "                  \"lr\":                       1e-3,\n",
    "                  \"replay_memory_capacity\":   10000\n",
    "                  }\n",
    "\n",
    "\n",
    "### Initialize the components\n",
    "replay_mem, policy_net, target_net, optimizer, loss_fn = initialization(parameters,state_space_dim,action_space_dim)\n",
    "### Train the network    \n",
    "score, policy = training_lunar_lander(policy_net, target_net, replay_mem, optimizer, loss_fn, exploration_profile, lander_env,\n",
    "                         parameters, verbose=False)"
   ]
  },
  {
   "cell_type": "code",
   "execution_count": 16,
   "id": "0383c476",
   "metadata": {},
   "outputs": [
    {
     "data": {
      "image/png": "[encoded data removed]",
      "text/plain": [
       "<Figure size 504x360 with 2 Axes>"
      ]
     },
     "metadata": {
      "needs_background": "light"
     },
     "output_type": "display_data"
    }
   ],
   "source": [
    "plot_results(score,exploration_profile,file_name='./Images/lander/lander_original_reward.svg')"
   ]
  },
  {
   "cell_type": "code",
   "execution_count": 17,
   "id": "17431e0a",
   "metadata": {},
   "outputs": [],
   "source": [
    "# Save the best policy network\n",
    "torch.save(policy.state_dict(),'./Best_Models/best_policy_net_lander_original.pth')"
   ]
  },
  {
   "cell_type": "markdown",
   "id": "36509618",
   "metadata": {},
   "source": [
    "### Test"
   ]
  },
  {
   "cell_type": "code",
   "execution_count": 18,
   "id": "77825bd7",
   "metadata": {},
   "outputs": [
    {
     "data": {
      "text/plain": [
       "<All keys matched successfully>"
      ]
     },
     "execution_count": 18,
     "metadata": {},
     "output_type": "execute_result"
    }
   ],
   "source": [
    "# Load the best model\n",
    "policy_net = DQN(state_space_dim,action_space_dim)\n",
    "policy_net.load_state_dict(torch.load('./Best_Models/best_policy_net_lander_original.pth'))"
   ]
  },
  {
   "cell_type": "code",
   "execution_count": 19,
   "id": "73c0da32",
   "metadata": {},
   "outputs": [
    {
     "name": "stderr",
     "output_type": "stream",
     "text": [
      "/opt/conda/lib/python3.7/site-packages/gym/core.py:257: DeprecationWarning: \u001b[33mWARN: Function `env.seed(seed)` is marked as deprecated and will be removed in the future. Please use `env.reset(seed=seed)` instead.\u001b[0m\n",
      "  \"Function `env.seed(seed)` is marked as deprecated and will be removed in the future. \"\n",
      "/opt/conda/lib/python3.7/site-packages/gym/core.py:44: DeprecationWarning: \u001b[33mWARN: The argument mode in render method is deprecated; use render_mode during environment initialization instead.\n",
      "See here for more information: https://www.gymlibrary.ml/content/api/\u001b[0m\n",
      "  \"The argument mode in render method is deprecated; \"\n"
     ]
    },
    {
     "name": "stdout",
     "output_type": "stream",
     "text": [
      "FINAL SCORE: 236.9110180210323, SURVIVAL TIME: 388\n",
      "FINAL SCORE: 19.7472025808797, SURVIVAL TIME: 232\n",
      "FINAL SCORE: 38.2612540273027, SURVIVAL TIME: 258\n",
      "FINAL SCORE: 24.06449812770157, SURVIVAL TIME: 333\n",
      "FINAL SCORE: 100.67411373284797, SURVIVAL TIME: 1000\n"
     ]
    }
   ],
   "source": [
    "# Initialize the Gym environment\n",
    "lander_env = gym.make(\"LunarLander-v2\") \n",
    "lander_env.seed(1) # Set a random seed for the environment (reproducible results)\n",
    "\n",
    "# Let's try for a total of 5 episodes\n",
    "for num_episode in range(5): \n",
    "    test_function(lander_env,policy_net,get_gif=True,gif_name=f\"lander/Trained_Lander_{num_episode}\") \n",
    "lander_env.close()"
   ]
  },
  {
   "cell_type": "code",
   "execution_count": 5,
   "id": "2e893315",
   "metadata": {},
   "outputs": [
    {
     "data": {
      "text/html": [
       "<img src=\"./Images/lander/Trained_Lander_3.gif\"/>"
      ],
      "text/plain": [
       "<IPython.core.display.Image object>"
      ]
     },
     "execution_count": 5,
     "metadata": {},
     "output_type": "execute_result"
    }
   ],
   "source": [
    "Gif_disp(url=\"./Images/lander/Trained_Lander_3.gif\")\n",
    "#Gif_disp(url=\"./Trained_Lander_3.gif\")"
   ]
  },
  {
   "cell_type": "markdown",
   "id": "09161829",
   "metadata": {},
   "source": [
    "## Tweaked reward function"
   ]
  },
  {
   "cell_type": "code",
   "execution_count": 21,
   "id": "215ae275",
   "metadata": {},
   "outputs": [],
   "source": [
    "# Set random seeds\n",
    "torch.manual_seed(0)\n",
    "np.random.seed(0)\n",
    "random.seed(0)"
   ]
  },
  {
   "cell_type": "code",
   "execution_count": 22,
   "id": "2d05f571",
   "metadata": {},
   "outputs": [
    {
     "name": "stdout",
     "output_type": "stream",
     "text": [
      "STATE SPACE SIZE: 8\n",
      "ACTION SPACE SIZE: 4\n"
     ]
    }
   ],
   "source": [
    "### Create environment\n",
    "# Initialize the Gym environment\n",
    "lander_env = gym.make(\"LunarLander-v2\")\n",
    "lander_env.reset(seed=0)\n",
    "\n",
    "# Get the shapes of the state space (observation_space) and action space (action_space)\n",
    "state_space_dim  = lander_env.observation_space.shape[0]\n",
    "action_space_dim = lander_env.action_space.n\n",
    "\n",
    "print(f\"STATE SPACE SIZE: {state_space_dim}\")\n",
    "print(f\"ACTION SPACE SIZE: {action_space_dim}\")"
   ]
  },
  {
   "cell_type": "code",
   "execution_count": 23,
   "id": "264a350d",
   "metadata": {},
   "outputs": [
    {
     "name": "stderr",
     "output_type": "stream",
     "text": [
      "100%|██████████| 3000/3000 [1:27:25<00:00,  1.75s/it]  \n"
     ]
    }
   ],
   "source": [
    "# Lists to save results\n",
    "num_iterations = 3000\n",
    "\n",
    "initial_value =  5\n",
    "slope         =  6\n",
    "exp_decay = np.exp(-np.log(initial_value) / num_iterations * slope)\n",
    "exploration_profile = [initial_value * (exp_decay ** i) for i in range(num_iterations)]\n",
    "    \n",
    "### PARAMETERS\n",
    "parameters = {\"gamma\":                        0.99,\n",
    "                  \"batch_size\":               128,\n",
    "                  \"bad_state_penalty\":        0,\n",
    "                  \"min_samples_for_training\": 1000,\n",
    "                  \"target_net_update_steps\":  10,\n",
    "                  \"lr\":                       1e-3,\n",
    "                  \"replay_memory_capacity\":   10000\n",
    "                  }\n",
    "\n",
    "\n",
    "### Initialize the components\n",
    "replay_mem, policy_net, target_net, optimizer, loss_fn = initialization(parameters,state_space_dim,action_space_dim)\n",
    "### Train the network    \n",
    "tw_score, tw_policy = training_lunar_lander(policy_net, target_net, replay_mem, optimizer, loss_fn, exploration_profile, lander_env,\n",
    "                         parameters, verbose=False,reward_fn=\"tweaked\")"
   ]
  },
  {
   "cell_type": "code",
   "execution_count": 24,
   "id": "57e91bb9",
   "metadata": {},
   "outputs": [
    {
     "data": {
      "image/png": "[encoded data removed]",
      "text/plain": [
       "<Figure size 504x360 with 2 Axes>"
      ]
     },
     "metadata": {
      "needs_background": "light"
     },
     "output_type": "display_data"
    }
   ],
   "source": [
    "plot_results(tw_score, exploration_profile, file_name='./Images/lander/lander_tweaked_reward.svg')"
   ]
  },
  {
   "cell_type": "code",
   "execution_count": 25,
   "id": "3fe974e2",
   "metadata": {},
   "outputs": [],
   "source": [
    "# Save the best policy network\n",
    "torch.save(tw_policy.state_dict(),'./Best_Models/best_policy_net_lander_tweaked.pth')"
   ]
  },
  {
   "cell_type": "markdown",
   "id": "d4fbc615",
   "metadata": {},
   "source": [
    "### Test"
   ]
  },
  {
   "cell_type": "code",
   "execution_count": 26,
   "id": "6cc4d9a6",
   "metadata": {},
   "outputs": [
    {
     "data": {
      "text/plain": [
       "<All keys matched successfully>"
      ]
     },
     "execution_count": 26,
     "metadata": {},
     "output_type": "execute_result"
    }
   ],
   "source": [
    "# Load the best model\n",
    "policy_net = DQN(state_space_dim,action_space_dim)\n",
    "policy_net.load_state_dict(torch.load('./Best_Models/best_policy_net_lander_tweaked.pth'))"
   ]
  },
  {
   "cell_type": "code",
   "execution_count": 27,
   "id": "9388e326",
   "metadata": {},
   "outputs": [
    {
     "name": "stdout",
     "output_type": "stream",
     "text": [
      "FINAL SCORE: 180.80643849973143, SURVIVAL TIME: 306\n",
      "FINAL SCORE: -86.56817542739722, SURVIVAL TIME: 174\n",
      "FINAL SCORE: 20.032616247601368, SURVIVAL TIME: 125\n",
      "FINAL SCORE: 255.91087427352883, SURVIVAL TIME: 225\n",
      "FINAL SCORE: 29.844893639269714, SURVIVAL TIME: 133\n"
     ]
    }
   ],
   "source": [
    "# Initialize the Gym environment\n",
    "lander_env = gym.make(\"LunarLander-v2\") \n",
    "lander_env.seed(1) # Set a random seed for the environment (reproducible results)\n",
    "\n",
    "# Let's try for a total of 5 episodes\n",
    "for num_episode in range(5): \n",
    "    test_function(lander_env,tw_policy,get_gif=True,gif_name=f\"lander/Trained_Tweaked_Lander_{num_episode}\") \n",
    "lander_env.close()"
   ]
  },
  {
   "cell_type": "code",
   "execution_count": 6,
   "id": "6bf95cf1",
   "metadata": {},
   "outputs": [
    {
     "data": {
      "text/html": [
       "<img src=\"./Images/lander/Trained_Tweaked_Lander_3.gif\"/>"
      ],
      "text/plain": [
       "<IPython.core.display.Image object>"
      ]
     },
     "execution_count": 6,
     "metadata": {},
     "output_type": "execute_result"
    }
   ],
   "source": [
    "Gif_disp(url=\"./Images/lander/Trained_Tweaked_Lander_3.gif\")\n",
    "#Gif_disp(url=\"./Trained_Tweaked_Lander_3.gif\")"
   ]
  },
  {
   "cell_type": "code",
   "execution_count": null,
   "id": "db81224c",
   "metadata": {},
   "outputs": [],
   "source": []
  }
 ],
 "metadata": {
  "environment": {
   "kernel": "python3",
   "name": "pytorch-gpu.1-11.m94",
   "type": "gcloud",
   "uri": "gcr.io/deeplearning-platform-release/pytorch-gpu.1-11:m94"
  },
  "kernelspec": {
   "display_name": "Python 3 (ipykernel)",
   "language": "python",
   "name": "python3"
  },
  "language_info": {
   "codemirror_mode": {
    "name": "ipython",
    "version": 3
   },
   "file_extension": ".py",
   "mimetype": "text/x-python",
   "name": "python",
   "nbconvert_exporter": "python",
   "pygments_lexer": "ipython3",
   "version": "3.8.13"
  },
  "nbTranslate": {
   "displayLangs": [
    "*"
   ],
   "hotkey": "alt-t",
   "langInMainMenu": true,
   "sourceLang": "en",
   "targetLang": "fr",
   "useGoogleTranslate": true
  },
  "toc": {
   "base_numbering": 1,
   "nav_menu": {},
   "number_sections": true,
   "sideBar": true,
   "skip_h1_title": false,
   "title_cell": "Table of Contents",
   "title_sidebar": "Contents",
   "toc_cell": false,
   "toc_position": {},
   "toc_section_display": true,
   "toc_window_display": true
  }
 },
 "nbformat": 4,
 "nbformat_minor": 5
}
